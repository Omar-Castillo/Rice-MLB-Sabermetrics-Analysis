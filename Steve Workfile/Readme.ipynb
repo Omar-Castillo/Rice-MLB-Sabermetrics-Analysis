{
 "cells": [
  {
   "attachments": {},
   "cell_type": "markdown",
   "metadata": {},
   "source": [
    "# Given statistical record of players  who were selected to the Hall-Of-Fame and those who weren't, can we predict who might later be selected?\n",
    "\n",
    "### Source Data\t\t\t\t\n",
    "Lahman database\t\thttp://www.seanlahman.com/baseball-archive/statistics/\t\t\n",
    "\n",
    "#### Select players for this evaluation…\n",
    "- who are not pitchers.  They have a completely different set of statistics to be considered.\n",
    "- who generally played from the 1920s on.  \n",
    "*the 19th century was in many ways a different game  \n",
    "the dead-ball era also shaped statistics in a way that had more variance from other decades than any other decade*  \n",
    "- who played at least 10 seasons  \n",
    "- with more than 10 win shares/season; any fewer would surely signify a lesser player.\n",
    "- whose last season was was 2010 or earlier.  These would be eligible for Hall-Of-Fame selection.  Others can be considered for predictions.\n"
   ]
  },
  {
   "cell_type": "markdown",
   "metadata": {},
   "source": [
    "Run this data through the jupyter notebook:  Baseball Data preparation  \n",
    "    output will be batting2.csv"
   ]
  },
  {
   "cell_type": "markdown",
   "metadata": {},
   "source": [
    "#### Import this output into Excel for further processing.  \n",
    "- Count and number the players' season.  For the sake of choosing significant seasons, we will skip any with 45 games played or less.  \n",
    "*These skipped games represent the lowest decile.*\n",
    "- We will take the first ten seasons for each player under further consideration.  \n",
    "*We probably should take the entire career; this would be useful to predict whether a retired player might be selected.  \n",
    "What we want to do here though is make predictions for current players who after all may not have complete careers yet*  \n",
    "- An exception is Babe Ruth, who mostly pitched through his first three seasons and so had fewer plate appearances.  \n",
    "We'll pick him up starting in 1819.  If there were other such players, we'd make exceptions for them as well.\n",
    " \n",
    "Seasonal records are under a different scope than career records, as there are many more of them and they might combine awkwardly at best. One way we can handle this is to quantify them in a way that stands up to being summed while allowing them to remain distinct from career records.  \n",
    "For that, I've taken inspiration from Bill James' Hall Of Fame Monitor, which awards points to players based on seasonal and career achievements. For the present purpose, we'll represent seasonal stats with HOF Monitor points, which are describe on the following sheet.  \n",
    "I have determined the rate that these type of seasons occur and found that points are awarded at a rate that is pretty commeasurate with frequency of occurance. Doubles are an exception,  but this is a somewhat less prominent stat.  To James' original specs, I am adding stolen bases and slugging percentage and proposing rating points accordingly.  Also, noting that home runs standards frequencies are similar to batting average, I have made that slight adjustment.  \n",
    "Update: this done in first notebook.\n",
    "\n",
    "Save the Excel worksheet as batting3.csv"
   ]
  },
  {
   "cell_type": "markdown",
   "metadata": {},
   "source": [
    "##### Next, run the sum_to_career notebook.\n",
    "This notebook, surprisingly enough, sums up all per-year rows into a single career row for each player.  This is also the place where we identify those players who are in the Hall Of Fame.  \n",
    "We identify and discard fields as necessary to reduce the amount of cross-column correlation, which if kept could lead to overfitting.  \n",
    "Finally, we separate the data into two parts: one set of players whose last playing year was 2010 or earlier, and the balance.\n",
    "We'll use the former to train and test a data model, and the other to make predictions on their HOF fate.  Output files are batting4.csv and batting_recent.csv, respectively."
   ]
  },
  {
   "cell_type": "markdown",
   "metadata": {},
   "source": [
    "#### Now run the model notebook, HOF_Logistic_Regression."
   ]
  },
  {
   "cell_type": "markdown",
   "metadata": {},
   "source": [
    "Here, the task becomes a standard Logistic Regression Modeling and Fitting:  \n",
    "- We split the data columns between y (HOF_Member, already converted to 1s and 0s) and X (the remaining numeric columns).\n",
    "- Split the Xs and ys into train and test portions\n",
    "- Scale the X data using StandardScaler\n",
    "- Create the LogisticRegression model\n",
    "- Fit the train data to the model\n",
    "- Use the model to make predictions of y from the X_test data\n",
    "- Score the model"
   ]
  },
  {
   "cell_type": "markdown",
   "metadata": {},
   "source": [
    "Even though the X data has necessarily dropped identifying information (playerID), we can output X and y data for import into an Excel spreadsheet, then match the statistics back into batting4.csv.\n",
    "\n",
    "Finally, we make predictions on the recent player data split off earlier."
   ]
  },
  {
   "cell_type": "code",
   "execution_count": null,
   "metadata": {},
   "outputs": [],
   "source": []
  }
 ],
 "metadata": {
  "kernelspec": {
   "display_name": "Python 3",
   "language": "python",
   "name": "python3"
  },
  "language_info": {
   "codemirror_mode": {
    "name": "ipython",
    "version": 3
   },
   "file_extension": ".py",
   "mimetype": "text/x-python",
   "name": "python",
   "nbconvert_exporter": "python",
   "pygments_lexer": "ipython3",
   "version": "3.7.1"
  }
 },
 "nbformat": 4,
 "nbformat_minor": 2
}
