{
 "cells": [
  {
   "cell_type": "code",
   "execution_count": 1,
   "metadata": {},
   "outputs": [],
   "source": [
    "import numpy as np\n",
    "import pandas as pd"
   ]
  },
  {
   "cell_type": "markdown",
   "metadata": {},
   "source": [
    "Fielding Data.  We'll use it to determine primary player position, and to determine number of games played at tough defensive positions."
   ]
  },
  {
   "cell_type": "code",
   "execution_count": null,
   "metadata": {},
   "outputs": [],
   "source": [
    "fielding_df = pd.read_csv(\"db/Fielding.csv\")\n",
    "xyz = [\"playerID\",\"yearID\",\"POS\",\"G\"]\n",
    "fielding_df = fielding_df[xyz]\n",
    "fielding_df.head()"
   ]
  },
  {
   "cell_type": "code",
   "execution_count": null,
   "metadata": {},
   "outputs": [],
   "source": [
    "# First, copy games played into dedicated columns per position\n",
    "fielding_df[\"Games_P\"]  = np.where(fielding_df[\"POS\"]==\"P\",fielding_df[\"G\"],0)\n",
    "fielding_df[\"Games_C\"]  = np.where(fielding_df[\"POS\"]==\"C\",fielding_df[\"G\"],0)\n",
    "fielding_df[\"Games_1B\"] = np.where(fielding_df[\"POS\"]==\"1B\",fielding_df[\"G\"],0)\n",
    "fielding_df[\"Games_2B\"] = np.where(fielding_df[\"POS\"]==\"2B\",fielding_df[\"G\"],0)\n",
    "fielding_df[\"Games_3B\"] = np.where(fielding_df[\"POS\"]==\"3B\",fielding_df[\"G\"],0)\n",
    "fielding_df[\"Games_SS\"] = np.where(fielding_df[\"POS\"]==\"SS\",fielding_df[\"G\"],0)\n",
    "fielding_df[\"Games_OF\"] = np.where(fielding_df[\"POS\"]==\"OF\",fielding_df[\"G\"],0)\n",
    "fielding_df.head()"
   ]
  },
  {
   "cell_type": "markdown",
   "metadata": {},
   "source": [
    "sum them up per player per year, which will be easier to handle when we eventually find career statistics"
   ]
  },
  {
   "cell_type": "code",
   "execution_count": null,
   "metadata": {},
   "outputs": [],
   "source": [
    "posYrG_df = fielding_df.groupby([\"playerID\",\"yearID\"], as_index=False).sum()\n",
    "posYrG_df.head(20)"
   ]
  },
  {
   "cell_type": "markdown",
   "metadata": {},
   "source": [
    "Drop fielding games, so that it's not confused with an existing batting games field"
   ]
  },
  {
   "cell_type": "code",
   "execution_count": null,
   "metadata": {
    "scrolled": true
   },
   "outputs": [],
   "source": [
    "del posYrG_df[\"G\"]\n",
    "posYrG_df.head()"
   ]
  },
  {
   "cell_type": "markdown",
   "metadata": {},
   "source": [
    "Now, sum them up per player ..."
   ]
  },
  {
   "cell_type": "code",
   "execution_count": null,
   "metadata": {},
   "outputs": [],
   "source": [
    "fielding2_df = fielding_df.groupby([\"playerID\"], as_index=False).sum()\n"
   ]
  },
  {
   "cell_type": "code",
   "execution_count": null,
   "metadata": {},
   "outputs": [],
   "source": [
    "fielding2_df.head(30)"
   ]
  },
  {
   "cell_type": "markdown",
   "metadata": {},
   "source": [
    "... and then find out which is the highest."
   ]
  },
  {
   "cell_type": "code",
   "execution_count": null,
   "metadata": {},
   "outputs": [],
   "source": [
    "positions = []\n",
    "names = []\n",
    "for index, player in fielding2_df.iterrows():\n",
    "    test_games = player[\"Games_P\"]\n",
    "    posit = \"P\"\n",
    "    if player[\"Games_C\"] > test_games:\n",
    "        posit = \"C\"\n",
    "        test_games = player[\"Games_C\"]\n",
    "    if player[\"Games_1B\"] > test_games:\n",
    "        posit = \"1B\"\n",
    "        test_games = player[\"Games_1B\"]\n",
    "    if player[\"Games_2B\"] > test_games:\n",
    "        posit = \"2B\"\n",
    "        test_games = player[\"Games_2B\"]\n",
    "    if player[\"Games_3B\"] > test_games:\n",
    "        posit = \"3B\"\n",
    "        test_games = player[\"Games_3B\"]\n",
    "    if player[\"Games_SS\"] > test_games:\n",
    "        posit = \"SS\"\n",
    "        test_games = player[\"Games_SS\"]\n",
    "    if player[\"Games_OF\"] > test_games:\n",
    "        posit = \"OF\"\n",
    "        test_games = player[\"Games_OF\"]\n",
    "    positions.append(posit)\n",
    "    names.append(player[\"playerID\"])\n",
    "    \n",
    "positions_dict = {\"playerID\": names,\n",
    "                  \"Pos\": positions\n",
    "                 }\n",
    "positions_df = pd.DataFrame(positions_dict)\n",
    "        \n",
    "positions_df.head(10)"
   ]
  },
  {
   "cell_type": "markdown",
   "metadata": {},
   "source": [
    "Win Shares Data.  Pretty much already as we need it."
   ]
  },
  {
   "cell_type": "code",
   "execution_count": null,
   "metadata": {},
   "outputs": [],
   "source": [
    "WS_df = pd.read_csv(\"db/WinShares.csv\")\n",
    "WS_df.head(10)"
   ]
  },
  {
   "cell_type": "markdown",
   "metadata": {},
   "source": [
    "Batting Data.  This will be the source of our statistics."
   ]
  },
  {
   "cell_type": "code",
   "execution_count": null,
   "metadata": {
    "scrolled": true
   },
   "outputs": [],
   "source": [
    "batting_df = pd.read_csv(\"db/Batting.csv\")"
   ]
  },
  {
   "cell_type": "markdown",
   "metadata": {},
   "source": [
    "Since we aren't concerned about per-team statistics, let's combine all multiple-stint years into one row."
   ]
  },
  {
   "cell_type": "code",
   "execution_count": null,
   "metadata": {},
   "outputs": [],
   "source": [
    "batting_df = batting_df.groupby([\"playerID\",\"yearID\"],as_index=False).sum()\n",
    "batting_df.head(10)"
   ]
  },
  {
   "cell_type": "markdown",
   "metadata": {},
   "source": [
    "But first, one more thing.  We'll use At Bats to determine players' most dominent decade."
   ]
  },
  {
   "cell_type": "code",
   "execution_count": null,
   "metadata": {},
   "outputs": [],
   "source": [
    "decades_df = batting_df[[\"playerID\", \"yearID\", \"AB\"]]\n",
    "decades_df"
   ]
  },
  {
   "cell_type": "code",
   "execution_count": null,
   "metadata": {
    "scrolled": true
   },
   "outputs": [],
   "source": [
    "x = decades_df[\"yearID\"] / 10\n",
    "decades_df[\"decade\"] = 10 * x.round()\n",
    "decades_df.head()"
   ]
  },
  {
   "cell_type": "code",
   "execution_count": null,
   "metadata": {},
   "outputs": [],
   "source": [
    "decades_df = decades_df.groupby([\"playerID\", \"decade\"], as_index=False).sum()\n",
    "decades_df.head()"
   ]
  },
  {
   "cell_type": "code",
   "execution_count": null,
   "metadata": {},
   "outputs": [],
   "source": [
    "decades_df = decades_df.sort_values([\"playerID\",\"AB\"], ascending=[True, False]).reset_index()\n",
    "decades_df.head()"
   ]
  },
  {
   "cell_type": "markdown",
   "metadata": {},
   "source": [
    "Keep the first occurance of each player.  Having sorted the data in descending order of at bats, that would be the player's dominant decade."
   ]
  },
  {
   "cell_type": "code",
   "execution_count": null,
   "metadata": {},
   "outputs": [],
   "source": [
    "decades = []\n",
    "names = []\n",
    "prevname = ''\n",
    "for index, player in decades_df.iterrows():\n",
    "    if player[\"playerID\"] != prevname:\n",
    "        names.append(player[\"playerID\"])\n",
    "        decades.append(player[\"decade\"])\n",
    "        prevname=player[\"playerID\"]\n",
    "      \n",
    "decades2_dict = {\"playerID\": names,\n",
    "                  \"decade\": decades}\n",
    "decades2_df = pd.DataFrame(decades2_dict)\n",
    "        "
   ]
  },
  {
   "cell_type": "code",
   "execution_count": null,
   "metadata": {},
   "outputs": [],
   "source": [
    "decades2_df.head(10)"
   ]
  },
  {
   "cell_type": "markdown",
   "metadata": {},
   "source": [
    "Oh, and one more thing.  We need to know the last year a player was active, so that we know if they are even eligible for the Hall of Fame."
   ]
  },
  {
   "cell_type": "code",
   "execution_count": null,
   "metadata": {},
   "outputs": [],
   "source": [
    "years_df = batting_df[[\"playerID\", \"yearID\"]]\n",
    "# drop duplicates that exist because a player might play for more than one team in any given year\n",
    "years_df = years_df.drop_duplicates()\n",
    "lastyear_df = years_df.groupby([\"playerID\"], as_index=False).max(axis=\"yearID\")\n",
    "lastyear_df = lastyear_df.rename(columns={\"yearID\":\"lastyear\"})\n",
    "lastyear_df.head(20)"
   ]
  },
  {
   "cell_type": "code",
   "execution_count": null,
   "metadata": {},
   "outputs": [],
   "source": [
    "# also need number of seasons\n",
    "numyear_df = years_df.groupby([\"playerID\"], as_index=False).count()\n",
    "numyear_df = numyear_df.rename(columns={\"yearID\":\"numyears\"})\n",
    "numyear_df.head(15)"
   ]
  },
  {
   "cell_type": "code",
   "execution_count": null,
   "metadata": {},
   "outputs": [],
   "source": [
    "posYrG_df.columns"
   ]
  },
  {
   "cell_type": "markdown",
   "metadata": {},
   "source": [
    "### Now, it's time to put it all together"
   ]
  },
  {
   "cell_type": "code",
   "execution_count": null,
   "metadata": {},
   "outputs": [],
   "source": [
    "batting_df = pd.merge(batting_df, positions_df, on=\"playerID\", how=\"left\")\n",
    "batting_df = pd.merge(batting_df, WS_df, on=\"playerID\", how=\"left\")\n",
    "batting_df = pd.merge(batting_df, decades2_df, on=\"playerID\", how=\"left\")\n",
    "batting_df = pd.merge(batting_df, lastyear_df, on=\"playerID\", how=\"left\")\n",
    "batting_df = pd.merge(batting_df, numyear_df, on=\"playerID\", how=\"left\")\n",
    "batting_df = pd.merge(batting_df, posYrG_df, on=[\"playerID\", \"yearID\"], how=\"left\")"
   ]
  },
  {
   "cell_type": "code",
   "execution_count": null,
   "metadata": {},
   "outputs": [],
   "source": [
    "batting_df.columns"
   ]
  },
  {
   "cell_type": "markdown",
   "metadata": {},
   "source": [
    "Now we start cutting back players we won't be considering.\n",
    "\n",
    "First, discard pitchers, who would need to be considered under different criteria and whose batting statistics would be irrelevant in any case."
   ]
  },
  {
   "cell_type": "code",
   "execution_count": null,
   "metadata": {},
   "outputs": [],
   "source": [
    "batting2_df = batting_df.loc[batting_df[\"Pos\"] != \"P\", :]"
   ]
  },
  {
   "cell_type": "code",
   "execution_count": null,
   "metadata": {},
   "outputs": [],
   "source": [
    "batting2_df = batting2_df.loc[batting_df[\"decade\"] > 1910, :]"
   ]
  },
  {
   "cell_type": "code",
   "execution_count": null,
   "metadata": {},
   "outputs": [],
   "source": [
    "batting2_df = batting2_df.loc[batting_df[\"numyears\"] > 9, :]"
   ]
  },
  {
   "cell_type": "code",
   "execution_count": null,
   "metadata": {},
   "outputs": [],
   "source": [
    "batting2_df = batting2_df.loc[batting_df[\"CareerWS\"] > 75, :]"
   ]
  },
  {
   "cell_type": "code",
   "execution_count": null,
   "metadata": {},
   "outputs": [],
   "source": [
    "batting2_df[\"wsPerYr\"] = batting2_df[\"CareerWS\"] / batting2_df[\"numyears\"]"
   ]
  },
  {
   "cell_type": "code",
   "execution_count": null,
   "metadata": {
    "scrolled": true
   },
   "outputs": [],
   "source": [
    "batting2_df = batting2_df.loc[batting2_df[\"wsPerYr\"] > 10, :]"
   ]
  },
  {
   "cell_type": "code",
   "execution_count": null,
   "metadata": {},
   "outputs": [],
   "source": [
    "batting2_df.head(5)"
   ]
  },
  {
   "cell_type": "markdown",
   "metadata": {},
   "source": [
    "Let's output the group of eligible players we've found so that we can make final selections.\n",
    "This will be done in Excel so that we can ensure that we have balance over decades and positions."
   ]
  },
  {
   "cell_type": "code",
   "execution_count": null,
   "metadata": {},
   "outputs": [],
   "source": [
    "# drop columns which are no longer needed\n",
    "\n",
    "del batting2_df [\"Games_P\"]\n",
    "del batting2_df [\"Games_OF\"]\n",
    "del batting2_df [\"Games_1B\"]\n",
    "del batting2_df [\"Pos\"]\n",
    "del batting2_df [\"CareerWS\"]\n",
    "del batting2_df [\"decade\"]\n",
    "del batting2_df [\"numyears\"]\n",
    "del batting2_df [\"wsPerYr\"]\n",
    "del batting2_df [\"stint\"]\n",
    "del batting2_df [\"CS\"]\n",
    "del batting2_df [\"SO\"]\n",
    "del batting2_df [\"IBB\"]\n",
    "del batting2_df [\"GIDP\"]\n",
    "\n"
   ]
  },
  {
   "cell_type": "code",
   "execution_count": null,
   "metadata": {},
   "outputs": [],
   "source": [
    "batting2_df[\"PA\"] = batting2_df[\"AB\"] + batting2_df[\"BB\"] + batting2_df[\"HBP\"] + batting2_df[\"SH\"] + batting2_df[\"SF\"]"
   ]
  },
  {
   "cell_type": "code",
   "execution_count": null,
   "metadata": {},
   "outputs": [],
   "source": [
    "# 495 plate appearances to qualify for computed statistics\n",
    "batting2_df[\"AVG\"]  = np.where(batting2_df[\"PA\"] > 495,batting2_df[\"H\"]/batting2_df[\"AB\"],0)\n",
    "batting2_df[\"SLG\"]  = np.where(batting2_df[\"PA\"] > 495,\n",
    "                              (batting2_df[\"H\"]+batting2_df[\"2B\"]+2*batting2_df[\"3B\"]+3*batting2_df[\"HR\"])/batting2_df[\"AB\"],0)"
   ]
  },
  {
   "cell_type": "code",
   "execution_count": null,
   "metadata": {},
   "outputs": [],
   "source": [
    "batting2_df.to_csv(\"db/batting2.csv\", index=False, header=True)"
   ]
  },
  {
   "cell_type": "code",
   "execution_count": null,
   "metadata": {},
   "outputs": [],
   "source": []
  }
 ],
 "metadata": {
  "kernelspec": {
   "display_name": "Python 3",
   "language": "python",
   "name": "python3"
  },
  "language_info": {
   "codemirror_mode": {
    "name": "ipython",
    "version": 3
   },
   "file_extension": ".py",
   "mimetype": "text/x-python",
   "name": "python",
   "nbconvert_exporter": "python",
   "pygments_lexer": "ipython3",
   "version": "3.7.1"
  }
 },
 "nbformat": 4,
 "nbformat_minor": 2
}
