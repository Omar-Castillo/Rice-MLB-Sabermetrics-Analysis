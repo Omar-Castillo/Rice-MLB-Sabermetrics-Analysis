{
 "cells": [
  {
   "cell_type": "code",
   "execution_count": 1,
   "metadata": {},
   "outputs": [],
   "source": [
    "import numpy as np\n",
    "import pandas as pd"
   ]
  },
  {
   "cell_type": "code",
   "execution_count": 2,
   "metadata": {},
   "outputs": [],
   "source": [
    "pitching_df = pd.read_csv(\"db/pitching4.csv\")"
   ]
  },
  {
   "cell_type": "code",
   "execution_count": 3,
   "metadata": {},
   "outputs": [
    {
     "name": "stdout",
     "output_type": "stream",
     "text": [
      "<class 'pandas.core.frame.DataFrame'>\n",
      "RangeIndex: 56 entries, 0 to 55\n",
      "Data columns (total 8 columns):\n",
      "playerID      56 non-null object\n",
      "G             56 non-null int64\n",
      "W             56 non-null int64\n",
      "SO            56 non-null int64\n",
      "PCT           56 non-null float64\n",
      "ERA           56 non-null float64\n",
      "WHIP          56 non-null float64\n",
      "HOF_member    56 non-null int64\n",
      "dtypes: float64(3), int64(4), object(1)\n",
      "memory usage: 3.6+ KB\n"
     ]
    }
   ],
   "source": [
    "pitching_df.info()"
   ]
  },
  {
   "cell_type": "code",
   "execution_count": 4,
   "metadata": {},
   "outputs": [],
   "source": [
    "X = pitching_df[[\"G\",\"W\",\"SO\",\"PCT\",\"ERA\",\"WHIP\"]]\n",
    "y = pitching_df[\"HOF_member\"]"
   ]
  },
  {
   "cell_type": "code",
   "execution_count": null,
   "metadata": {},
   "outputs": [],
   "source": []
  },
  {
   "cell_type": "code",
   "execution_count": null,
   "metadata": {},
   "outputs": [],
   "source": []
  },
  {
   "cell_type": "code",
   "execution_count": 5,
   "metadata": {},
   "outputs": [],
   "source": [
    "from sklearn.linear_model import LogisticRegression\n",
    "from sklearn.model_selection import train_test_split\n",
    "from sklearn.preprocessing import StandardScaler\n",
    "from sklearn.preprocessing import MinMaxScaler"
   ]
  },
  {
   "cell_type": "code",
   "execution_count": 6,
   "metadata": {},
   "outputs": [],
   "source": [
    "# split data into test and train\n",
    "X_train, X_test, y_train, y_test = train_test_split(X,y, random_state=27)\n"
   ]
  },
  {
   "cell_type": "code",
   "execution_count": 7,
   "metadata": {},
   "outputs": [
    {
     "name": "stderr",
     "output_type": "stream",
     "text": [
      "C:\\Users\\Laptop 1\\Anaconda3\\lib\\site-packages\\sklearn\\preprocessing\\data.py:625: DataConversionWarning: Data with input dtype int64, float64 were all converted to float64 by StandardScaler.\n",
      "  return self.partial_fit(X, y)\n",
      "C:\\Users\\Laptop 1\\Anaconda3\\lib\\site-packages\\ipykernel_launcher.py:5: DataConversionWarning: Data with input dtype int64, float64 were all converted to float64 by StandardScaler.\n",
      "  \"\"\"\n",
      "C:\\Users\\Laptop 1\\Anaconda3\\lib\\site-packages\\ipykernel_launcher.py:6: DataConversionWarning: Data with input dtype int64, float64 were all converted to float64 by StandardScaler.\n",
      "  \n"
     ]
    }
   ],
   "source": [
    "# Normalize the data.  Here, we are using StandardScaler\n",
    "X_scaler = StandardScaler().fit(X_train)\n",
    "#X_scaler = MinMaxScaler().fit(X_train)\n",
    "\n",
    "X_train_scaled = X_scaler.transform(X_train)\n",
    "X_test_scaled = X_scaler.transform(X_test)\n",
    "\n"
   ]
  },
  {
   "cell_type": "code",
   "execution_count": 8,
   "metadata": {},
   "outputs": [],
   "source": [
    "model = LogisticRegression(C=1.0, penalty='l2', random_state=0, solver=\"saga\", max_iter=5000)"
   ]
  },
  {
   "cell_type": "code",
   "execution_count": 9,
   "metadata": {},
   "outputs": [
    {
     "data": {
      "text/plain": [
       "(42, 6)"
      ]
     },
     "execution_count": 9,
     "metadata": {},
     "output_type": "execute_result"
    }
   ],
   "source": [
    "X_train_scaled.shape"
   ]
  },
  {
   "cell_type": "code",
   "execution_count": 11,
   "metadata": {},
   "outputs": [
    {
     "data": {
      "text/plain": [
       "(14, 6)"
      ]
     },
     "execution_count": 11,
     "metadata": {},
     "output_type": "execute_result"
    }
   ],
   "source": [
    "X_test_scaled.shape"
   ]
  },
  {
   "cell_type": "code",
   "execution_count": null,
   "metadata": {},
   "outputs": [],
   "source": []
  },
  {
   "cell_type": "code",
   "execution_count": null,
   "metadata": {},
   "outputs": [],
   "source": []
  },
  {
   "cell_type": "code",
   "execution_count": 12,
   "metadata": {
    "scrolled": true
   },
   "outputs": [
    {
     "data": {
      "text/plain": [
       "LogisticRegression(C=1.0, class_weight=None, dual=False, fit_intercept=True,\n",
       "          intercept_scaling=1, max_iter=5000, multi_class='warn',\n",
       "          n_jobs=None, penalty='l2', random_state=0, solver='saga',\n",
       "          tol=0.0001, verbose=0, warm_start=False)"
      ]
     },
     "execution_count": 12,
     "metadata": {},
     "output_type": "execute_result"
    }
   ],
   "source": [
    "model.fit(X_train_scaled,y_train)"
   ]
  },
  {
   "cell_type": "code",
   "execution_count": 13,
   "metadata": {},
   "outputs": [],
   "source": [
    "from sklearn.metrics import mean_squared_error"
   ]
  },
  {
   "cell_type": "code",
   "execution_count": 14,
   "metadata": {},
   "outputs": [
    {
     "name": "stdout",
     "output_type": "stream",
     "text": [
      "MSE: 0.07142857142857142, R2: 0.9285714285714286\n"
     ]
    }
   ],
   "source": [
    "predictions = model.predict(X_test_scaled)\n",
    "MSE = mean_squared_error(y_test, predictions)\n",
    "r2 = model.score(X_test_scaled, y_test)\n",
    "\n",
    "print(f\"MSE: {MSE}, R2: {r2}\") \n"
   ]
  },
  {
   "cell_type": "markdown",
   "metadata": {},
   "source": [
    "If curious about which players in the test split were predicted for what, we can take these two outputs, import and pair them"
   ]
  },
  {
   "cell_type": "code",
   "execution_count": 24,
   "metadata": {},
   "outputs": [
    {
     "name": "stderr",
     "output_type": "stream",
     "text": [
      "C:\\Users\\Laptop 1\\Anaconda3\\lib\\site-packages\\ipykernel_launcher.py:1: SettingWithCopyWarning: \n",
      "A value is trying to be set on a copy of a slice from a DataFrame.\n",
      "Try using .loc[row_indexer,col_indexer] = value instead\n",
      "\n",
      "See the caveats in the documentation: http://pandas.pydata.org/pandas-docs/stable/indexing.html#indexing-view-versus-copy\n",
      "  \"\"\"Entry point for launching an IPython kernel.\n"
     ]
    },
    {
     "data": {
      "text/html": [
       "<div>\n",
       "<style scoped>\n",
       "    .dataframe tbody tr th:only-of-type {\n",
       "        vertical-align: middle;\n",
       "    }\n",
       "\n",
       "    .dataframe tbody tr th {\n",
       "        vertical-align: top;\n",
       "    }\n",
       "\n",
       "    .dataframe thead th {\n",
       "        text-align: right;\n",
       "    }\n",
       "</style>\n",
       "<table border=\"1\" class=\"dataframe\">\n",
       "  <thead>\n",
       "    <tr style=\"text-align: right;\">\n",
       "      <th></th>\n",
       "      <th>G</th>\n",
       "      <th>W</th>\n",
       "      <th>SO</th>\n",
       "      <th>PCT</th>\n",
       "      <th>ERA</th>\n",
       "      <th>WHIP</th>\n",
       "      <th>predictions</th>\n",
       "    </tr>\n",
       "  </thead>\n",
       "  <tbody>\n",
       "    <tr>\n",
       "      <th>49</th>\n",
       "      <td>315</td>\n",
       "      <td>144</td>\n",
       "      <td>1905</td>\n",
       "      <td>0.595041</td>\n",
       "      <td>3.298059</td>\n",
       "      <td>1.178835</td>\n",
       "      <td>1</td>\n",
       "    </tr>\n",
       "    <tr>\n",
       "      <th>18</th>\n",
       "      <td>355</td>\n",
       "      <td>161</td>\n",
       "      <td>1024</td>\n",
       "      <td>0.540268</td>\n",
       "      <td>3.469466</td>\n",
       "      <td>1.353817</td>\n",
       "      <td>1</td>\n",
       "    </tr>\n",
       "    <tr>\n",
       "      <th>20</th>\n",
       "      <td>346</td>\n",
       "      <td>153</td>\n",
       "      <td>742</td>\n",
       "      <td>0.562500</td>\n",
       "      <td>3.614173</td>\n",
       "      <td>1.346027</td>\n",
       "      <td>1</td>\n",
       "    </tr>\n",
       "    <tr>\n",
       "      <th>6</th>\n",
       "      <td>392</td>\n",
       "      <td>192</td>\n",
       "      <td>914</td>\n",
       "      <td>0.600000</td>\n",
       "      <td>2.804982</td>\n",
       "      <td>1.228068</td>\n",
       "      <td>1</td>\n",
       "    </tr>\n",
       "    <tr>\n",
       "      <th>11</th>\n",
       "      <td>370</td>\n",
       "      <td>170</td>\n",
       "      <td>1004</td>\n",
       "      <td>0.584192</td>\n",
       "      <td>2.784510</td>\n",
       "      <td>1.240369</td>\n",
       "      <td>1</td>\n",
       "    </tr>\n",
       "  </tbody>\n",
       "</table>\n",
       "</div>"
      ],
      "text/plain": [
       "      G    W    SO       PCT       ERA      WHIP  predictions\n",
       "49  315  144  1905  0.595041  3.298059  1.178835            1\n",
       "18  355  161  1024  0.540268  3.469466  1.353817            1\n",
       "20  346  153   742  0.562500  3.614173  1.346027            1\n",
       "6   392  192   914  0.600000  2.804982  1.228068            1\n",
       "11  370  170  1004  0.584192  2.784510  1.240369            1"
      ]
     },
     "execution_count": 24,
     "metadata": {},
     "output_type": "execute_result"
    }
   ],
   "source": [
    "X_test[\"predictions\"] = predictions\n",
    "X_test.head()"
   ]
  },
  {
   "cell_type": "code",
   "execution_count": 25,
   "metadata": {},
   "outputs": [],
   "source": [
    "X_test.to_csv(\"db/Xtest.csv\", index=False, header=True)"
   ]
  },
  {
   "cell_type": "markdown",
   "metadata": {},
   "source": [
    "Here's what we've been waiting for:  Let's make Hall-Of-Fame predictions for more recent and current players."
   ]
  },
  {
   "cell_type": "code",
   "execution_count": 15,
   "metadata": {},
   "outputs": [],
   "source": [
    "recent_df = pd.read_csv(\"db/pitching_recent.csv\")"
   ]
  },
  {
   "cell_type": "code",
   "execution_count": 16,
   "metadata": {},
   "outputs": [],
   "source": [
    "recent_players = recent_df[\"playerID\"]\n",
    "X_recent = recent_df[[\"G\",\"W\",\"SO\",\"PCT\",\"ERA\",\"WHIP\"]]\n"
   ]
  },
  {
   "cell_type": "code",
   "execution_count": null,
   "metadata": {},
   "outputs": [],
   "source": []
  },
  {
   "cell_type": "code",
   "execution_count": 17,
   "metadata": {
    "scrolled": true
   },
   "outputs": [
    {
     "name": "stderr",
     "output_type": "stream",
     "text": [
      "C:\\Users\\Laptop 1\\Anaconda3\\lib\\site-packages\\ipykernel_launcher.py:1: DataConversionWarning: Data with input dtype int64, float64 were all converted to float64 by StandardScaler.\n",
      "  \"\"\"Entry point for launching an IPython kernel.\n"
     ]
    }
   ],
   "source": [
    "X_recent_scaled = X_scaler.transform(X_recent)"
   ]
  },
  {
   "cell_type": "code",
   "execution_count": 18,
   "metadata": {},
   "outputs": [],
   "source": [
    "predictions_recent = model.predict(X_recent_scaled)"
   ]
  },
  {
   "cell_type": "code",
   "execution_count": null,
   "metadata": {},
   "outputs": [],
   "source": []
  },
  {
   "cell_type": "code",
   "execution_count": 19,
   "metadata": {
    "scrolled": true
   },
   "outputs": [
    {
     "name": "stderr",
     "output_type": "stream",
     "text": [
      "C:\\Users\\Laptop 1\\Anaconda3\\lib\\site-packages\\ipykernel_launcher.py:1: SettingWithCopyWarning: \n",
      "A value is trying to be set on a copy of a slice from a DataFrame.\n",
      "Try using .loc[row_indexer,col_indexer] = value instead\n",
      "\n",
      "See the caveats in the documentation: http://pandas.pydata.org/pandas-docs/stable/indexing.html#indexing-view-versus-copy\n",
      "  \"\"\"Entry point for launching an IPython kernel.\n"
     ]
    }
   ],
   "source": [
    "X_recent[\"predictions\"] = predictions_recent\n",
    "X_recent[\"playerID\"] = recent_players"
   ]
  },
  {
   "cell_type": "code",
   "execution_count": 20,
   "metadata": {},
   "outputs": [],
   "source": [
    "people_df = pd.read_csv(\"db/people.csv\")"
   ]
  },
  {
   "cell_type": "code",
   "execution_count": 21,
   "metadata": {},
   "outputs": [
    {
     "name": "stderr",
     "output_type": "stream",
     "text": [
      "C:\\Users\\Laptop 1\\Anaconda3\\lib\\site-packages\\ipykernel_launcher.py:2: SettingWithCopyWarning: \n",
      "A value is trying to be set on a copy of a slice from a DataFrame.\n",
      "Try using .loc[row_indexer,col_indexer] = value instead\n",
      "\n",
      "See the caveats in the documentation: http://pandas.pydata.org/pandas-docs/stable/indexing.html#indexing-view-versus-copy\n",
      "  \n"
     ]
    },
    {
     "data": {
      "text/html": [
       "<div>\n",
       "<style scoped>\n",
       "    .dataframe tbody tr th:only-of-type {\n",
       "        vertical-align: middle;\n",
       "    }\n",
       "\n",
       "    .dataframe tbody tr th {\n",
       "        vertical-align: top;\n",
       "    }\n",
       "\n",
       "    .dataframe thead th {\n",
       "        text-align: right;\n",
       "    }\n",
       "</style>\n",
       "<table border=\"1\" class=\"dataframe\">\n",
       "  <thead>\n",
       "    <tr style=\"text-align: right;\">\n",
       "      <th></th>\n",
       "      <th>playerID</th>\n",
       "      <th>nameFirst</th>\n",
       "      <th>nameLast</th>\n",
       "      <th>nameFull</th>\n",
       "    </tr>\n",
       "  </thead>\n",
       "  <tbody>\n",
       "    <tr>\n",
       "      <th>0</th>\n",
       "      <td>aardsda01</td>\n",
       "      <td>David</td>\n",
       "      <td>Aardsma</td>\n",
       "      <td>David Aardsma</td>\n",
       "    </tr>\n",
       "    <tr>\n",
       "      <th>1</th>\n",
       "      <td>aaronha01</td>\n",
       "      <td>Hank</td>\n",
       "      <td>Aaron</td>\n",
       "      <td>Hank Aaron</td>\n",
       "    </tr>\n",
       "    <tr>\n",
       "      <th>2</th>\n",
       "      <td>aaronto01</td>\n",
       "      <td>Tommie</td>\n",
       "      <td>Aaron</td>\n",
       "      <td>Tommie Aaron</td>\n",
       "    </tr>\n",
       "    <tr>\n",
       "      <th>3</th>\n",
       "      <td>aasedo01</td>\n",
       "      <td>Don</td>\n",
       "      <td>Aase</td>\n",
       "      <td>Don Aase</td>\n",
       "    </tr>\n",
       "    <tr>\n",
       "      <th>4</th>\n",
       "      <td>abadan01</td>\n",
       "      <td>Andy</td>\n",
       "      <td>Abad</td>\n",
       "      <td>Andy Abad</td>\n",
       "    </tr>\n",
       "  </tbody>\n",
       "</table>\n",
       "</div>"
      ],
      "text/plain": [
       "    playerID nameFirst nameLast       nameFull\n",
       "0  aardsda01     David  Aardsma  David Aardsma\n",
       "1  aaronha01      Hank    Aaron     Hank Aaron\n",
       "2  aaronto01    Tommie    Aaron   Tommie Aaron\n",
       "3   aasedo01       Don     Aase       Don Aase\n",
       "4   abadan01      Andy     Abad      Andy Abad"
      ]
     },
     "execution_count": 21,
     "metadata": {},
     "output_type": "execute_result"
    }
   ],
   "source": [
    "players_df = people_df[[\"playerID\",\"nameFirst\",\"nameLast\"]]\n",
    "players_df[\"nameFull\"] = players_df[\"nameFirst\"]+' '+players_df[\"nameLast\"]\n",
    "players_df.head()"
   ]
  },
  {
   "cell_type": "code",
   "execution_count": 22,
   "metadata": {},
   "outputs": [],
   "source": [
    "X_recent.to_csv(\"db/Xrecent.csv\", index=False, header=True)"
   ]
  },
  {
   "cell_type": "code",
   "execution_count": 23,
   "metadata": {
    "scrolled": true
   },
   "outputs": [
    {
     "data": {
      "text/html": [
       "<div>\n",
       "<style scoped>\n",
       "    .dataframe tbody tr th:only-of-type {\n",
       "        vertical-align: middle;\n",
       "    }\n",
       "\n",
       "    .dataframe tbody tr th {\n",
       "        vertical-align: top;\n",
       "    }\n",
       "\n",
       "    .dataframe thead th {\n",
       "        text-align: right;\n",
       "    }\n",
       "</style>\n",
       "<table border=\"1\" class=\"dataframe\">\n",
       "  <thead>\n",
       "    <tr style=\"text-align: right;\">\n",
       "      <th></th>\n",
       "      <th>G</th>\n",
       "      <th>W</th>\n",
       "      <th>SO</th>\n",
       "      <th>PCT</th>\n",
       "      <th>ERA</th>\n",
       "      <th>WHIP</th>\n",
       "      <th>predictions</th>\n",
       "      <th>playerID</th>\n",
       "      <th>nameFull</th>\n",
       "    </tr>\n",
       "  </thead>\n",
       "  <tbody>\n",
       "    <tr>\n",
       "      <th>0</th>\n",
       "      <td>331</td>\n",
       "      <td>144</td>\n",
       "      <td>1250</td>\n",
       "      <td>0.569170</td>\n",
       "      <td>3.839189</td>\n",
       "      <td>1.276577</td>\n",
       "      <td>1</td>\n",
       "      <td>buehrma01</td>\n",
       "      <td>Mark Buehrle</td>\n",
       "    </tr>\n",
       "    <tr>\n",
       "      <th>1</th>\n",
       "      <td>329</td>\n",
       "      <td>122</td>\n",
       "      <td>1682</td>\n",
       "      <td>0.575472</td>\n",
       "      <td>3.545649</td>\n",
       "      <td>1.223155</td>\n",
       "      <td>1</td>\n",
       "      <td>greinza01</td>\n",
       "      <td>Zack Greinke</td>\n",
       "    </tr>\n",
       "    <tr>\n",
       "      <th>2</th>\n",
       "      <td>292</td>\n",
       "      <td>143</td>\n",
       "      <td>1438</td>\n",
       "      <td>0.674528</td>\n",
       "      <td>3.192366</td>\n",
       "      <td>1.166412</td>\n",
       "      <td>1</td>\n",
       "      <td>hallaro01</td>\n",
       "      <td>Roy Halladay</td>\n",
       "    </tr>\n",
       "    <tr>\n",
       "      <th>3</th>\n",
       "      <td>307</td>\n",
       "      <td>121</td>\n",
       "      <td>1922</td>\n",
       "      <td>0.570755</td>\n",
       "      <td>3.311869</td>\n",
       "      <td>1.146664</td>\n",
       "      <td>1</td>\n",
       "      <td>hamelco01</td>\n",
       "      <td>Cole Hamels</td>\n",
       "    </tr>\n",
       "    <tr>\n",
       "      <th>4</th>\n",
       "      <td>331</td>\n",
       "      <td>136</td>\n",
       "      <td>1806</td>\n",
       "      <td>0.548387</td>\n",
       "      <td>3.704463</td>\n",
       "      <td>1.171897</td>\n",
       "      <td>1</td>\n",
       "      <td>harenda01</td>\n",
       "      <td>Dan Haren</td>\n",
       "    </tr>\n",
       "    <tr>\n",
       "      <th>5</th>\n",
       "      <td>322</td>\n",
       "      <td>139</td>\n",
       "      <td>2065</td>\n",
       "      <td>0.588983</td>\n",
       "      <td>3.132231</td>\n",
       "      <td>1.177686</td>\n",
       "      <td>1</td>\n",
       "      <td>hernafe02</td>\n",
       "      <td>Felix Hernandez</td>\n",
       "    </tr>\n",
       "    <tr>\n",
       "      <th>6</th>\n",
       "      <td>304</td>\n",
       "      <td>146</td>\n",
       "      <td>1372</td>\n",
       "      <td>0.654709</td>\n",
       "      <td>3.484303</td>\n",
       "      <td>1.253139</td>\n",
       "      <td>1</td>\n",
       "      <td>hudsoti01</td>\n",
       "      <td>Tim Hudson</td>\n",
       "    </tr>\n",
       "    <tr>\n",
       "      <th>7</th>\n",
       "      <td>292</td>\n",
       "      <td>144</td>\n",
       "      <td>2120</td>\n",
       "      <td>0.692308</td>\n",
       "      <td>2.362791</td>\n",
       "      <td>1.001550</td>\n",
       "      <td>1</td>\n",
       "      <td>kershcl01</td>\n",
       "      <td>Clayton Kershaw</td>\n",
       "    </tr>\n",
       "    <tr>\n",
       "      <th>8</th>\n",
       "      <td>295</td>\n",
       "      <td>128</td>\n",
       "      <td>1465</td>\n",
       "      <td>0.576577</td>\n",
       "      <td>4.101812</td>\n",
       "      <td>1.345416</td>\n",
       "      <td>1</td>\n",
       "      <td>lackejo01</td>\n",
       "      <td>John Lackey</td>\n",
       "    </tr>\n",
       "    <tr>\n",
       "      <th>9</th>\n",
       "      <td>304</td>\n",
       "      <td>136</td>\n",
       "      <td>1702</td>\n",
       "      <td>0.623853</td>\n",
       "      <td>3.519212</td>\n",
       "      <td>1.188970</td>\n",
       "      <td>1</td>\n",
       "      <td>leecl02</td>\n",
       "      <td>Cliff Lee</td>\n",
       "    </tr>\n",
       "    <tr>\n",
       "      <th>10</th>\n",
       "      <td>322</td>\n",
       "      <td>148</td>\n",
       "      <td>1931</td>\n",
       "      <td>0.621849</td>\n",
       "      <td>3.432353</td>\n",
       "      <td>1.218627</td>\n",
       "      <td>1</td>\n",
       "      <td>lestejo01</td>\n",
       "      <td>Jon Lester</td>\n",
       "    </tr>\n",
       "    <tr>\n",
       "      <th>11</th>\n",
       "      <td>336</td>\n",
       "      <td>146</td>\n",
       "      <td>1289</td>\n",
       "      <td>0.561538</td>\n",
       "      <td>4.009682</td>\n",
       "      <td>1.321792</td>\n",
       "      <td>1</td>\n",
       "      <td>lowede01</td>\n",
       "      <td>Derek Lowe</td>\n",
       "    </tr>\n",
       "    <tr>\n",
       "      <th>12</th>\n",
       "      <td>316</td>\n",
       "      <td>150</td>\n",
       "      <td>1666</td>\n",
       "      <td>0.643777</td>\n",
       "      <td>3.180149</td>\n",
       "      <td>1.183623</td>\n",
       "      <td>1</td>\n",
       "      <td>oswalro01</td>\n",
       "      <td>Roy Oswalt</td>\n",
       "    </tr>\n",
       "    <tr>\n",
       "      <th>13</th>\n",
       "      <td>316</td>\n",
       "      <td>166</td>\n",
       "      <td>1446</td>\n",
       "      <td>0.656126</td>\n",
       "      <td>3.769727</td>\n",
       "      <td>1.344417</td>\n",
       "      <td>1</td>\n",
       "      <td>pettian01</td>\n",
       "      <td>Andy Pettitte</td>\n",
       "    </tr>\n",
       "    <tr>\n",
       "      <th>14</th>\n",
       "      <td>278</td>\n",
       "      <td>137</td>\n",
       "      <td>1765</td>\n",
       "      <td>0.655502</td>\n",
       "      <td>3.259044</td>\n",
       "      <td>1.143610</td>\n",
       "      <td>1</td>\n",
       "      <td>priceda01</td>\n",
       "      <td>David Price</td>\n",
       "    </tr>\n",
       "    <tr>\n",
       "      <th>15</th>\n",
       "      <td>322</td>\n",
       "      <td>157</td>\n",
       "      <td>1787</td>\n",
       "      <td>0.640816</td>\n",
       "      <td>3.571227</td>\n",
       "      <td>1.227551</td>\n",
       "      <td>1</td>\n",
       "      <td>sabatcc01</td>\n",
       "      <td>CC Sabathia</td>\n",
       "    </tr>\n",
       "    <tr>\n",
       "      <th>16</th>\n",
       "      <td>315</td>\n",
       "      <td>136</td>\n",
       "      <td>1896</td>\n",
       "      <td>0.644550</td>\n",
       "      <td>3.018987</td>\n",
       "      <td>1.092300</td>\n",
       "      <td>1</td>\n",
       "      <td>santajo01</td>\n",
       "      <td>Johan Santana</td>\n",
       "    </tr>\n",
       "    <tr>\n",
       "      <th>17</th>\n",
       "      <td>322</td>\n",
       "      <td>159</td>\n",
       "      <td>2383</td>\n",
       "      <td>0.670886</td>\n",
       "      <td>3.221665</td>\n",
       "      <td>1.093775</td>\n",
       "      <td>1</td>\n",
       "      <td>scherma01</td>\n",
       "      <td>Max Scherzer</td>\n",
       "    </tr>\n",
       "    <tr>\n",
       "      <th>18</th>\n",
       "      <td>322</td>\n",
       "      <td>115</td>\n",
       "      <td>1815</td>\n",
       "      <td>0.504386</td>\n",
       "      <td>4.281073</td>\n",
       "      <td>1.260223</td>\n",
       "      <td>1</td>\n",
       "      <td>vazquja01</td>\n",
       "      <td>Javier Vazquez</td>\n",
       "    </tr>\n",
       "    <tr>\n",
       "      <th>19</th>\n",
       "      <td>316</td>\n",
       "      <td>157</td>\n",
       "      <td>1936</td>\n",
       "      <td>0.623016</td>\n",
       "      <td>3.497143</td>\n",
       "      <td>1.201429</td>\n",
       "      <td>1</td>\n",
       "      <td>verlaju01</td>\n",
       "      <td>Justin Verlander</td>\n",
       "    </tr>\n",
       "    <tr>\n",
       "      <th>20</th>\n",
       "      <td>274</td>\n",
       "      <td>142</td>\n",
       "      <td>1491</td>\n",
       "      <td>0.642534</td>\n",
       "      <td>3.314552</td>\n",
       "      <td>1.212313</td>\n",
       "      <td>1</td>\n",
       "      <td>wainwad01</td>\n",
       "      <td>Adam Wainwright</td>\n",
       "    </tr>\n",
       "    <tr>\n",
       "      <th>21</th>\n",
       "      <td>291</td>\n",
       "      <td>138</td>\n",
       "      <td>1495</td>\n",
       "      <td>0.630137</td>\n",
       "      <td>3.401191</td>\n",
       "      <td>1.158636</td>\n",
       "      <td>1</td>\n",
       "      <td>weaveje02</td>\n",
       "      <td>Jered Weaver</td>\n",
       "    </tr>\n",
       "    <tr>\n",
       "      <th>22</th>\n",
       "      <td>313</td>\n",
       "      <td>124</td>\n",
       "      <td>1538</td>\n",
       "      <td>0.610837</td>\n",
       "      <td>3.552501</td>\n",
       "      <td>1.313909</td>\n",
       "      <td>1</td>\n",
       "      <td>zambrca01</td>\n",
       "      <td>Carlos Zambrano</td>\n",
       "    </tr>\n",
       "  </tbody>\n",
       "</table>\n",
       "</div>"
      ],
      "text/plain": [
       "      G    W    SO       PCT       ERA      WHIP  predictions   playerID  \\\n",
       "0   331  144  1250  0.569170  3.839189  1.276577            1  buehrma01   \n",
       "1   329  122  1682  0.575472  3.545649  1.223155            1  greinza01   \n",
       "2   292  143  1438  0.674528  3.192366  1.166412            1  hallaro01   \n",
       "3   307  121  1922  0.570755  3.311869  1.146664            1  hamelco01   \n",
       "4   331  136  1806  0.548387  3.704463  1.171897            1  harenda01   \n",
       "5   322  139  2065  0.588983  3.132231  1.177686            1  hernafe02   \n",
       "6   304  146  1372  0.654709  3.484303  1.253139            1  hudsoti01   \n",
       "7   292  144  2120  0.692308  2.362791  1.001550            1  kershcl01   \n",
       "8   295  128  1465  0.576577  4.101812  1.345416            1  lackejo01   \n",
       "9   304  136  1702  0.623853  3.519212  1.188970            1    leecl02   \n",
       "10  322  148  1931  0.621849  3.432353  1.218627            1  lestejo01   \n",
       "11  336  146  1289  0.561538  4.009682  1.321792            1   lowede01   \n",
       "12  316  150  1666  0.643777  3.180149  1.183623            1  oswalro01   \n",
       "13  316  166  1446  0.656126  3.769727  1.344417            1  pettian01   \n",
       "14  278  137  1765  0.655502  3.259044  1.143610            1  priceda01   \n",
       "15  322  157  1787  0.640816  3.571227  1.227551            1  sabatcc01   \n",
       "16  315  136  1896  0.644550  3.018987  1.092300            1  santajo01   \n",
       "17  322  159  2383  0.670886  3.221665  1.093775            1  scherma01   \n",
       "18  322  115  1815  0.504386  4.281073  1.260223            1  vazquja01   \n",
       "19  316  157  1936  0.623016  3.497143  1.201429            1  verlaju01   \n",
       "20  274  142  1491  0.642534  3.314552  1.212313            1  wainwad01   \n",
       "21  291  138  1495  0.630137  3.401191  1.158636            1  weaveje02   \n",
       "22  313  124  1538  0.610837  3.552501  1.313909            1  zambrca01   \n",
       "\n",
       "            nameFull  \n",
       "0       Mark Buehrle  \n",
       "1       Zack Greinke  \n",
       "2       Roy Halladay  \n",
       "3        Cole Hamels  \n",
       "4          Dan Haren  \n",
       "5    Felix Hernandez  \n",
       "6         Tim Hudson  \n",
       "7    Clayton Kershaw  \n",
       "8        John Lackey  \n",
       "9          Cliff Lee  \n",
       "10        Jon Lester  \n",
       "11        Derek Lowe  \n",
       "12        Roy Oswalt  \n",
       "13     Andy Pettitte  \n",
       "14       David Price  \n",
       "15       CC Sabathia  \n",
       "16     Johan Santana  \n",
       "17      Max Scherzer  \n",
       "18    Javier Vazquez  \n",
       "19  Justin Verlander  \n",
       "20   Adam Wainwright  \n",
       "21      Jered Weaver  \n",
       "22   Carlos Zambrano  "
      ]
     },
     "metadata": {},
     "output_type": "display_data"
    }
   ],
   "source": [
    "Predicted_for_HOF = X_recent.loc[X_recent[\"predictions\"] == 1, :]\n",
    "Predicted_for_HOF = pd.merge(Predicted_for_HOF, players_df, on=\"playerID\", how=\"left\")\n",
    "del Predicted_for_HOF[\"nameFirst\"]\n",
    "del Predicted_for_HOF[\"nameLast\"]\n",
    "display(Predicted_for_HOF)"
   ]
  },
  {
   "cell_type": "code",
   "execution_count": null,
   "metadata": {},
   "outputs": [],
   "source": []
  }
 ],
 "metadata": {
  "kernelspec": {
   "display_name": "Python 3",
   "language": "python",
   "name": "python3"
  },
  "language_info": {
   "codemirror_mode": {
    "name": "ipython",
    "version": 3
   },
   "file_extension": ".py",
   "mimetype": "text/x-python",
   "name": "python",
   "nbconvert_exporter": "python",
   "pygments_lexer": "ipython3",
   "version": "3.7.1"
  }
 },
 "nbformat": 4,
 "nbformat_minor": 2
}
