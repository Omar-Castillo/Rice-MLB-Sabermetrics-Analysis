{
 "cells": [
  {
   "cell_type": "code",
   "execution_count": 194,
   "metadata": {},
   "outputs": [],
   "source": [
    "import pandas as pd\n",
    "import numpy as np\n",
    "import matplotlib.pyplot as plt \n",
    "import datetime as dt\n",
    "from pybaseball import statcast, batting_stats_range, batting_stats, statcast_pitcher,playerid_lookup,statcast_batter\n",
    "import plotly.express as px\n",
    "import plotly.graph_objects as go"
   ]
  },
  {
   "cell_type": "code",
   "execution_count": 3,
   "metadata": {},
   "outputs": [],
   "source": [
    "#bring in statcast pitching data for 2019\n",
    "# data = statcast('2019-03-20', '2019-09-29')\n"
   ]
  },
  {
   "cell_type": "code",
   "execution_count": 4,
   "metadata": {},
   "outputs": [],
   "source": [
    "# statcast_19 = pd.DataFrame(data)\n",
    "# print(statcast_19.shape)"
   ]
  },
  {
   "cell_type": "code",
   "execution_count": 5,
   "metadata": {},
   "outputs": [],
   "source": [
    "#send new complete 2019 statcast data to csv file \n",
    "# statcast_19.to_csv(\"Data/statcast_2019.csv\", index=False)"
   ]
  },
  {
   "cell_type": "code",
   "execution_count": 6,
   "metadata": {},
   "outputs": [
    {
     "name": "stdout",
     "output_type": "stream",
     "text": [
      "Gathering player lookup table. This may take a moment.\n"
     ]
    },
    {
     "data": {
      "text/html": [
       "<div>\n",
       "<style scoped>\n",
       "    .dataframe tbody tr th:only-of-type {\n",
       "        vertical-align: middle;\n",
       "    }\n",
       "\n",
       "    .dataframe tbody tr th {\n",
       "        vertical-align: top;\n",
       "    }\n",
       "\n",
       "    .dataframe thead th {\n",
       "        text-align: right;\n",
       "    }\n",
       "</style>\n",
       "<table border=\"1\" class=\"dataframe\">\n",
       "  <thead>\n",
       "    <tr style=\"text-align: right;\">\n",
       "      <th></th>\n",
       "      <th>name_last</th>\n",
       "      <th>name_first</th>\n",
       "      <th>key_mlbam</th>\n",
       "      <th>key_retro</th>\n",
       "      <th>key_bbref</th>\n",
       "      <th>key_fangraphs</th>\n",
       "      <th>mlb_played_first</th>\n",
       "      <th>mlb_played_last</th>\n",
       "    </tr>\n",
       "  </thead>\n",
       "  <tbody>\n",
       "    <tr>\n",
       "      <th>0</th>\n",
       "      <td>altuve</td>\n",
       "      <td>jose</td>\n",
       "      <td>514888</td>\n",
       "      <td>altuj001</td>\n",
       "      <td>altuvjo01</td>\n",
       "      <td>5417</td>\n",
       "      <td>2011.0</td>\n",
       "      <td>2020.0</td>\n",
       "    </tr>\n",
       "  </tbody>\n",
       "</table>\n",
       "</div>"
      ],
      "text/plain": [
       "  name_last name_first  key_mlbam key_retro  key_bbref  key_fangraphs  \\\n",
       "0    altuve       jose     514888  altuj001  altuvjo01           5417   \n",
       "\n",
       "   mlb_played_first  mlb_played_last  \n",
       "0            2011.0           2020.0  "
      ]
     },
     "execution_count": 6,
     "metadata": {},
     "output_type": "execute_result"
    }
   ],
   "source": [
    "#bring in player specific data for Jose Altuve, need to lookup his MLB player ID\n",
    "playerid_lookup('altuve', 'jose')"
   ]
  },
  {
   "cell_type": "code",
   "execution_count": 7,
   "metadata": {},
   "outputs": [
    {
     "name": "stdout",
     "output_type": "stream",
     "text": [
      "Gathering player lookup table. This may take a moment.\n"
     ]
    },
    {
     "data": {
      "text/html": [
       "<div>\n",
       "<style scoped>\n",
       "    .dataframe tbody tr th:only-of-type {\n",
       "        vertical-align: middle;\n",
       "    }\n",
       "\n",
       "    .dataframe tbody tr th {\n",
       "        vertical-align: top;\n",
       "    }\n",
       "\n",
       "    .dataframe thead th {\n",
       "        text-align: right;\n",
       "    }\n",
       "</style>\n",
       "<table border=\"1\" class=\"dataframe\">\n",
       "  <thead>\n",
       "    <tr style=\"text-align: right;\">\n",
       "      <th></th>\n",
       "      <th>name_last</th>\n",
       "      <th>name_first</th>\n",
       "      <th>key_mlbam</th>\n",
       "      <th>key_retro</th>\n",
       "      <th>key_bbref</th>\n",
       "      <th>key_fangraphs</th>\n",
       "      <th>mlb_played_first</th>\n",
       "      <th>mlb_played_last</th>\n",
       "    </tr>\n",
       "  </thead>\n",
       "  <tbody>\n",
       "    <tr>\n",
       "      <th>0</th>\n",
       "      <td>darvish</td>\n",
       "      <td>yu</td>\n",
       "      <td>506433</td>\n",
       "      <td>darvy001</td>\n",
       "      <td>darviyu01</td>\n",
       "      <td>13074</td>\n",
       "      <td>2012.0</td>\n",
       "      <td>2020.0</td>\n",
       "    </tr>\n",
       "  </tbody>\n",
       "</table>\n",
       "</div>"
      ],
      "text/plain": [
       "  name_last name_first  key_mlbam key_retro  key_bbref  key_fangraphs  \\\n",
       "0   darvish         yu     506433  darvy001  darviyu01          13074   \n",
       "\n",
       "   mlb_played_first  mlb_played_last  \n",
       "0            2012.0           2020.0  "
      ]
     },
     "execution_count": 7,
     "metadata": {},
     "output_type": "execute_result"
    }
   ],
   "source": [
    "#bring in player for Yu Darvish, need to look up his MLB Player ID\n",
    "playerid_lookup('darvish', 'yu')"
   ]
  },
  {
   "cell_type": "code",
   "execution_count": 8,
   "metadata": {},
   "outputs": [
    {
     "name": "stdout",
     "output_type": "stream",
     "text": [
      "Gathering Player Data\n",
      "Gathering Player Data\n"
     ]
    }
   ],
   "source": [
    "#bring in pitch and batting specific data for Darvish and Altuve for 2019\n",
    "altuve_stats19 = statcast_batter('2019-03-20', '2019-09-29', 514888)\n",
    "darvish_stats19 = statcast_pitcher('2019-03-20', '2019-09-29',506433)\n"
   ]
  },
  {
   "cell_type": "code",
   "execution_count": 54,
   "metadata": {},
   "outputs": [
    {
     "name": "stdout",
     "output_type": "stream",
     "text": [
      "Gathering Player Data\n",
      "Gathering Player Data\n"
     ]
    }
   ],
   "source": [
    "#bring in pitch and batting specific data for Darvish and Altuve for 2020 YTD\n",
    "altuve_stats20 = statcast_batter('2020-07-20', '2020-09-08', 514888)\n",
    "darvish_stats20 = statcast_pitcher('2020-07-20', '2020-09-08',506433)\n"
   ]
  },
  {
   "cell_type": "code",
   "execution_count": 101,
   "metadata": {},
   "outputs": [
    {
     "name": "stdout",
     "output_type": "stream",
     "text": [
      "Gathering Player Data\n"
     ]
    }
   ],
   "source": [
    "#lets pull in all of YU data since 2016\n",
    "darvish_data = statcast_pitcher('2016-04-01', '2020-09-08', player_id = 506433)"
   ]
  },
  {
   "cell_type": "code",
   "execution_count": 102,
   "metadata": {},
   "outputs": [
    {
     "data": {
      "text/plain": [
       "(9318, 89)"
      ]
     },
     "execution_count": 102,
     "metadata": {},
     "output_type": "execute_result"
    }
   ],
   "source": [
    "darvish_data.shape"
   ]
  },
  {
   "cell_type": "code",
   "execution_count": 9,
   "metadata": {},
   "outputs": [
    {
     "data": {
      "text/plain": [
       "Index(['pitch_type', 'game_date', 'release_speed', 'release_pos_x',\n",
       "       'release_pos_z', 'player_name', 'batter', 'pitcher', 'events',\n",
       "       'description', 'spin_dir', 'spin_rate_deprecated',\n",
       "       'break_angle_deprecated', 'break_length_deprecated', 'zone', 'des',\n",
       "       'game_type', 'stand', 'p_throws', 'home_team', 'away_team', 'type',\n",
       "       'hit_location', 'bb_type', 'balls', 'strikes', 'game_year', 'pfx_x',\n",
       "       'pfx_z', 'plate_x', 'plate_z', 'on_3b', 'on_2b', 'on_1b',\n",
       "       'outs_when_up', 'inning', 'inning_topbot', 'hc_x', 'hc_y',\n",
       "       'tfs_deprecated', 'tfs_zulu_deprecated', 'fielder_2', 'umpire', 'sv_id',\n",
       "       'vx0', 'vy0', 'vz0', 'ax', 'ay', 'az', 'sz_top', 'sz_bot',\n",
       "       'hit_distance_sc', 'launch_speed', 'launch_angle', 'effective_speed',\n",
       "       'release_spin_rate', 'release_extension', 'game_pk', 'pitcher.1',\n",
       "       'fielder_2.1', 'fielder_3', 'fielder_4', 'fielder_5', 'fielder_6',\n",
       "       'fielder_7', 'fielder_8', 'fielder_9', 'release_pos_y',\n",
       "       'estimated_ba_using_speedangle', 'estimated_woba_using_speedangle',\n",
       "       'woba_value', 'woba_denom', 'babip_value', 'iso_value',\n",
       "       'launch_speed_angle', 'at_bat_number', 'pitch_number', 'pitch_name',\n",
       "       'home_score', 'away_score', 'bat_score', 'fld_score', 'post_away_score',\n",
       "       'post_home_score', 'post_bat_score', 'post_fld_score',\n",
       "       'if_fielding_alignment', 'of_fielding_alignment'],\n",
       "      dtype='object')"
      ]
     },
     "execution_count": 9,
     "metadata": {},
     "output_type": "execute_result"
    }
   ],
   "source": [
    "#review column data\n",
    "darvish_stats19.columns"
   ]
  },
  {
   "cell_type": "code",
   "execution_count": 10,
   "metadata": {},
   "outputs": [
    {
     "data": {
      "text/html": [
       "<div>\n",
       "<style scoped>\n",
       "    .dataframe tbody tr th:only-of-type {\n",
       "        vertical-align: middle;\n",
       "    }\n",
       "\n",
       "    .dataframe tbody tr th {\n",
       "        vertical-align: top;\n",
       "    }\n",
       "\n",
       "    .dataframe thead th {\n",
       "        text-align: right;\n",
       "    }\n",
       "</style>\n",
       "<table border=\"1\" class=\"dataframe\">\n",
       "  <thead>\n",
       "    <tr style=\"text-align: right;\">\n",
       "      <th></th>\n",
       "      <th>count</th>\n",
       "      <th>mean</th>\n",
       "      <th>std</th>\n",
       "      <th>min</th>\n",
       "      <th>25%</th>\n",
       "      <th>50%</th>\n",
       "      <th>75%</th>\n",
       "      <th>max</th>\n",
       "    </tr>\n",
       "  </thead>\n",
       "  <tbody>\n",
       "    <tr>\n",
       "      <th>release_speed</th>\n",
       "      <td>2848.0</td>\n",
       "      <td>88.329424</td>\n",
       "      <td>5.603706</td>\n",
       "      <td>63.60</td>\n",
       "      <td>84.50</td>\n",
       "      <td>88.30</td>\n",
       "      <td>93.30</td>\n",
       "      <td>98.70</td>\n",
       "    </tr>\n",
       "    <tr>\n",
       "      <th>release_pos_x</th>\n",
       "      <td>2848.0</td>\n",
       "      <td>-2.246018</td>\n",
       "      <td>0.249319</td>\n",
       "      <td>-3.00</td>\n",
       "      <td>-2.42</td>\n",
       "      <td>-2.24</td>\n",
       "      <td>-2.07</td>\n",
       "      <td>-1.37</td>\n",
       "    </tr>\n",
       "    <tr>\n",
       "      <th>release_pos_z</th>\n",
       "      <td>2848.0</td>\n",
       "      <td>5.602226</td>\n",
       "      <td>0.160040</td>\n",
       "      <td>5.12</td>\n",
       "      <td>5.50</td>\n",
       "      <td>5.60</td>\n",
       "      <td>5.72</td>\n",
       "      <td>6.05</td>\n",
       "    </tr>\n",
       "    <tr>\n",
       "      <th>batter</th>\n",
       "      <td>2848.0</td>\n",
       "      <td>565591.122893</td>\n",
       "      <td>70079.090842</td>\n",
       "      <td>425783.00</td>\n",
       "      <td>516770.00</td>\n",
       "      <td>572816.00</td>\n",
       "      <td>621111.00</td>\n",
       "      <td>670950.00</td>\n",
       "    </tr>\n",
       "    <tr>\n",
       "      <th>pitcher</th>\n",
       "      <td>2848.0</td>\n",
       "      <td>506433.000000</td>\n",
       "      <td>0.000000</td>\n",
       "      <td>506433.00</td>\n",
       "      <td>506433.00</td>\n",
       "      <td>506433.00</td>\n",
       "      <td>506433.00</td>\n",
       "      <td>506433.00</td>\n",
       "    </tr>\n",
       "    <tr>\n",
       "      <th>...</th>\n",
       "      <td>...</td>\n",
       "      <td>...</td>\n",
       "      <td>...</td>\n",
       "      <td>...</td>\n",
       "      <td>...</td>\n",
       "      <td>...</td>\n",
       "      <td>...</td>\n",
       "      <td>...</td>\n",
       "    </tr>\n",
       "    <tr>\n",
       "      <th>fld_score</th>\n",
       "      <td>2848.0</td>\n",
       "      <td>1.568469</td>\n",
       "      <td>1.769135</td>\n",
       "      <td>0.00</td>\n",
       "      <td>0.00</td>\n",
       "      <td>1.00</td>\n",
       "      <td>3.00</td>\n",
       "      <td>7.00</td>\n",
       "    </tr>\n",
       "    <tr>\n",
       "      <th>post_away_score</th>\n",
       "      <td>2848.0</td>\n",
       "      <td>1.587781</td>\n",
       "      <td>1.689661</td>\n",
       "      <td>0.00</td>\n",
       "      <td>0.00</td>\n",
       "      <td>1.00</td>\n",
       "      <td>3.00</td>\n",
       "      <td>7.00</td>\n",
       "    </tr>\n",
       "    <tr>\n",
       "      <th>post_home_score</th>\n",
       "      <td>2848.0</td>\n",
       "      <td>1.058287</td>\n",
       "      <td>1.459718</td>\n",
       "      <td>0.00</td>\n",
       "      <td>0.00</td>\n",
       "      <td>1.00</td>\n",
       "      <td>2.00</td>\n",
       "      <td>7.00</td>\n",
       "    </tr>\n",
       "    <tr>\n",
       "      <th>post_bat_score</th>\n",
       "      <td>2848.0</td>\n",
       "      <td>1.077598</td>\n",
       "      <td>1.369528</td>\n",
       "      <td>0.00</td>\n",
       "      <td>0.00</td>\n",
       "      <td>1.00</td>\n",
       "      <td>2.00</td>\n",
       "      <td>6.00</td>\n",
       "    </tr>\n",
       "    <tr>\n",
       "      <th>post_fld_score</th>\n",
       "      <td>2848.0</td>\n",
       "      <td>1.568469</td>\n",
       "      <td>1.769135</td>\n",
       "      <td>0.00</td>\n",
       "      <td>0.00</td>\n",
       "      <td>1.00</td>\n",
       "      <td>3.00</td>\n",
       "      <td>7.00</td>\n",
       "    </tr>\n",
       "  </tbody>\n",
       "</table>\n",
       "<p>71 rows × 8 columns</p>\n",
       "</div>"
      ],
      "text/plain": [
       "                  count           mean           std        min        25%  \\\n",
       "release_speed    2848.0      88.329424      5.603706      63.60      84.50   \n",
       "release_pos_x    2848.0      -2.246018      0.249319      -3.00      -2.42   \n",
       "release_pos_z    2848.0       5.602226      0.160040       5.12       5.50   \n",
       "batter           2848.0  565591.122893  70079.090842  425783.00  516770.00   \n",
       "pitcher          2848.0  506433.000000      0.000000  506433.00  506433.00   \n",
       "...                 ...            ...           ...        ...        ...   \n",
       "fld_score        2848.0       1.568469      1.769135       0.00       0.00   \n",
       "post_away_score  2848.0       1.587781      1.689661       0.00       0.00   \n",
       "post_home_score  2848.0       1.058287      1.459718       0.00       0.00   \n",
       "post_bat_score   2848.0       1.077598      1.369528       0.00       0.00   \n",
       "post_fld_score   2848.0       1.568469      1.769135       0.00       0.00   \n",
       "\n",
       "                       50%        75%        max  \n",
       "release_speed        88.30      93.30      98.70  \n",
       "release_pos_x        -2.24      -2.07      -1.37  \n",
       "release_pos_z         5.60       5.72       6.05  \n",
       "batter           572816.00  621111.00  670950.00  \n",
       "pitcher          506433.00  506433.00  506433.00  \n",
       "...                    ...        ...        ...  \n",
       "fld_score             1.00       3.00       7.00  \n",
       "post_away_score       1.00       3.00       7.00  \n",
       "post_home_score       1.00       2.00       7.00  \n",
       "post_bat_score        1.00       2.00       6.00  \n",
       "post_fld_score        1.00       3.00       7.00  \n",
       "\n",
       "[71 rows x 8 columns]"
      ]
     },
     "execution_count": 10,
     "metadata": {},
     "output_type": "execute_result"
    }
   ],
   "source": [
    "darvish_stats19.describe().transpose()"
   ]
  },
  {
   "cell_type": "code",
   "execution_count": 11,
   "metadata": {},
   "outputs": [
    {
     "data": {
      "text/plain": [
       "array(['hit_into_play_score', 'ball', 'swinging_strike',\n",
       "       'hit_into_play_no_out', 'foul', 'hit_into_play', 'foul_tip',\n",
       "       'called_strike', 'blocked_ball', 'swinging_strike_blocked',\n",
       "       'foul_bunt', 'hit_by_pitch', 'missed_bunt', 'bunt_foul_tip'],\n",
       "      dtype=object)"
      ]
     },
     "execution_count": 11,
     "metadata": {},
     "output_type": "execute_result"
    }
   ],
   "source": [
    "#verify categories within description to filter for, will use \"swinging_strike\"\n",
    "darvish_stats19['description'].unique()"
   ]
  },
  {
   "cell_type": "code",
   "execution_count": 48,
   "metadata": {},
   "outputs": [
    {
     "data": {
      "text/plain": [
       "array(['double', nan, 'single', 'sac_fly', 'triple', 'field_out',\n",
       "       'strikeout', 'grounded_into_double_play', 'home_run', 'walk',\n",
       "       'sac_bunt', 'field_error', 'force_out', 'hit_by_pitch',\n",
       "       'fielders_choice', 'fielders_choice_out'], dtype=object)"
      ]
     },
     "execution_count": 48,
     "metadata": {},
     "output_type": "execute_result"
    }
   ],
   "source": [
    "darvish_stats19['events'].unique()"
   ]
  },
  {
   "cell_type": "code",
   "execution_count": 56,
   "metadata": {},
   "outputs": [],
   "source": [
    "#filter data to only give pitches that resulted in 'swinging_strike' 2019\n",
    "darvish_swingstrikes_19 = darvish_stats19[darvish_stats19['description'].str.contains(\"swinging\")]\n",
    "darvish_swingstrikes_19 = darvish_stats19[darvish_stats19['description'].str.contains(\"swinging\")]\n",
    "\n",
    "#filter data to only give pitches that resulted in 'swinging_strike' 2020\n",
    "darvish_swingstrikes_20 = darvish_stats20[darvish_stats20['description'].str.contains(\"swinging\")]\n",
    "darvish_swingstrikes_20 = darvish_stats20[darvish_stats20['description'].str.contains(\"swinging\")]"
   ]
  },
  {
   "cell_type": "code",
   "execution_count": 13,
   "metadata": {},
   "outputs": [
    {
     "data": {
      "text/html": [
       "<div>\n",
       "<style scoped>\n",
       "    .dataframe tbody tr th:only-of-type {\n",
       "        vertical-align: middle;\n",
       "    }\n",
       "\n",
       "    .dataframe tbody tr th {\n",
       "        vertical-align: top;\n",
       "    }\n",
       "\n",
       "    .dataframe thead th {\n",
       "        text-align: right;\n",
       "    }\n",
       "</style>\n",
       "<table border=\"1\" class=\"dataframe\">\n",
       "  <thead>\n",
       "    <tr style=\"text-align: right;\">\n",
       "      <th></th>\n",
       "      <th>count</th>\n",
       "      <th>mean</th>\n",
       "      <th>std</th>\n",
       "      <th>min</th>\n",
       "      <th>25%</th>\n",
       "      <th>50%</th>\n",
       "      <th>75%</th>\n",
       "      <th>max</th>\n",
       "    </tr>\n",
       "  </thead>\n",
       "  <tbody>\n",
       "    <tr>\n",
       "      <th>release_speed</th>\n",
       "      <td>384.0</td>\n",
       "      <td>87.927865</td>\n",
       "      <td>5.056710</td>\n",
       "      <td>67.60</td>\n",
       "      <td>84.90</td>\n",
       "      <td>87.550</td>\n",
       "      <td>91.75</td>\n",
       "      <td>97.80</td>\n",
       "    </tr>\n",
       "    <tr>\n",
       "      <th>release_pos_x</th>\n",
       "      <td>384.0</td>\n",
       "      <td>-2.225729</td>\n",
       "      <td>0.263009</td>\n",
       "      <td>-3.00</td>\n",
       "      <td>-2.43</td>\n",
       "      <td>-2.215</td>\n",
       "      <td>-2.01</td>\n",
       "      <td>-1.46</td>\n",
       "    </tr>\n",
       "    <tr>\n",
       "      <th>release_pos_z</th>\n",
       "      <td>384.0</td>\n",
       "      <td>5.606484</td>\n",
       "      <td>0.160597</td>\n",
       "      <td>5.19</td>\n",
       "      <td>5.50</td>\n",
       "      <td>5.610</td>\n",
       "      <td>5.72</td>\n",
       "      <td>6.03</td>\n",
       "    </tr>\n",
       "    <tr>\n",
       "      <th>batter</th>\n",
       "      <td>384.0</td>\n",
       "      <td>566790.075521</td>\n",
       "      <td>69823.691591</td>\n",
       "      <td>425783.00</td>\n",
       "      <td>518626.00</td>\n",
       "      <td>572893.500</td>\n",
       "      <td>621361.25</td>\n",
       "      <td>670950.00</td>\n",
       "    </tr>\n",
       "    <tr>\n",
       "      <th>pitcher</th>\n",
       "      <td>384.0</td>\n",
       "      <td>506433.000000</td>\n",
       "      <td>0.000000</td>\n",
       "      <td>506433.00</td>\n",
       "      <td>506433.00</td>\n",
       "      <td>506433.000</td>\n",
       "      <td>506433.00</td>\n",
       "      <td>506433.00</td>\n",
       "    </tr>\n",
       "    <tr>\n",
       "      <th>...</th>\n",
       "      <td>...</td>\n",
       "      <td>...</td>\n",
       "      <td>...</td>\n",
       "      <td>...</td>\n",
       "      <td>...</td>\n",
       "      <td>...</td>\n",
       "      <td>...</td>\n",
       "      <td>...</td>\n",
       "    </tr>\n",
       "    <tr>\n",
       "      <th>fld_score</th>\n",
       "      <td>384.0</td>\n",
       "      <td>1.533854</td>\n",
       "      <td>1.765317</td>\n",
       "      <td>0.00</td>\n",
       "      <td>0.00</td>\n",
       "      <td>1.000</td>\n",
       "      <td>2.00</td>\n",
       "      <td>7.00</td>\n",
       "    </tr>\n",
       "    <tr>\n",
       "      <th>post_away_score</th>\n",
       "      <td>384.0</td>\n",
       "      <td>1.630208</td>\n",
       "      <td>1.697402</td>\n",
       "      <td>0.00</td>\n",
       "      <td>0.00</td>\n",
       "      <td>1.000</td>\n",
       "      <td>3.00</td>\n",
       "      <td>7.00</td>\n",
       "    </tr>\n",
       "    <tr>\n",
       "      <th>post_home_score</th>\n",
       "      <td>384.0</td>\n",
       "      <td>1.005208</td>\n",
       "      <td>1.425238</td>\n",
       "      <td>0.00</td>\n",
       "      <td>0.00</td>\n",
       "      <td>0.000</td>\n",
       "      <td>1.00</td>\n",
       "      <td>7.00</td>\n",
       "    </tr>\n",
       "    <tr>\n",
       "      <th>post_bat_score</th>\n",
       "      <td>384.0</td>\n",
       "      <td>1.101562</td>\n",
       "      <td>1.377779</td>\n",
       "      <td>0.00</td>\n",
       "      <td>0.00</td>\n",
       "      <td>1.000</td>\n",
       "      <td>2.00</td>\n",
       "      <td>6.00</td>\n",
       "    </tr>\n",
       "    <tr>\n",
       "      <th>post_fld_score</th>\n",
       "      <td>384.0</td>\n",
       "      <td>1.533854</td>\n",
       "      <td>1.765317</td>\n",
       "      <td>0.00</td>\n",
       "      <td>0.00</td>\n",
       "      <td>1.000</td>\n",
       "      <td>2.00</td>\n",
       "      <td>7.00</td>\n",
       "    </tr>\n",
       "  </tbody>\n",
       "</table>\n",
       "<p>71 rows × 8 columns</p>\n",
       "</div>"
      ],
      "text/plain": [
       "                 count           mean           std        min        25%  \\\n",
       "release_speed    384.0      87.927865      5.056710      67.60      84.90   \n",
       "release_pos_x    384.0      -2.225729      0.263009      -3.00      -2.43   \n",
       "release_pos_z    384.0       5.606484      0.160597       5.19       5.50   \n",
       "batter           384.0  566790.075521  69823.691591  425783.00  518626.00   \n",
       "pitcher          384.0  506433.000000      0.000000  506433.00  506433.00   \n",
       "...                ...            ...           ...        ...        ...   \n",
       "fld_score        384.0       1.533854      1.765317       0.00       0.00   \n",
       "post_away_score  384.0       1.630208      1.697402       0.00       0.00   \n",
       "post_home_score  384.0       1.005208      1.425238       0.00       0.00   \n",
       "post_bat_score   384.0       1.101562      1.377779       0.00       0.00   \n",
       "post_fld_score   384.0       1.533854      1.765317       0.00       0.00   \n",
       "\n",
       "                        50%        75%        max  \n",
       "release_speed        87.550      91.75      97.80  \n",
       "release_pos_x        -2.215      -2.01      -1.46  \n",
       "release_pos_z         5.610       5.72       6.03  \n",
       "batter           572893.500  621361.25  670950.00  \n",
       "pitcher          506433.000  506433.00  506433.00  \n",
       "...                     ...        ...        ...  \n",
       "fld_score             1.000       2.00       7.00  \n",
       "post_away_score       1.000       3.00       7.00  \n",
       "post_home_score       0.000       1.00       7.00  \n",
       "post_bat_score        1.000       2.00       6.00  \n",
       "post_fld_score        1.000       2.00       7.00  \n",
       "\n",
       "[71 rows x 8 columns]"
      ]
     },
     "execution_count": 13,
     "metadata": {},
     "output_type": "execute_result"
    }
   ],
   "source": [
    "darvish_swingstrikes_19.describe().transpose()"
   ]
  },
  {
   "cell_type": "code",
   "execution_count": 106,
   "metadata": {},
   "outputs": [],
   "source": [
    "#create different DFs \n",
    "zone_analysis_columns = ['pitch_type', 'release_speed', 'release_spin_rate', 'release_extension', 'zone', 'launch_speed','launch_angle', 'launch_speed_angle', 'events']\n",
    "graph_analysis_columns = ['pitch_type','plate_x','plate_z', 'release_speed', 'release_spin_rate', 'release_extension', 'zone', 'launch_speed','launch_angle', 'launch_speed_angle', 'events']\n",
    "\n",
    "yu_columns = ['game_date','pitch_type', 'release_speed', 'release_spin_rate', 'release_extension', 'zone', 'launch_speed','launch_angle', 'launch_speed_angle', 'events']\n",
    "# strike_zone = [\"zone\", 'plate_x']"
   ]
  },
  {
   "cell_type": "code",
   "execution_count": 64,
   "metadata": {},
   "outputs": [],
   "source": [
    "#create new Data Frames\n",
    "darvish_swingstrikes_19_clean = darvish_swingstrikes_19[zone_analysis_columns]\n",
    "darvish_swingstrikes_19_graph = darvish_swingstrikes_19[graph_analysis_columns]\n",
    "# statcast_zone = darvish_swingstrikes_19[strike_zone]"
   ]
  },
  {
   "cell_type": "code",
   "execution_count": 68,
   "metadata": {},
   "outputs": [],
   "source": [
    "#create new Data Frames for 2020\n",
    "darvish_swingstrikes_20_clean = darvish_swingstrikes_20[zone_analysis_columns]\n",
    "darvish_swingstrikes_20_graph = darvish_swingstrikes_20[graph_analysis_columns]"
   ]
  },
  {
   "cell_type": "code",
   "execution_count": 107,
   "metadata": {},
   "outputs": [],
   "source": [
    "#create a new Data Frame for all Yu data since 2016\n",
    "darvish_data_clean = darvish_data[yu_columns]"
   ]
  },
  {
   "cell_type": "code",
   "execution_count": 149,
   "metadata": {},
   "outputs": [
    {
     "data": {
      "text/plain": [
       "(9318, 11)"
      ]
     },
     "execution_count": 149,
     "metadata": {},
     "output_type": "execute_result"
    }
   ],
   "source": [
    "darvish_data_clean.shape\n",
    "# darvish_data_clean.head()"
   ]
  },
  {
   "cell_type": "code",
   "execution_count": 156,
   "metadata": {},
   "outputs": [
    {
     "data": {
      "text/html": [
       "<div>\n",
       "<style scoped>\n",
       "    .dataframe tbody tr th:only-of-type {\n",
       "        vertical-align: middle;\n",
       "    }\n",
       "\n",
       "    .dataframe tbody tr th {\n",
       "        vertical-align: top;\n",
       "    }\n",
       "\n",
       "    .dataframe thead th {\n",
       "        text-align: right;\n",
       "    }\n",
       "</style>\n",
       "<table border=\"1\" class=\"dataframe\">\n",
       "  <thead>\n",
       "    <tr style=\"text-align: right;\">\n",
       "      <th></th>\n",
       "      <th>count</th>\n",
       "      <th>mean</th>\n",
       "      <th>std</th>\n",
       "      <th>min</th>\n",
       "      <th>25%</th>\n",
       "      <th>50%</th>\n",
       "      <th>75%</th>\n",
       "      <th>max</th>\n",
       "    </tr>\n",
       "  </thead>\n",
       "  <tbody>\n",
       "    <tr>\n",
       "      <th>release_speed</th>\n",
       "      <td>9294.0</td>\n",
       "      <td>88.765376</td>\n",
       "      <td>6.325122</td>\n",
       "      <td>60.00</td>\n",
       "      <td>84.30</td>\n",
       "      <td>90.10</td>\n",
       "      <td>94.00</td>\n",
       "      <td>98.80</td>\n",
       "    </tr>\n",
       "    <tr>\n",
       "      <th>release_pos_x</th>\n",
       "      <td>9301.0</td>\n",
       "      <td>-2.496695</td>\n",
       "      <td>0.405015</td>\n",
       "      <td>-3.61</td>\n",
       "      <td>-2.81</td>\n",
       "      <td>-2.50</td>\n",
       "      <td>-2.19</td>\n",
       "      <td>-1.23</td>\n",
       "    </tr>\n",
       "    <tr>\n",
       "      <th>release_pos_z</th>\n",
       "      <td>9301.0</td>\n",
       "      <td>5.634799</td>\n",
       "      <td>0.186182</td>\n",
       "      <td>4.84</td>\n",
       "      <td>5.52</td>\n",
       "      <td>5.65</td>\n",
       "      <td>5.77</td>\n",
       "      <td>6.66</td>\n",
       "    </tr>\n",
       "    <tr>\n",
       "      <th>batter</th>\n",
       "      <td>9318.0</td>\n",
       "      <td>541425.132432</td>\n",
       "      <td>72709.951619</td>\n",
       "      <td>136860.00</td>\n",
       "      <td>485567.00</td>\n",
       "      <td>543760.00</td>\n",
       "      <td>596748.00</td>\n",
       "      <td>673451.00</td>\n",
       "    </tr>\n",
       "    <tr>\n",
       "      <th>pitcher</th>\n",
       "      <td>9318.0</td>\n",
       "      <td>506433.000000</td>\n",
       "      <td>0.000000</td>\n",
       "      <td>506433.00</td>\n",
       "      <td>506433.00</td>\n",
       "      <td>506433.00</td>\n",
       "      <td>506433.00</td>\n",
       "      <td>506433.00</td>\n",
       "    </tr>\n",
       "    <tr>\n",
       "      <th>...</th>\n",
       "      <td>...</td>\n",
       "      <td>...</td>\n",
       "      <td>...</td>\n",
       "      <td>...</td>\n",
       "      <td>...</td>\n",
       "      <td>...</td>\n",
       "      <td>...</td>\n",
       "      <td>...</td>\n",
       "    </tr>\n",
       "    <tr>\n",
       "      <th>fld_score</th>\n",
       "      <td>9318.0</td>\n",
       "      <td>1.463833</td>\n",
       "      <td>1.732556</td>\n",
       "      <td>0.00</td>\n",
       "      <td>0.00</td>\n",
       "      <td>1.00</td>\n",
       "      <td>2.00</td>\n",
       "      <td>8.00</td>\n",
       "    </tr>\n",
       "    <tr>\n",
       "      <th>post_away_score</th>\n",
       "      <td>9318.0</td>\n",
       "      <td>1.381305</td>\n",
       "      <td>1.505819</td>\n",
       "      <td>0.00</td>\n",
       "      <td>0.00</td>\n",
       "      <td>1.00</td>\n",
       "      <td>2.00</td>\n",
       "      <td>8.00</td>\n",
       "    </tr>\n",
       "    <tr>\n",
       "      <th>post_home_score</th>\n",
       "      <td>9318.0</td>\n",
       "      <td>1.058489</td>\n",
       "      <td>1.541634</td>\n",
       "      <td>0.00</td>\n",
       "      <td>0.00</td>\n",
       "      <td>0.00</td>\n",
       "      <td>2.00</td>\n",
       "      <td>8.00</td>\n",
       "    </tr>\n",
       "    <tr>\n",
       "      <th>post_bat_score</th>\n",
       "      <td>9318.0</td>\n",
       "      <td>0.975961</td>\n",
       "      <td>1.255176</td>\n",
       "      <td>0.00</td>\n",
       "      <td>0.00</td>\n",
       "      <td>0.00</td>\n",
       "      <td>2.00</td>\n",
       "      <td>7.00</td>\n",
       "    </tr>\n",
       "    <tr>\n",
       "      <th>post_fld_score</th>\n",
       "      <td>9318.0</td>\n",
       "      <td>1.463833</td>\n",
       "      <td>1.732556</td>\n",
       "      <td>0.00</td>\n",
       "      <td>0.00</td>\n",
       "      <td>1.00</td>\n",
       "      <td>2.00</td>\n",
       "      <td>8.00</td>\n",
       "    </tr>\n",
       "  </tbody>\n",
       "</table>\n",
       "<p>71 rows × 8 columns</p>\n",
       "</div>"
      ],
      "text/plain": [
       "                  count           mean           std        min        25%  \\\n",
       "release_speed    9294.0      88.765376      6.325122      60.00      84.30   \n",
       "release_pos_x    9301.0      -2.496695      0.405015      -3.61      -2.81   \n",
       "release_pos_z    9301.0       5.634799      0.186182       4.84       5.52   \n",
       "batter           9318.0  541425.132432  72709.951619  136860.00  485567.00   \n",
       "pitcher          9318.0  506433.000000      0.000000  506433.00  506433.00   \n",
       "...                 ...            ...           ...        ...        ...   \n",
       "fld_score        9318.0       1.463833      1.732556       0.00       0.00   \n",
       "post_away_score  9318.0       1.381305      1.505819       0.00       0.00   \n",
       "post_home_score  9318.0       1.058489      1.541634       0.00       0.00   \n",
       "post_bat_score   9318.0       0.975961      1.255176       0.00       0.00   \n",
       "post_fld_score   9318.0       1.463833      1.732556       0.00       0.00   \n",
       "\n",
       "                       50%        75%        max  \n",
       "release_speed        90.10      94.00      98.80  \n",
       "release_pos_x        -2.50      -2.19      -1.23  \n",
       "release_pos_z         5.65       5.77       6.66  \n",
       "batter           543760.00  596748.00  673451.00  \n",
       "pitcher          506433.00  506433.00  506433.00  \n",
       "...                    ...        ...        ...  \n",
       "fld_score             1.00       2.00       8.00  \n",
       "post_away_score       1.00       2.00       8.00  \n",
       "post_home_score       0.00       2.00       8.00  \n",
       "post_bat_score        0.00       2.00       7.00  \n",
       "post_fld_score        1.00       2.00       8.00  \n",
       "\n",
       "[71 rows x 8 columns]"
      ]
     },
     "execution_count": 156,
     "metadata": {},
     "output_type": "execute_result"
    }
   ],
   "source": [
    "darvish_data.describe().transpose()"
   ]
  },
  {
   "cell_type": "code",
   "execution_count": 114,
   "metadata": {},
   "outputs": [
    {
     "data": {
      "text/plain": [
       "game_date              object\n",
       "pitch_type             object\n",
       "release_speed         float64\n",
       "release_spin_rate     float64\n",
       "release_extension     float64\n",
       "zone                  float64\n",
       "launch_speed          float64\n",
       "launch_angle          float64\n",
       "launch_speed_angle    float64\n",
       "events                 object\n",
       "dtype: object"
      ]
     },
     "execution_count": 114,
     "metadata": {},
     "output_type": "execute_result"
    }
   ],
   "source": [
    "darvish_data_clean.dtypes"
   ]
  },
  {
   "cell_type": "code",
   "execution_count": 118,
   "metadata": {},
   "outputs": [
    {
     "name": "stderr",
     "output_type": "stream",
     "text": [
      "C:\\Users\\omarc\\Anaconda3\\lib\\site-packages\\ipykernel_launcher.py:2: SettingWithCopyWarning: \n",
      "A value is trying to be set on a copy of a slice from a DataFrame.\n",
      "Try using .loc[row_indexer,col_indexer] = value instead\n",
      "\n",
      "See the caveats in the documentation: https://pandas.pydata.org/pandas-docs/stable/user_guide/indexing.html#returning-a-view-versus-a-copy\n",
      "  \n"
     ]
    }
   ],
   "source": [
    "#convert game_date column to datetime\n",
    "darvish_data_clean['game_date']= pd.to_datetime(darvish_data_clean['game_date']) "
   ]
  },
  {
   "cell_type": "code",
   "execution_count": 121,
   "metadata": {},
   "outputs": [
    {
     "data": {
      "text/plain": [
       "game_date             datetime64[ns]\n",
       "pitch_type                    object\n",
       "release_speed                float64\n",
       "release_spin_rate            float64\n",
       "release_extension            float64\n",
       "zone                         float64\n",
       "launch_speed                 float64\n",
       "launch_angle                 float64\n",
       "launch_speed_angle           float64\n",
       "events                        object\n",
       "dtype: object"
      ]
     },
     "execution_count": 121,
     "metadata": {},
     "output_type": "execute_result"
    }
   ],
   "source": [
    "darvish_data_clean.dtypes"
   ]
  },
  {
   "cell_type": "code",
   "execution_count": 140,
   "metadata": {},
   "outputs": [
    {
     "name": "stderr",
     "output_type": "stream",
     "text": [
      "C:\\Users\\omarc\\Anaconda3\\lib\\site-packages\\ipykernel_launcher.py:3: SettingWithCopyWarning: \n",
      "A value is trying to be set on a copy of a slice from a DataFrame.\n",
      "Try using .loc[row_indexer,col_indexer] = value instead\n",
      "\n",
      "See the caveats in the documentation: https://pandas.pydata.org/pandas-docs/stable/user_guide/indexing.html#returning-a-view-versus-a-copy\n",
      "  This is separate from the ipykernel package so we can avoid doing imports until\n"
     ]
    }
   ],
   "source": [
    "# .map(lambda x: x.year)\n",
    "# df['year'] = df['ArrivalDate'].dt.year\n",
    "darvish_data_clean['Year'] = darvish_data_clean['game_date'].dt.year"
   ]
  },
  {
   "cell_type": "code",
   "execution_count": 141,
   "metadata": {},
   "outputs": [
    {
     "data": {
      "text/html": [
       "<div>\n",
       "<style scoped>\n",
       "    .dataframe tbody tr th:only-of-type {\n",
       "        vertical-align: middle;\n",
       "    }\n",
       "\n",
       "    .dataframe tbody tr th {\n",
       "        vertical-align: top;\n",
       "    }\n",
       "\n",
       "    .dataframe thead th {\n",
       "        text-align: right;\n",
       "    }\n",
       "</style>\n",
       "<table border=\"1\" class=\"dataframe\">\n",
       "  <thead>\n",
       "    <tr style=\"text-align: right;\">\n",
       "      <th></th>\n",
       "      <th>game_date</th>\n",
       "      <th>pitch_type</th>\n",
       "      <th>release_speed</th>\n",
       "      <th>release_spin_rate</th>\n",
       "      <th>release_extension</th>\n",
       "      <th>zone</th>\n",
       "      <th>launch_speed</th>\n",
       "      <th>launch_angle</th>\n",
       "      <th>launch_speed_angle</th>\n",
       "      <th>events</th>\n",
       "      <th>Year</th>\n",
       "    </tr>\n",
       "  </thead>\n",
       "  <tbody>\n",
       "    <tr>\n",
       "      <th>0</th>\n",
       "      <td>2020-09-04</td>\n",
       "      <td>FF</td>\n",
       "      <td>96.6</td>\n",
       "      <td>2752.0</td>\n",
       "      <td>6.5</td>\n",
       "      <td>1.0</td>\n",
       "      <td>NaN</td>\n",
       "      <td>NaN</td>\n",
       "      <td>NaN</td>\n",
       "      <td>strikeout</td>\n",
       "      <td>2020</td>\n",
       "    </tr>\n",
       "    <tr>\n",
       "      <th>1</th>\n",
       "      <td>2020-09-04</td>\n",
       "      <td>SI</td>\n",
       "      <td>95.8</td>\n",
       "      <td>2702.0</td>\n",
       "      <td>6.4</td>\n",
       "      <td>6.0</td>\n",
       "      <td>NaN</td>\n",
       "      <td>NaN</td>\n",
       "      <td>NaN</td>\n",
       "      <td>NaN</td>\n",
       "      <td>2020</td>\n",
       "    </tr>\n",
       "    <tr>\n",
       "      <th>2</th>\n",
       "      <td>2020-09-04</td>\n",
       "      <td>SI</td>\n",
       "      <td>92.7</td>\n",
       "      <td>1852.0</td>\n",
       "      <td>6.6</td>\n",
       "      <td>11.0</td>\n",
       "      <td>NaN</td>\n",
       "      <td>NaN</td>\n",
       "      <td>NaN</td>\n",
       "      <td>NaN</td>\n",
       "      <td>2020</td>\n",
       "    </tr>\n",
       "    <tr>\n",
       "      <th>3</th>\n",
       "      <td>2020-09-04</td>\n",
       "      <td>FS</td>\n",
       "      <td>88.5</td>\n",
       "      <td>1719.0</td>\n",
       "      <td>6.7</td>\n",
       "      <td>13.0</td>\n",
       "      <td>66.8</td>\n",
       "      <td>-40.0</td>\n",
       "      <td>NaN</td>\n",
       "      <td>NaN</td>\n",
       "      <td>2020</td>\n",
       "    </tr>\n",
       "    <tr>\n",
       "      <th>4</th>\n",
       "      <td>2020-09-04</td>\n",
       "      <td>FC</td>\n",
       "      <td>87.1</td>\n",
       "      <td>2837.0</td>\n",
       "      <td>6.5</td>\n",
       "      <td>7.0</td>\n",
       "      <td>NaN</td>\n",
       "      <td>NaN</td>\n",
       "      <td>NaN</td>\n",
       "      <td>NaN</td>\n",
       "      <td>2020</td>\n",
       "    </tr>\n",
       "  </tbody>\n",
       "</table>\n",
       "</div>"
      ],
      "text/plain": [
       "   game_date pitch_type  release_speed  release_spin_rate  release_extension  \\\n",
       "0 2020-09-04         FF           96.6             2752.0                6.5   \n",
       "1 2020-09-04         SI           95.8             2702.0                6.4   \n",
       "2 2020-09-04         SI           92.7             1852.0                6.6   \n",
       "3 2020-09-04         FS           88.5             1719.0                6.7   \n",
       "4 2020-09-04         FC           87.1             2837.0                6.5   \n",
       "\n",
       "   zone  launch_speed  launch_angle  launch_speed_angle     events  Year  \n",
       "0   1.0           NaN           NaN                 NaN  strikeout  2020  \n",
       "1   6.0           NaN           NaN                 NaN        NaN  2020  \n",
       "2  11.0           NaN           NaN                 NaN        NaN  2020  \n",
       "3  13.0          66.8         -40.0                 NaN        NaN  2020  \n",
       "4   7.0           NaN           NaN                 NaN        NaN  2020  "
      ]
     },
     "execution_count": 141,
     "metadata": {},
     "output_type": "execute_result"
    }
   ],
   "source": [
    "darvish_data_clean.head()"
   ]
  },
  {
   "cell_type": "code",
   "execution_count": 164,
   "metadata": {},
   "outputs": [],
   "source": [
    "#lets look at the data for strikeouts by pitch\n",
    "darvish_data_strikeouts = darvish_data_clean.loc[darvish_data_clean['events']=='strikeout']"
   ]
  },
  {
   "cell_type": "code",
   "execution_count": 173,
   "metadata": {},
   "outputs": [],
   "source": [
    "strikeouts = darvish_data_clean.loc[darvish_data_clean['events']=='strikeout']"
   ]
  },
  {
   "cell_type": "code",
   "execution_count": 174,
   "metadata": {},
   "outputs": [
    {
     "name": "stdout",
     "output_type": "stream",
     "text": [
      "699\n"
     ]
    }
   ],
   "source": [
    "print(len(strikeouts))"
   ]
  },
  {
   "cell_type": "code",
   "execution_count": 175,
   "metadata": {},
   "outputs": [
    {
     "data": {
      "text/html": [
       "<div>\n",
       "<style scoped>\n",
       "    .dataframe tbody tr th:only-of-type {\n",
       "        vertical-align: middle;\n",
       "    }\n",
       "\n",
       "    .dataframe tbody tr th {\n",
       "        vertical-align: top;\n",
       "    }\n",
       "\n",
       "    .dataframe thead th {\n",
       "        text-align: right;\n",
       "    }\n",
       "</style>\n",
       "<table border=\"1\" class=\"dataframe\">\n",
       "  <thead>\n",
       "    <tr style=\"text-align: right;\">\n",
       "      <th></th>\n",
       "      <th>release_speed</th>\n",
       "      <th>release_spin_rate</th>\n",
       "      <th>release_extension</th>\n",
       "      <th>zone</th>\n",
       "      <th>launch_speed</th>\n",
       "      <th>launch_angle</th>\n",
       "      <th>launch_speed_angle</th>\n",
       "      <th>Year</th>\n",
       "    </tr>\n",
       "  </thead>\n",
       "  <tbody>\n",
       "    <tr>\n",
       "      <th>count</th>\n",
       "      <td>698.000000</td>\n",
       "      <td>655.000000</td>\n",
       "      <td>697.000000</td>\n",
       "      <td>698.000000</td>\n",
       "      <td>0.0</td>\n",
       "      <td>0.0</td>\n",
       "      <td>0.0</td>\n",
       "      <td>699.000000</td>\n",
       "    </tr>\n",
       "    <tr>\n",
       "      <th>mean</th>\n",
       "      <td>87.830086</td>\n",
       "      <td>2487.832061</td>\n",
       "      <td>6.115352</td>\n",
       "      <td>8.825215</td>\n",
       "      <td>NaN</td>\n",
       "      <td>NaN</td>\n",
       "      <td>NaN</td>\n",
       "      <td>2017.799714</td>\n",
       "    </tr>\n",
       "    <tr>\n",
       "      <th>std</th>\n",
       "      <td>7.041845</td>\n",
       "      <td>411.298127</td>\n",
       "      <td>0.414718</td>\n",
       "      <td>4.364109</td>\n",
       "      <td>NaN</td>\n",
       "      <td>NaN</td>\n",
       "      <td>NaN</td>\n",
       "      <td>1.322041</td>\n",
       "    </tr>\n",
       "    <tr>\n",
       "      <th>min</th>\n",
       "      <td>63.400000</td>\n",
       "      <td>605.000000</td>\n",
       "      <td>4.700000</td>\n",
       "      <td>1.000000</td>\n",
       "      <td>NaN</td>\n",
       "      <td>NaN</td>\n",
       "      <td>NaN</td>\n",
       "      <td>2016.000000</td>\n",
       "    </tr>\n",
       "    <tr>\n",
       "      <th>25%</th>\n",
       "      <td>83.500000</td>\n",
       "      <td>2487.500000</td>\n",
       "      <td>5.800000</td>\n",
       "      <td>5.000000</td>\n",
       "      <td>NaN</td>\n",
       "      <td>NaN</td>\n",
       "      <td>NaN</td>\n",
       "      <td>2017.000000</td>\n",
       "    </tr>\n",
       "    <tr>\n",
       "      <th>50%</th>\n",
       "      <td>87.700000</td>\n",
       "      <td>2592.000000</td>\n",
       "      <td>6.100000</td>\n",
       "      <td>9.000000</td>\n",
       "      <td>NaN</td>\n",
       "      <td>NaN</td>\n",
       "      <td>NaN</td>\n",
       "      <td>2017.000000</td>\n",
       "    </tr>\n",
       "    <tr>\n",
       "      <th>75%</th>\n",
       "      <td>94.900000</td>\n",
       "      <td>2697.000000</td>\n",
       "      <td>6.500000</td>\n",
       "      <td>13.000000</td>\n",
       "      <td>NaN</td>\n",
       "      <td>NaN</td>\n",
       "      <td>NaN</td>\n",
       "      <td>2019.000000</td>\n",
       "    </tr>\n",
       "    <tr>\n",
       "      <th>max</th>\n",
       "      <td>98.600000</td>\n",
       "      <td>3168.000000</td>\n",
       "      <td>7.100000</td>\n",
       "      <td>14.000000</td>\n",
       "      <td>NaN</td>\n",
       "      <td>NaN</td>\n",
       "      <td>NaN</td>\n",
       "      <td>2020.000000</td>\n",
       "    </tr>\n",
       "  </tbody>\n",
       "</table>\n",
       "</div>"
      ],
      "text/plain": [
       "       release_speed  release_spin_rate  release_extension        zone  \\\n",
       "count     698.000000         655.000000         697.000000  698.000000   \n",
       "mean       87.830086        2487.832061           6.115352    8.825215   \n",
       "std         7.041845         411.298127           0.414718    4.364109   \n",
       "min        63.400000         605.000000           4.700000    1.000000   \n",
       "25%        83.500000        2487.500000           5.800000    5.000000   \n",
       "50%        87.700000        2592.000000           6.100000    9.000000   \n",
       "75%        94.900000        2697.000000           6.500000   13.000000   \n",
       "max        98.600000        3168.000000           7.100000   14.000000   \n",
       "\n",
       "       launch_speed  launch_angle  launch_speed_angle         Year  \n",
       "count           0.0           0.0                 0.0   699.000000  \n",
       "mean            NaN           NaN                 NaN  2017.799714  \n",
       "std             NaN           NaN                 NaN     1.322041  \n",
       "min             NaN           NaN                 NaN  2016.000000  \n",
       "25%             NaN           NaN                 NaN  2017.000000  \n",
       "50%             NaN           NaN                 NaN  2017.000000  \n",
       "75%             NaN           NaN                 NaN  2019.000000  \n",
       "max             NaN           NaN                 NaN  2020.000000  "
      ]
     },
     "execution_count": 175,
     "metadata": {},
     "output_type": "execute_result"
    }
   ],
   "source": [
    "darvish_data_strikeouts.describe()"
   ]
  },
  {
   "cell_type": "code",
   "execution_count": null,
   "metadata": {},
   "outputs": [],
   "source": [
    "\n",
    "# fig = px.bar(darvish_data_clean, x=\"Year\", y=\"count\", color=\"medal\", title=\"Long-Form Input\")\n",
    "# fig.show()"
   ]
  },
  {
   "cell_type": "code",
   "execution_count": 182,
   "metadata": {},
   "outputs": [],
   "source": [
    "#create new data frames for analysis of total pitches & strikeouts\n",
    "darvish_pitches = pd.DataFrame(darvish_data_clean.groupby([\"Year\",\"pitch_type\"])['release_speed'].count()).reset_index()\n",
    "darvish_so_pitches = pd.DataFrame(darvish_data_strikeouts.groupby([\"Year\",\"pitch_type\"])['release_speed'].count()).reset_index()\n"
   ]
  },
  {
   "cell_type": "code",
   "execution_count": 183,
   "metadata": {},
   "outputs": [
    {
     "data": {
      "text/html": [
       "<div>\n",
       "<style scoped>\n",
       "    .dataframe tbody tr th:only-of-type {\n",
       "        vertical-align: middle;\n",
       "    }\n",
       "\n",
       "    .dataframe tbody tr th {\n",
       "        vertical-align: top;\n",
       "    }\n",
       "\n",
       "    .dataframe thead th {\n",
       "        text-align: right;\n",
       "    }\n",
       "</style>\n",
       "<table border=\"1\" class=\"dataframe\">\n",
       "  <thead>\n",
       "    <tr style=\"text-align: right;\">\n",
       "      <th></th>\n",
       "      <th>Year</th>\n",
       "      <th>pitch_type</th>\n",
       "      <th>release_speed</th>\n",
       "    </tr>\n",
       "  </thead>\n",
       "  <tbody>\n",
       "    <tr>\n",
       "      <th>0</th>\n",
       "      <td>2016</td>\n",
       "      <td>CU</td>\n",
       "      <td>16</td>\n",
       "    </tr>\n",
       "    <tr>\n",
       "      <th>1</th>\n",
       "      <td>2016</td>\n",
       "      <td>FC</td>\n",
       "      <td>7</td>\n",
       "    </tr>\n",
       "    <tr>\n",
       "      <th>2</th>\n",
       "      <td>2016</td>\n",
       "      <td>FF</td>\n",
       "      <td>51</td>\n",
       "    </tr>\n",
       "    <tr>\n",
       "      <th>3</th>\n",
       "      <td>2016</td>\n",
       "      <td>FS</td>\n",
       "      <td>1</td>\n",
       "    </tr>\n",
       "    <tr>\n",
       "      <th>4</th>\n",
       "      <td>2016</td>\n",
       "      <td>FT</td>\n",
       "      <td>8</td>\n",
       "    </tr>\n",
       "  </tbody>\n",
       "</table>\n",
       "</div>"
      ],
      "text/plain": [
       "   Year pitch_type  release_speed\n",
       "0  2016         CU             16\n",
       "1  2016         FC              7\n",
       "2  2016         FF             51\n",
       "3  2016         FS              1\n",
       "4  2016         FT              8"
      ]
     },
     "execution_count": 183,
     "metadata": {},
     "output_type": "execute_result"
    }
   ],
   "source": [
    "# darvish_pitches.head()\n",
    "darvish_so_pitches.head()"
   ]
  },
  {
   "cell_type": "code",
   "execution_count": 184,
   "metadata": {},
   "outputs": [
    {
     "data": {
      "text/html": [
       "<div>\n",
       "<style scoped>\n",
       "    .dataframe tbody tr th:only-of-type {\n",
       "        vertical-align: middle;\n",
       "    }\n",
       "\n",
       "    .dataframe tbody tr th {\n",
       "        vertical-align: top;\n",
       "    }\n",
       "\n",
       "    .dataframe thead th {\n",
       "        text-align: right;\n",
       "    }\n",
       "</style>\n",
       "<table border=\"1\" class=\"dataframe\">\n",
       "  <thead>\n",
       "    <tr style=\"text-align: right;\">\n",
       "      <th></th>\n",
       "      <th>Year</th>\n",
       "      <th>pitch_type</th>\n",
       "      <th>#Ks</th>\n",
       "    </tr>\n",
       "  </thead>\n",
       "  <tbody>\n",
       "    <tr>\n",
       "      <th>0</th>\n",
       "      <td>2016</td>\n",
       "      <td>CU</td>\n",
       "      <td>16</td>\n",
       "    </tr>\n",
       "    <tr>\n",
       "      <th>1</th>\n",
       "      <td>2016</td>\n",
       "      <td>FC</td>\n",
       "      <td>7</td>\n",
       "    </tr>\n",
       "    <tr>\n",
       "      <th>2</th>\n",
       "      <td>2016</td>\n",
       "      <td>FF</td>\n",
       "      <td>51</td>\n",
       "    </tr>\n",
       "    <tr>\n",
       "      <th>3</th>\n",
       "      <td>2016</td>\n",
       "      <td>FS</td>\n",
       "      <td>1</td>\n",
       "    </tr>\n",
       "    <tr>\n",
       "      <th>4</th>\n",
       "      <td>2016</td>\n",
       "      <td>FT</td>\n",
       "      <td>8</td>\n",
       "    </tr>\n",
       "  </tbody>\n",
       "</table>\n",
       "</div>"
      ],
      "text/plain": [
       "   Year pitch_type  #Ks\n",
       "0  2016         CU   16\n",
       "1  2016         FC    7\n",
       "2  2016         FF   51\n",
       "3  2016         FS    1\n",
       "4  2016         FT    8"
      ]
     },
     "execution_count": 184,
     "metadata": {},
     "output_type": "execute_result"
    }
   ],
   "source": [
    "#rename the release_speed column to #pitches\n",
    "darvish_pitches.rename(columns={'release_speed':'#Pitches'}, inplace=True)\n",
    "darvish_so_pitches.rename(columns={'release_speed':'#Ks'}, inplace=True)\n",
    "darvish_so_pitches.head()"
   ]
  },
  {
   "cell_type": "code",
   "execution_count": 192,
   "metadata": {
    "scrolled": true
   },
   "outputs": [
    {
     "data": {
      "application/vnd.plotly.v1+json": {
       "config": {
        "plotlyServerURL": "https://plot.ly"
       },
       "data": [
        {
         "alignmentgroup": "True",
         "hovertemplate": "pitch_type=CU<br>Year=%{x}<br>#Pitches=%{y}<extra></extra>",
         "legendgroup": "CU",
         "marker": {
          "color": "#636efa"
         },
         "name": "CU",
         "offsetgroup": "CU",
         "orientation": "v",
         "showlegend": true,
         "textposition": "auto",
         "type": "bar",
         "x": [
          2016,
          2017,
          2018,
          2019,
          2020
         ],
         "xaxis": "x",
         "y": [
          141,
          183,
          19,
          138,
          35
         ],
         "yaxis": "y"
        },
        {
         "alignmentgroup": "True",
         "hovertemplate": "pitch_type=FC<br>Year=%{x}<br>#Pitches=%{y}<extra></extra>",
         "legendgroup": "FC",
         "marker": {
          "color": "#EF553B"
         },
         "name": "FC",
         "offsetgroup": "FC",
         "orientation": "v",
         "showlegend": true,
         "textposition": "auto",
         "type": "bar",
         "x": [
          2016,
          2017,
          2018,
          2019,
          2020
         ],
         "xaxis": "x",
         "y": [
          156,
          491,
          100,
          1044,
          343
         ],
         "yaxis": "y"
        },
        {
         "alignmentgroup": "True",
         "hovertemplate": "pitch_type=FF<br>Year=%{x}<br>#Pitches=%{y}<extra></extra>",
         "legendgroup": "FF",
         "marker": {
          "color": "#00cc96"
         },
         "name": "FF",
         "offsetgroup": "FF",
         "orientation": "v",
         "showlegend": true,
         "textposition": "auto",
         "type": "bar",
         "x": [
          2016,
          2017,
          2018,
          2019,
          2020
         ],
         "xaxis": "x",
         "y": [
          655,
          1128,
          276,
          759,
          109
         ],
         "yaxis": "y"
        },
        {
         "alignmentgroup": "True",
         "hovertemplate": "pitch_type=FS<br>Year=%{x}<br>#Pitches=%{y}<extra></extra>",
         "legendgroup": "FS",
         "marker": {
          "color": "#ab63fa"
         },
         "name": "FS",
         "offsetgroup": "FS",
         "orientation": "v",
         "showlegend": true,
         "textposition": "auto",
         "type": "bar",
         "x": [
          2016,
          2019,
          2020
         ],
         "xaxis": "x",
         "y": [
          37,
          108,
          31
         ],
         "yaxis": "y"
        },
        {
         "alignmentgroup": "True",
         "hovertemplate": "pitch_type=FT<br>Year=%{x}<br>#Pitches=%{y}<extra></extra>",
         "legendgroup": "FT",
         "marker": {
          "color": "#FFA15A"
         },
         "name": "FT",
         "offsetgroup": "FT",
         "orientation": "v",
         "showlegend": true,
         "textposition": "auto",
         "type": "bar",
         "x": [
          2016,
          2017,
          2018,
          2019
         ],
         "xaxis": "x",
         "y": [
          332,
          550,
          138,
          334
         ],
         "yaxis": "y"
        },
        {
         "alignmentgroup": "True",
         "hovertemplate": "pitch_type=IN<br>Year=%{x}<br>#Pitches=%{y}<extra></extra>",
         "legendgroup": "IN",
         "marker": {
          "color": "#19d3f3"
         },
         "name": "IN",
         "offsetgroup": "IN",
         "orientation": "v",
         "showlegend": true,
         "textposition": "auto",
         "type": "bar",
         "x": [
          2016
         ],
         "xaxis": "x",
         "y": [
          2
         ],
         "yaxis": "y"
        },
        {
         "alignmentgroup": "True",
         "hovertemplate": "pitch_type=SL<br>Year=%{x}<br>#Pitches=%{y}<extra></extra>",
         "legendgroup": "SL",
         "marker": {
          "color": "#FF6692"
         },
         "name": "SL",
         "offsetgroup": "SL",
         "orientation": "v",
         "showlegend": true,
         "textposition": "auto",
         "type": "bar",
         "x": [
          2016,
          2017,
          2018,
          2019,
          2020
         ],
         "xaxis": "x",
         "y": [
          339,
          840,
          178,
          392,
          121
         ],
         "yaxis": "y"
        },
        {
         "alignmentgroup": "True",
         "hovertemplate": "pitch_type=CH<br>Year=%{x}<br>#Pitches=%{y}<extra></extra>",
         "legendgroup": "CH",
         "marker": {
          "color": "#B6E880"
         },
         "name": "CH",
         "offsetgroup": "CH",
         "orientation": "v",
         "showlegend": true,
         "textposition": "auto",
         "type": "bar",
         "x": [
          2017,
          2018,
          2019
         ],
         "xaxis": "x",
         "y": [
          84,
          28,
          12
         ],
         "yaxis": "y"
        },
        {
         "alignmentgroup": "True",
         "hovertemplate": "pitch_type=EP<br>Year=%{x}<br>#Pitches=%{y}<extra></extra>",
         "legendgroup": "EP",
         "marker": {
          "color": "#FF97FF"
         },
         "name": "EP",
         "offsetgroup": "EP",
         "orientation": "v",
         "showlegend": true,
         "textposition": "auto",
         "type": "bar",
         "x": [
          2017,
          2018,
          2019
         ],
         "xaxis": "x",
         "y": [
          5,
          1,
          2
         ],
         "yaxis": "y"
        },
        {
         "alignmentgroup": "True",
         "hovertemplate": "pitch_type=KC<br>Year=%{x}<br>#Pitches=%{y}<extra></extra>",
         "legendgroup": "KC",
         "marker": {
          "color": "#FECB52"
         },
         "name": "KC",
         "offsetgroup": "KC",
         "orientation": "v",
         "showlegend": true,
         "textposition": "auto",
         "type": "bar",
         "x": [
          2019,
          2020
         ],
         "xaxis": "x",
         "y": [
          59,
          55
         ],
         "yaxis": "y"
        },
        {
         "alignmentgroup": "True",
         "hovertemplate": "pitch_type=CS<br>Year=%{x}<br>#Pitches=%{y}<extra></extra>",
         "legendgroup": "CS",
         "marker": {
          "color": "#636efa"
         },
         "name": "CS",
         "offsetgroup": "CS",
         "orientation": "v",
         "showlegend": true,
         "textposition": "auto",
         "type": "bar",
         "x": [
          2020
         ],
         "xaxis": "x",
         "y": [
          2
         ],
         "yaxis": "y"
        },
        {
         "alignmentgroup": "True",
         "hovertemplate": "pitch_type=SI<br>Year=%{x}<br>#Pitches=%{y}<extra></extra>",
         "legendgroup": "SI",
         "marker": {
          "color": "#EF553B"
         },
         "name": "SI",
         "offsetgroup": "SI",
         "orientation": "v",
         "showlegend": true,
         "textposition": "auto",
         "type": "bar",
         "x": [
          2020
         ],
         "xaxis": "x",
         "y": [
          66
         ],
         "yaxis": "y"
        }
       ],
       "layout": {
        "barmode": "relative",
        "legend": {
         "title": {
          "text": "pitch_type"
         },
         "tracegroupgap": 0
        },
        "template": {
         "data": {
          "bar": [
           {
            "error_x": {
             "color": "#2a3f5f"
            },
            "error_y": {
             "color": "#2a3f5f"
            },
            "marker": {
             "line": {
              "color": "#E5ECF6",
              "width": 0.5
             }
            },
            "type": "bar"
           }
          ],
          "barpolar": [
           {
            "marker": {
             "line": {
              "color": "#E5ECF6",
              "width": 0.5
             }
            },
            "type": "barpolar"
           }
          ],
          "carpet": [
           {
            "aaxis": {
             "endlinecolor": "#2a3f5f",
             "gridcolor": "white",
             "linecolor": "white",
             "minorgridcolor": "white",
             "startlinecolor": "#2a3f5f"
            },
            "baxis": {
             "endlinecolor": "#2a3f5f",
             "gridcolor": "white",
             "linecolor": "white",
             "minorgridcolor": "white",
             "startlinecolor": "#2a3f5f"
            },
            "type": "carpet"
           }
          ],
          "choropleth": [
           {
            "colorbar": {
             "outlinewidth": 0,
             "ticks": ""
            },
            "type": "choropleth"
           }
          ],
          "contour": [
           {
            "colorbar": {
             "outlinewidth": 0,
             "ticks": ""
            },
            "colorscale": [
             [
              0,
              "#0d0887"
             ],
             [
              0.1111111111111111,
              "#46039f"
             ],
             [
              0.2222222222222222,
              "#7201a8"
             ],
             [
              0.3333333333333333,
              "#9c179e"
             ],
             [
              0.4444444444444444,
              "#bd3786"
             ],
             [
              0.5555555555555556,
              "#d8576b"
             ],
             [
              0.6666666666666666,
              "#ed7953"
             ],
             [
              0.7777777777777778,
              "#fb9f3a"
             ],
             [
              0.8888888888888888,
              "#fdca26"
             ],
             [
              1,
              "#f0f921"
             ]
            ],
            "type": "contour"
           }
          ],
          "contourcarpet": [
           {
            "colorbar": {
             "outlinewidth": 0,
             "ticks": ""
            },
            "type": "contourcarpet"
           }
          ],
          "heatmap": [
           {
            "colorbar": {
             "outlinewidth": 0,
             "ticks": ""
            },
            "colorscale": [
             [
              0,
              "#0d0887"
             ],
             [
              0.1111111111111111,
              "#46039f"
             ],
             [
              0.2222222222222222,
              "#7201a8"
             ],
             [
              0.3333333333333333,
              "#9c179e"
             ],
             [
              0.4444444444444444,
              "#bd3786"
             ],
             [
              0.5555555555555556,
              "#d8576b"
             ],
             [
              0.6666666666666666,
              "#ed7953"
             ],
             [
              0.7777777777777778,
              "#fb9f3a"
             ],
             [
              0.8888888888888888,
              "#fdca26"
             ],
             [
              1,
              "#f0f921"
             ]
            ],
            "type": "heatmap"
           }
          ],
          "heatmapgl": [
           {
            "colorbar": {
             "outlinewidth": 0,
             "ticks": ""
            },
            "colorscale": [
             [
              0,
              "#0d0887"
             ],
             [
              0.1111111111111111,
              "#46039f"
             ],
             [
              0.2222222222222222,
              "#7201a8"
             ],
             [
              0.3333333333333333,
              "#9c179e"
             ],
             [
              0.4444444444444444,
              "#bd3786"
             ],
             [
              0.5555555555555556,
              "#d8576b"
             ],
             [
              0.6666666666666666,
              "#ed7953"
             ],
             [
              0.7777777777777778,
              "#fb9f3a"
             ],
             [
              0.8888888888888888,
              "#fdca26"
             ],
             [
              1,
              "#f0f921"
             ]
            ],
            "type": "heatmapgl"
           }
          ],
          "histogram": [
           {
            "marker": {
             "colorbar": {
              "outlinewidth": 0,
              "ticks": ""
             }
            },
            "type": "histogram"
           }
          ],
          "histogram2d": [
           {
            "colorbar": {
             "outlinewidth": 0,
             "ticks": ""
            },
            "colorscale": [
             [
              0,
              "#0d0887"
             ],
             [
              0.1111111111111111,
              "#46039f"
             ],
             [
              0.2222222222222222,
              "#7201a8"
             ],
             [
              0.3333333333333333,
              "#9c179e"
             ],
             [
              0.4444444444444444,
              "#bd3786"
             ],
             [
              0.5555555555555556,
              "#d8576b"
             ],
             [
              0.6666666666666666,
              "#ed7953"
             ],
             [
              0.7777777777777778,
              "#fb9f3a"
             ],
             [
              0.8888888888888888,
              "#fdca26"
             ],
             [
              1,
              "#f0f921"
             ]
            ],
            "type": "histogram2d"
           }
          ],
          "histogram2dcontour": [
           {
            "colorbar": {
             "outlinewidth": 0,
             "ticks": ""
            },
            "colorscale": [
             [
              0,
              "#0d0887"
             ],
             [
              0.1111111111111111,
              "#46039f"
             ],
             [
              0.2222222222222222,
              "#7201a8"
             ],
             [
              0.3333333333333333,
              "#9c179e"
             ],
             [
              0.4444444444444444,
              "#bd3786"
             ],
             [
              0.5555555555555556,
              "#d8576b"
             ],
             [
              0.6666666666666666,
              "#ed7953"
             ],
             [
              0.7777777777777778,
              "#fb9f3a"
             ],
             [
              0.8888888888888888,
              "#fdca26"
             ],
             [
              1,
              "#f0f921"
             ]
            ],
            "type": "histogram2dcontour"
           }
          ],
          "mesh3d": [
           {
            "colorbar": {
             "outlinewidth": 0,
             "ticks": ""
            },
            "type": "mesh3d"
           }
          ],
          "parcoords": [
           {
            "line": {
             "colorbar": {
              "outlinewidth": 0,
              "ticks": ""
             }
            },
            "type": "parcoords"
           }
          ],
          "pie": [
           {
            "automargin": true,
            "type": "pie"
           }
          ],
          "scatter": [
           {
            "marker": {
             "colorbar": {
              "outlinewidth": 0,
              "ticks": ""
             }
            },
            "type": "scatter"
           }
          ],
          "scatter3d": [
           {
            "line": {
             "colorbar": {
              "outlinewidth": 0,
              "ticks": ""
             }
            },
            "marker": {
             "colorbar": {
              "outlinewidth": 0,
              "ticks": ""
             }
            },
            "type": "scatter3d"
           }
          ],
          "scattercarpet": [
           {
            "marker": {
             "colorbar": {
              "outlinewidth": 0,
              "ticks": ""
             }
            },
            "type": "scattercarpet"
           }
          ],
          "scattergeo": [
           {
            "marker": {
             "colorbar": {
              "outlinewidth": 0,
              "ticks": ""
             }
            },
            "type": "scattergeo"
           }
          ],
          "scattergl": [
           {
            "marker": {
             "colorbar": {
              "outlinewidth": 0,
              "ticks": ""
             }
            },
            "type": "scattergl"
           }
          ],
          "scattermapbox": [
           {
            "marker": {
             "colorbar": {
              "outlinewidth": 0,
              "ticks": ""
             }
            },
            "type": "scattermapbox"
           }
          ],
          "scatterpolar": [
           {
            "marker": {
             "colorbar": {
              "outlinewidth": 0,
              "ticks": ""
             }
            },
            "type": "scatterpolar"
           }
          ],
          "scatterpolargl": [
           {
            "marker": {
             "colorbar": {
              "outlinewidth": 0,
              "ticks": ""
             }
            },
            "type": "scatterpolargl"
           }
          ],
          "scatterternary": [
           {
            "marker": {
             "colorbar": {
              "outlinewidth": 0,
              "ticks": ""
             }
            },
            "type": "scatterternary"
           }
          ],
          "surface": [
           {
            "colorbar": {
             "outlinewidth": 0,
             "ticks": ""
            },
            "colorscale": [
             [
              0,
              "#0d0887"
             ],
             [
              0.1111111111111111,
              "#46039f"
             ],
             [
              0.2222222222222222,
              "#7201a8"
             ],
             [
              0.3333333333333333,
              "#9c179e"
             ],
             [
              0.4444444444444444,
              "#bd3786"
             ],
             [
              0.5555555555555556,
              "#d8576b"
             ],
             [
              0.6666666666666666,
              "#ed7953"
             ],
             [
              0.7777777777777778,
              "#fb9f3a"
             ],
             [
              0.8888888888888888,
              "#fdca26"
             ],
             [
              1,
              "#f0f921"
             ]
            ],
            "type": "surface"
           }
          ],
          "table": [
           {
            "cells": {
             "fill": {
              "color": "#EBF0F8"
             },
             "line": {
              "color": "white"
             }
            },
            "header": {
             "fill": {
              "color": "#C8D4E3"
             },
             "line": {
              "color": "white"
             }
            },
            "type": "table"
           }
          ]
         },
         "layout": {
          "annotationdefaults": {
           "arrowcolor": "#2a3f5f",
           "arrowhead": 0,
           "arrowwidth": 1
          },
          "coloraxis": {
           "colorbar": {
            "outlinewidth": 0,
            "ticks": ""
           }
          },
          "colorscale": {
           "diverging": [
            [
             0,
             "#8e0152"
            ],
            [
             0.1,
             "#c51b7d"
            ],
            [
             0.2,
             "#de77ae"
            ],
            [
             0.3,
             "#f1b6da"
            ],
            [
             0.4,
             "#fde0ef"
            ],
            [
             0.5,
             "#f7f7f7"
            ],
            [
             0.6,
             "#e6f5d0"
            ],
            [
             0.7,
             "#b8e186"
            ],
            [
             0.8,
             "#7fbc41"
            ],
            [
             0.9,
             "#4d9221"
            ],
            [
             1,
             "#276419"
            ]
           ],
           "sequential": [
            [
             0,
             "#0d0887"
            ],
            [
             0.1111111111111111,
             "#46039f"
            ],
            [
             0.2222222222222222,
             "#7201a8"
            ],
            [
             0.3333333333333333,
             "#9c179e"
            ],
            [
             0.4444444444444444,
             "#bd3786"
            ],
            [
             0.5555555555555556,
             "#d8576b"
            ],
            [
             0.6666666666666666,
             "#ed7953"
            ],
            [
             0.7777777777777778,
             "#fb9f3a"
            ],
            [
             0.8888888888888888,
             "#fdca26"
            ],
            [
             1,
             "#f0f921"
            ]
           ],
           "sequentialminus": [
            [
             0,
             "#0d0887"
            ],
            [
             0.1111111111111111,
             "#46039f"
            ],
            [
             0.2222222222222222,
             "#7201a8"
            ],
            [
             0.3333333333333333,
             "#9c179e"
            ],
            [
             0.4444444444444444,
             "#bd3786"
            ],
            [
             0.5555555555555556,
             "#d8576b"
            ],
            [
             0.6666666666666666,
             "#ed7953"
            ],
            [
             0.7777777777777778,
             "#fb9f3a"
            ],
            [
             0.8888888888888888,
             "#fdca26"
            ],
            [
             1,
             "#f0f921"
            ]
           ]
          },
          "colorway": [
           "#636efa",
           "#EF553B",
           "#00cc96",
           "#ab63fa",
           "#FFA15A",
           "#19d3f3",
           "#FF6692",
           "#B6E880",
           "#FF97FF",
           "#FECB52"
          ],
          "font": {
           "color": "#2a3f5f"
          },
          "geo": {
           "bgcolor": "white",
           "lakecolor": "white",
           "landcolor": "#E5ECF6",
           "showlakes": true,
           "showland": true,
           "subunitcolor": "white"
          },
          "hoverlabel": {
           "align": "left"
          },
          "hovermode": "closest",
          "mapbox": {
           "style": "light"
          },
          "paper_bgcolor": "white",
          "plot_bgcolor": "#E5ECF6",
          "polar": {
           "angularaxis": {
            "gridcolor": "white",
            "linecolor": "white",
            "ticks": ""
           },
           "bgcolor": "#E5ECF6",
           "radialaxis": {
            "gridcolor": "white",
            "linecolor": "white",
            "ticks": ""
           }
          },
          "scene": {
           "xaxis": {
            "backgroundcolor": "#E5ECF6",
            "gridcolor": "white",
            "gridwidth": 2,
            "linecolor": "white",
            "showbackground": true,
            "ticks": "",
            "zerolinecolor": "white"
           },
           "yaxis": {
            "backgroundcolor": "#E5ECF6",
            "gridcolor": "white",
            "gridwidth": 2,
            "linecolor": "white",
            "showbackground": true,
            "ticks": "",
            "zerolinecolor": "white"
           },
           "zaxis": {
            "backgroundcolor": "#E5ECF6",
            "gridcolor": "white",
            "gridwidth": 2,
            "linecolor": "white",
            "showbackground": true,
            "ticks": "",
            "zerolinecolor": "white"
           }
          },
          "shapedefaults": {
           "line": {
            "color": "#2a3f5f"
           }
          },
          "ternary": {
           "aaxis": {
            "gridcolor": "white",
            "linecolor": "white",
            "ticks": ""
           },
           "baxis": {
            "gridcolor": "white",
            "linecolor": "white",
            "ticks": ""
           },
           "bgcolor": "#E5ECF6",
           "caxis": {
            "gridcolor": "white",
            "linecolor": "white",
            "ticks": ""
           }
          },
          "title": {
           "x": 0.05
          },
          "xaxis": {
           "automargin": true,
           "gridcolor": "white",
           "linecolor": "white",
           "ticks": "",
           "title": {
            "standoff": 15
           },
           "zerolinecolor": "white",
           "zerolinewidth": 2
          },
          "yaxis": {
           "automargin": true,
           "gridcolor": "white",
           "linecolor": "white",
           "ticks": "",
           "title": {
            "standoff": 15
           },
           "zerolinecolor": "white",
           "zerolinewidth": 2
          }
         }
        },
        "title": {
         "text": "Darvish Pitch Arsenal"
        },
        "xaxis": {
         "anchor": "y",
         "domain": [
          0,
          1
         ],
         "title": {
          "text": "Year"
         }
        },
        "yaxis": {
         "anchor": "x",
         "domain": [
          0,
          1
         ],
         "title": {
          "text": "#Pitches"
         }
        }
       }
      },
      "text/html": [
       "<div>\n",
       "        \n",
       "        \n",
       "            <div id=\"44606c8f-e392-4db4-8917-a9baaf192164\" class=\"plotly-graph-div\" style=\"height:525px; width:100%;\"></div>\n",
       "            <script type=\"text/javascript\">\n",
       "                require([\"plotly\"], function(Plotly) {\n",
       "                    window.PLOTLYENV=window.PLOTLYENV || {};\n",
       "                    \n",
       "                if (document.getElementById(\"44606c8f-e392-4db4-8917-a9baaf192164\")) {\n",
       "                    Plotly.newPlot(\n",
       "                        '44606c8f-e392-4db4-8917-a9baaf192164',\n",
       "                        [{\"alignmentgroup\": \"True\", \"hovertemplate\": \"pitch_type=CU<br>Year=%{x}<br>#Pitches=%{y}<extra></extra>\", \"legendgroup\": \"CU\", \"marker\": {\"color\": \"#636efa\"}, \"name\": \"CU\", \"offsetgroup\": \"CU\", \"orientation\": \"v\", \"showlegend\": true, \"textposition\": \"auto\", \"type\": \"bar\", \"x\": [2016, 2017, 2018, 2019, 2020], \"xaxis\": \"x\", \"y\": [141, 183, 19, 138, 35], \"yaxis\": \"y\"}, {\"alignmentgroup\": \"True\", \"hovertemplate\": \"pitch_type=FC<br>Year=%{x}<br>#Pitches=%{y}<extra></extra>\", \"legendgroup\": \"FC\", \"marker\": {\"color\": \"#EF553B\"}, \"name\": \"FC\", \"offsetgroup\": \"FC\", \"orientation\": \"v\", \"showlegend\": true, \"textposition\": \"auto\", \"type\": \"bar\", \"x\": [2016, 2017, 2018, 2019, 2020], \"xaxis\": \"x\", \"y\": [156, 491, 100, 1044, 343], \"yaxis\": \"y\"}, {\"alignmentgroup\": \"True\", \"hovertemplate\": \"pitch_type=FF<br>Year=%{x}<br>#Pitches=%{y}<extra></extra>\", \"legendgroup\": \"FF\", \"marker\": {\"color\": \"#00cc96\"}, \"name\": \"FF\", \"offsetgroup\": \"FF\", \"orientation\": \"v\", \"showlegend\": true, \"textposition\": \"auto\", \"type\": \"bar\", \"x\": [2016, 2017, 2018, 2019, 2020], \"xaxis\": \"x\", \"y\": [655, 1128, 276, 759, 109], \"yaxis\": \"y\"}, {\"alignmentgroup\": \"True\", \"hovertemplate\": \"pitch_type=FS<br>Year=%{x}<br>#Pitches=%{y}<extra></extra>\", \"legendgroup\": \"FS\", \"marker\": {\"color\": \"#ab63fa\"}, \"name\": \"FS\", \"offsetgroup\": \"FS\", \"orientation\": \"v\", \"showlegend\": true, \"textposition\": \"auto\", \"type\": \"bar\", \"x\": [2016, 2019, 2020], \"xaxis\": \"x\", \"y\": [37, 108, 31], \"yaxis\": \"y\"}, {\"alignmentgroup\": \"True\", \"hovertemplate\": \"pitch_type=FT<br>Year=%{x}<br>#Pitches=%{y}<extra></extra>\", \"legendgroup\": \"FT\", \"marker\": {\"color\": \"#FFA15A\"}, \"name\": \"FT\", \"offsetgroup\": \"FT\", \"orientation\": \"v\", \"showlegend\": true, \"textposition\": \"auto\", \"type\": \"bar\", \"x\": [2016, 2017, 2018, 2019], \"xaxis\": \"x\", \"y\": [332, 550, 138, 334], \"yaxis\": \"y\"}, {\"alignmentgroup\": \"True\", \"hovertemplate\": \"pitch_type=IN<br>Year=%{x}<br>#Pitches=%{y}<extra></extra>\", \"legendgroup\": \"IN\", \"marker\": {\"color\": \"#19d3f3\"}, \"name\": \"IN\", \"offsetgroup\": \"IN\", \"orientation\": \"v\", \"showlegend\": true, \"textposition\": \"auto\", \"type\": \"bar\", \"x\": [2016], \"xaxis\": \"x\", \"y\": [2], \"yaxis\": \"y\"}, {\"alignmentgroup\": \"True\", \"hovertemplate\": \"pitch_type=SL<br>Year=%{x}<br>#Pitches=%{y}<extra></extra>\", \"legendgroup\": \"SL\", \"marker\": {\"color\": \"#FF6692\"}, \"name\": \"SL\", \"offsetgroup\": \"SL\", \"orientation\": \"v\", \"showlegend\": true, \"textposition\": \"auto\", \"type\": \"bar\", \"x\": [2016, 2017, 2018, 2019, 2020], \"xaxis\": \"x\", \"y\": [339, 840, 178, 392, 121], \"yaxis\": \"y\"}, {\"alignmentgroup\": \"True\", \"hovertemplate\": \"pitch_type=CH<br>Year=%{x}<br>#Pitches=%{y}<extra></extra>\", \"legendgroup\": \"CH\", \"marker\": {\"color\": \"#B6E880\"}, \"name\": \"CH\", \"offsetgroup\": \"CH\", \"orientation\": \"v\", \"showlegend\": true, \"textposition\": \"auto\", \"type\": \"bar\", \"x\": [2017, 2018, 2019], \"xaxis\": \"x\", \"y\": [84, 28, 12], \"yaxis\": \"y\"}, {\"alignmentgroup\": \"True\", \"hovertemplate\": \"pitch_type=EP<br>Year=%{x}<br>#Pitches=%{y}<extra></extra>\", \"legendgroup\": \"EP\", \"marker\": {\"color\": \"#FF97FF\"}, \"name\": \"EP\", \"offsetgroup\": \"EP\", \"orientation\": \"v\", \"showlegend\": true, \"textposition\": \"auto\", \"type\": \"bar\", \"x\": [2017, 2018, 2019], \"xaxis\": \"x\", \"y\": [5, 1, 2], \"yaxis\": \"y\"}, {\"alignmentgroup\": \"True\", \"hovertemplate\": \"pitch_type=KC<br>Year=%{x}<br>#Pitches=%{y}<extra></extra>\", \"legendgroup\": \"KC\", \"marker\": {\"color\": \"#FECB52\"}, \"name\": \"KC\", \"offsetgroup\": \"KC\", \"orientation\": \"v\", \"showlegend\": true, \"textposition\": \"auto\", \"type\": \"bar\", \"x\": [2019, 2020], \"xaxis\": \"x\", \"y\": [59, 55], \"yaxis\": \"y\"}, {\"alignmentgroup\": \"True\", \"hovertemplate\": \"pitch_type=CS<br>Year=%{x}<br>#Pitches=%{y}<extra></extra>\", \"legendgroup\": \"CS\", \"marker\": {\"color\": \"#636efa\"}, \"name\": \"CS\", \"offsetgroup\": \"CS\", \"orientation\": \"v\", \"showlegend\": true, \"textposition\": \"auto\", \"type\": \"bar\", \"x\": [2020], \"xaxis\": \"x\", \"y\": [2], \"yaxis\": \"y\"}, {\"alignmentgroup\": \"True\", \"hovertemplate\": \"pitch_type=SI<br>Year=%{x}<br>#Pitches=%{y}<extra></extra>\", \"legendgroup\": \"SI\", \"marker\": {\"color\": \"#EF553B\"}, \"name\": \"SI\", \"offsetgroup\": \"SI\", \"orientation\": \"v\", \"showlegend\": true, \"textposition\": \"auto\", \"type\": \"bar\", \"x\": [2020], \"xaxis\": \"x\", \"y\": [66], \"yaxis\": \"y\"}],\n",
       "                        {\"barmode\": \"relative\", \"legend\": {\"title\": {\"text\": \"pitch_type\"}, \"tracegroupgap\": 0}, \"template\": {\"data\": {\"bar\": [{\"error_x\": {\"color\": \"#2a3f5f\"}, \"error_y\": {\"color\": \"#2a3f5f\"}, \"marker\": {\"line\": {\"color\": \"#E5ECF6\", \"width\": 0.5}}, \"type\": \"bar\"}], \"barpolar\": [{\"marker\": {\"line\": {\"color\": \"#E5ECF6\", \"width\": 0.5}}, \"type\": \"barpolar\"}], \"carpet\": [{\"aaxis\": {\"endlinecolor\": \"#2a3f5f\", \"gridcolor\": \"white\", \"linecolor\": \"white\", \"minorgridcolor\": \"white\", \"startlinecolor\": \"#2a3f5f\"}, \"baxis\": {\"endlinecolor\": \"#2a3f5f\", \"gridcolor\": \"white\", \"linecolor\": \"white\", \"minorgridcolor\": \"white\", \"startlinecolor\": \"#2a3f5f\"}, \"type\": \"carpet\"}], \"choropleth\": [{\"colorbar\": {\"outlinewidth\": 0, \"ticks\": \"\"}, \"type\": \"choropleth\"}], \"contour\": [{\"colorbar\": {\"outlinewidth\": 0, \"ticks\": \"\"}, \"colorscale\": [[0.0, \"#0d0887\"], [0.1111111111111111, \"#46039f\"], [0.2222222222222222, \"#7201a8\"], [0.3333333333333333, \"#9c179e\"], [0.4444444444444444, \"#bd3786\"], [0.5555555555555556, \"#d8576b\"], [0.6666666666666666, \"#ed7953\"], [0.7777777777777778, \"#fb9f3a\"], [0.8888888888888888, \"#fdca26\"], [1.0, \"#f0f921\"]], \"type\": \"contour\"}], \"contourcarpet\": [{\"colorbar\": {\"outlinewidth\": 0, \"ticks\": \"\"}, \"type\": \"contourcarpet\"}], \"heatmap\": [{\"colorbar\": {\"outlinewidth\": 0, \"ticks\": \"\"}, \"colorscale\": [[0.0, \"#0d0887\"], [0.1111111111111111, \"#46039f\"], [0.2222222222222222, \"#7201a8\"], [0.3333333333333333, \"#9c179e\"], [0.4444444444444444, \"#bd3786\"], [0.5555555555555556, \"#d8576b\"], [0.6666666666666666, \"#ed7953\"], [0.7777777777777778, \"#fb9f3a\"], [0.8888888888888888, \"#fdca26\"], [1.0, \"#f0f921\"]], \"type\": \"heatmap\"}], \"heatmapgl\": [{\"colorbar\": {\"outlinewidth\": 0, \"ticks\": \"\"}, \"colorscale\": [[0.0, \"#0d0887\"], [0.1111111111111111, \"#46039f\"], [0.2222222222222222, \"#7201a8\"], [0.3333333333333333, \"#9c179e\"], [0.4444444444444444, \"#bd3786\"], [0.5555555555555556, \"#d8576b\"], [0.6666666666666666, \"#ed7953\"], [0.7777777777777778, \"#fb9f3a\"], [0.8888888888888888, \"#fdca26\"], [1.0, \"#f0f921\"]], \"type\": \"heatmapgl\"}], \"histogram\": [{\"marker\": {\"colorbar\": {\"outlinewidth\": 0, \"ticks\": \"\"}}, \"type\": \"histogram\"}], \"histogram2d\": [{\"colorbar\": {\"outlinewidth\": 0, \"ticks\": \"\"}, \"colorscale\": [[0.0, \"#0d0887\"], [0.1111111111111111, \"#46039f\"], [0.2222222222222222, \"#7201a8\"], [0.3333333333333333, \"#9c179e\"], [0.4444444444444444, \"#bd3786\"], [0.5555555555555556, \"#d8576b\"], [0.6666666666666666, \"#ed7953\"], [0.7777777777777778, \"#fb9f3a\"], [0.8888888888888888, \"#fdca26\"], [1.0, \"#f0f921\"]], \"type\": \"histogram2d\"}], \"histogram2dcontour\": [{\"colorbar\": {\"outlinewidth\": 0, \"ticks\": \"\"}, \"colorscale\": [[0.0, \"#0d0887\"], [0.1111111111111111, \"#46039f\"], [0.2222222222222222, \"#7201a8\"], [0.3333333333333333, \"#9c179e\"], [0.4444444444444444, \"#bd3786\"], [0.5555555555555556, \"#d8576b\"], [0.6666666666666666, \"#ed7953\"], [0.7777777777777778, \"#fb9f3a\"], [0.8888888888888888, \"#fdca26\"], [1.0, \"#f0f921\"]], \"type\": \"histogram2dcontour\"}], \"mesh3d\": [{\"colorbar\": {\"outlinewidth\": 0, \"ticks\": \"\"}, \"type\": \"mesh3d\"}], \"parcoords\": [{\"line\": {\"colorbar\": {\"outlinewidth\": 0, \"ticks\": \"\"}}, \"type\": \"parcoords\"}], \"pie\": [{\"automargin\": true, \"type\": \"pie\"}], \"scatter\": [{\"marker\": {\"colorbar\": {\"outlinewidth\": 0, \"ticks\": \"\"}}, \"type\": \"scatter\"}], \"scatter3d\": [{\"line\": {\"colorbar\": {\"outlinewidth\": 0, \"ticks\": \"\"}}, \"marker\": {\"colorbar\": {\"outlinewidth\": 0, \"ticks\": \"\"}}, \"type\": \"scatter3d\"}], \"scattercarpet\": [{\"marker\": {\"colorbar\": {\"outlinewidth\": 0, \"ticks\": \"\"}}, \"type\": \"scattercarpet\"}], \"scattergeo\": [{\"marker\": {\"colorbar\": {\"outlinewidth\": 0, \"ticks\": \"\"}}, \"type\": \"scattergeo\"}], \"scattergl\": [{\"marker\": {\"colorbar\": {\"outlinewidth\": 0, \"ticks\": \"\"}}, \"type\": \"scattergl\"}], \"scattermapbox\": [{\"marker\": {\"colorbar\": {\"outlinewidth\": 0, \"ticks\": \"\"}}, \"type\": \"scattermapbox\"}], \"scatterpolar\": [{\"marker\": {\"colorbar\": {\"outlinewidth\": 0, \"ticks\": \"\"}}, \"type\": \"scatterpolar\"}], \"scatterpolargl\": [{\"marker\": {\"colorbar\": {\"outlinewidth\": 0, \"ticks\": \"\"}}, \"type\": \"scatterpolargl\"}], \"scatterternary\": [{\"marker\": {\"colorbar\": {\"outlinewidth\": 0, \"ticks\": \"\"}}, \"type\": \"scatterternary\"}], \"surface\": [{\"colorbar\": {\"outlinewidth\": 0, \"ticks\": \"\"}, \"colorscale\": [[0.0, \"#0d0887\"], [0.1111111111111111, \"#46039f\"], [0.2222222222222222, \"#7201a8\"], [0.3333333333333333, \"#9c179e\"], [0.4444444444444444, \"#bd3786\"], [0.5555555555555556, \"#d8576b\"], [0.6666666666666666, \"#ed7953\"], [0.7777777777777778, \"#fb9f3a\"], [0.8888888888888888, \"#fdca26\"], [1.0, \"#f0f921\"]], \"type\": \"surface\"}], \"table\": [{\"cells\": {\"fill\": {\"color\": \"#EBF0F8\"}, \"line\": {\"color\": \"white\"}}, \"header\": {\"fill\": {\"color\": \"#C8D4E3\"}, \"line\": {\"color\": \"white\"}}, \"type\": \"table\"}]}, \"layout\": {\"annotationdefaults\": {\"arrowcolor\": \"#2a3f5f\", \"arrowhead\": 0, \"arrowwidth\": 1}, \"coloraxis\": {\"colorbar\": {\"outlinewidth\": 0, \"ticks\": \"\"}}, \"colorscale\": {\"diverging\": [[0, \"#8e0152\"], [0.1, \"#c51b7d\"], [0.2, \"#de77ae\"], [0.3, \"#f1b6da\"], [0.4, \"#fde0ef\"], [0.5, \"#f7f7f7\"], [0.6, \"#e6f5d0\"], [0.7, \"#b8e186\"], [0.8, \"#7fbc41\"], [0.9, \"#4d9221\"], [1, \"#276419\"]], \"sequential\": [[0.0, \"#0d0887\"], [0.1111111111111111, \"#46039f\"], [0.2222222222222222, \"#7201a8\"], [0.3333333333333333, \"#9c179e\"], [0.4444444444444444, \"#bd3786\"], [0.5555555555555556, \"#d8576b\"], [0.6666666666666666, \"#ed7953\"], [0.7777777777777778, \"#fb9f3a\"], [0.8888888888888888, \"#fdca26\"], [1.0, \"#f0f921\"]], \"sequentialminus\": [[0.0, \"#0d0887\"], [0.1111111111111111, \"#46039f\"], [0.2222222222222222, \"#7201a8\"], [0.3333333333333333, \"#9c179e\"], [0.4444444444444444, \"#bd3786\"], [0.5555555555555556, \"#d8576b\"], [0.6666666666666666, \"#ed7953\"], [0.7777777777777778, \"#fb9f3a\"], [0.8888888888888888, \"#fdca26\"], [1.0, \"#f0f921\"]]}, \"colorway\": [\"#636efa\", \"#EF553B\", \"#00cc96\", \"#ab63fa\", \"#FFA15A\", \"#19d3f3\", \"#FF6692\", \"#B6E880\", \"#FF97FF\", \"#FECB52\"], \"font\": {\"color\": \"#2a3f5f\"}, \"geo\": {\"bgcolor\": \"white\", \"lakecolor\": \"white\", \"landcolor\": \"#E5ECF6\", \"showlakes\": true, \"showland\": true, \"subunitcolor\": \"white\"}, \"hoverlabel\": {\"align\": \"left\"}, \"hovermode\": \"closest\", \"mapbox\": {\"style\": \"light\"}, \"paper_bgcolor\": \"white\", \"plot_bgcolor\": \"#E5ECF6\", \"polar\": {\"angularaxis\": {\"gridcolor\": \"white\", \"linecolor\": \"white\", \"ticks\": \"\"}, \"bgcolor\": \"#E5ECF6\", \"radialaxis\": {\"gridcolor\": \"white\", \"linecolor\": \"white\", \"ticks\": \"\"}}, \"scene\": {\"xaxis\": {\"backgroundcolor\": \"#E5ECF6\", \"gridcolor\": \"white\", \"gridwidth\": 2, \"linecolor\": \"white\", \"showbackground\": true, \"ticks\": \"\", \"zerolinecolor\": \"white\"}, \"yaxis\": {\"backgroundcolor\": \"#E5ECF6\", \"gridcolor\": \"white\", \"gridwidth\": 2, \"linecolor\": \"white\", \"showbackground\": true, \"ticks\": \"\", \"zerolinecolor\": \"white\"}, \"zaxis\": {\"backgroundcolor\": \"#E5ECF6\", \"gridcolor\": \"white\", \"gridwidth\": 2, \"linecolor\": \"white\", \"showbackground\": true, \"ticks\": \"\", \"zerolinecolor\": \"white\"}}, \"shapedefaults\": {\"line\": {\"color\": \"#2a3f5f\"}}, \"ternary\": {\"aaxis\": {\"gridcolor\": \"white\", \"linecolor\": \"white\", \"ticks\": \"\"}, \"baxis\": {\"gridcolor\": \"white\", \"linecolor\": \"white\", \"ticks\": \"\"}, \"bgcolor\": \"#E5ECF6\", \"caxis\": {\"gridcolor\": \"white\", \"linecolor\": \"white\", \"ticks\": \"\"}}, \"title\": {\"x\": 0.05}, \"xaxis\": {\"automargin\": true, \"gridcolor\": \"white\", \"linecolor\": \"white\", \"ticks\": \"\", \"title\": {\"standoff\": 15}, \"zerolinecolor\": \"white\", \"zerolinewidth\": 2}, \"yaxis\": {\"automargin\": true, \"gridcolor\": \"white\", \"linecolor\": \"white\", \"ticks\": \"\", \"title\": {\"standoff\": 15}, \"zerolinecolor\": \"white\", \"zerolinewidth\": 2}}}, \"title\": {\"text\": \"Darvish Pitch Arsenal\"}, \"xaxis\": {\"anchor\": \"y\", \"domain\": [0.0, 1.0], \"title\": {\"text\": \"Year\"}}, \"yaxis\": {\"anchor\": \"x\", \"domain\": [0.0, 1.0], \"title\": {\"text\": \"#Pitches\"}}},\n",
       "                        {\"responsive\": true}\n",
       "                    ).then(function(){\n",
       "                            \n",
       "var gd = document.getElementById('44606c8f-e392-4db4-8917-a9baaf192164');\n",
       "var x = new MutationObserver(function (mutations, observer) {{\n",
       "        var display = window.getComputedStyle(gd).display;\n",
       "        if (!display || display === 'none') {{\n",
       "            console.log([gd, 'removed!']);\n",
       "            Plotly.purge(gd);\n",
       "            observer.disconnect();\n",
       "        }}\n",
       "}});\n",
       "\n",
       "// Listen for the removal of the full notebook cells\n",
       "var notebookContainer = gd.closest('#notebook-container');\n",
       "if (notebookContainer) {{\n",
       "    x.observe(notebookContainer, {childList: true});\n",
       "}}\n",
       "\n",
       "// Listen for the clearing of the current output cell\n",
       "var outputEl = gd.closest('.output');\n",
       "if (outputEl) {{\n",
       "    x.observe(outputEl, {childList: true});\n",
       "}}\n",
       "\n",
       "                        })\n",
       "                };\n",
       "                });\n",
       "            </script>\n",
       "        </div>"
      ]
     },
     "metadata": {},
     "output_type": "display_data"
    }
   ],
   "source": [
    "fig = px.bar(darvish_pitches, x=\"Year\", y=\"#Pitches\", color=\"pitch_type\", title=\"Darvish Pitch Arsenal\")\n",
    "fig.show()\n",
    "fig.write_html(\"Images/darvish_pitches.html\")"
   ]
  },
  {
   "cell_type": "code",
   "execution_count": 193,
   "metadata": {
    "scrolled": false
   },
   "outputs": [
    {
     "data": {
      "application/vnd.plotly.v1+json": {
       "config": {
        "plotlyServerURL": "https://plot.ly"
       },
       "data": [
        {
         "alignmentgroup": "True",
         "hovertemplate": "pitch_type=CU<br>Year=%{x}<br>#Ks=%{y}<extra></extra>",
         "legendgroup": "CU",
         "marker": {
          "color": "#636efa"
         },
         "name": "CU",
         "offsetgroup": "CU",
         "orientation": "v",
         "showlegend": true,
         "textposition": "auto",
         "type": "bar",
         "x": [
          2016,
          2017,
          2018,
          2019,
          2020
         ],
         "xaxis": "x",
         "y": [
          16,
          29,
          1,
          7,
          1
         ],
         "yaxis": "y"
        },
        {
         "alignmentgroup": "True",
         "hovertemplate": "pitch_type=FC<br>Year=%{x}<br>#Ks=%{y}<extra></extra>",
         "legendgroup": "FC",
         "marker": {
          "color": "#EF553B"
         },
         "name": "FC",
         "offsetgroup": "FC",
         "orientation": "v",
         "showlegend": true,
         "textposition": "auto",
         "type": "bar",
         "x": [
          2016,
          2017,
          2018,
          2019,
          2020
         ],
         "xaxis": "x",
         "y": [
          7,
          11,
          4,
          77,
          20
         ],
         "yaxis": "y"
        },
        {
         "alignmentgroup": "True",
         "hovertemplate": "pitch_type=FF<br>Year=%{x}<br>#Ks=%{y}<extra></extra>",
         "legendgroup": "FF",
         "marker": {
          "color": "#00cc96"
         },
         "name": "FF",
         "offsetgroup": "FF",
         "orientation": "v",
         "showlegend": true,
         "textposition": "auto",
         "type": "bar",
         "x": [
          2016,
          2017,
          2018,
          2019,
          2020
         ],
         "xaxis": "x",
         "y": [
          51,
          87,
          9,
          40,
          13
         ],
         "yaxis": "y"
        },
        {
         "alignmentgroup": "True",
         "hovertemplate": "pitch_type=FS<br>Year=%{x}<br>#Ks=%{y}<extra></extra>",
         "legendgroup": "FS",
         "marker": {
          "color": "#ab63fa"
         },
         "name": "FS",
         "offsetgroup": "FS",
         "orientation": "v",
         "showlegend": true,
         "textposition": "auto",
         "type": "bar",
         "x": [
          2016,
          2019,
          2020
         ],
         "xaxis": "x",
         "y": [
          1,
          18,
          3
         ],
         "yaxis": "y"
        },
        {
         "alignmentgroup": "True",
         "hovertemplate": "pitch_type=FT<br>Year=%{x}<br>#Ks=%{y}<extra></extra>",
         "legendgroup": "FT",
         "marker": {
          "color": "#FFA15A"
         },
         "name": "FT",
         "offsetgroup": "FT",
         "orientation": "v",
         "showlegend": true,
         "textposition": "auto",
         "type": "bar",
         "x": [
          2016,
          2017,
          2018,
          2019
         ],
         "xaxis": "x",
         "y": [
          8,
          10,
          7,
          24
         ],
         "yaxis": "y"
        },
        {
         "alignmentgroup": "True",
         "hovertemplate": "pitch_type=SL<br>Year=%{x}<br>#Ks=%{y}<extra></extra>",
         "legendgroup": "SL",
         "marker": {
          "color": "#19d3f3"
         },
         "name": "SL",
         "offsetgroup": "SL",
         "orientation": "v",
         "showlegend": true,
         "textposition": "auto",
         "type": "bar",
         "x": [
          2016,
          2017,
          2018,
          2019,
          2020
         ],
         "xaxis": "x",
         "y": [
          53,
          80,
          24,
          35,
          16
         ],
         "yaxis": "y"
        },
        {
         "alignmentgroup": "True",
         "hovertemplate": "pitch_type=CH<br>Year=%{x}<br>#Ks=%{y}<extra></extra>",
         "legendgroup": "CH",
         "marker": {
          "color": "#FF6692"
         },
         "name": "CH",
         "offsetgroup": "CH",
         "orientation": "v",
         "showlegend": true,
         "textposition": "auto",
         "type": "bar",
         "x": [
          2017,
          2018,
          2019
         ],
         "xaxis": "x",
         "y": [
          4,
          2,
          4
         ],
         "yaxis": "y"
        },
        {
         "alignmentgroup": "True",
         "hovertemplate": "pitch_type=EP<br>Year=%{x}<br>#Ks=%{y}<extra></extra>",
         "legendgroup": "EP",
         "marker": {
          "color": "#B6E880"
         },
         "name": "EP",
         "offsetgroup": "EP",
         "orientation": "v",
         "showlegend": true,
         "textposition": "auto",
         "type": "bar",
         "x": [
          2017,
          2018
         ],
         "xaxis": "x",
         "y": [
          1,
          1
         ],
         "yaxis": "y"
        },
        {
         "alignmentgroup": "True",
         "hovertemplate": "pitch_type=KC<br>Year=%{x}<br>#Ks=%{y}<extra></extra>",
         "legendgroup": "KC",
         "marker": {
          "color": "#FF97FF"
         },
         "name": "KC",
         "offsetgroup": "KC",
         "orientation": "v",
         "showlegend": true,
         "textposition": "auto",
         "type": "bar",
         "x": [
          2019,
          2020
         ],
         "xaxis": "x",
         "y": [
          24,
          4
         ],
         "yaxis": "y"
        },
        {
         "alignmentgroup": "True",
         "hovertemplate": "pitch_type=SI<br>Year=%{x}<br>#Ks=%{y}<extra></extra>",
         "legendgroup": "SI",
         "marker": {
          "color": "#FECB52"
         },
         "name": "SI",
         "offsetgroup": "SI",
         "orientation": "v",
         "showlegend": true,
         "textposition": "auto",
         "type": "bar",
         "x": [
          2020
         ],
         "xaxis": "x",
         "y": [
          6
         ],
         "yaxis": "y"
        }
       ],
       "layout": {
        "barmode": "relative",
        "legend": {
         "title": {
          "text": "pitch_type"
         },
         "tracegroupgap": 0
        },
        "template": {
         "data": {
          "bar": [
           {
            "error_x": {
             "color": "#2a3f5f"
            },
            "error_y": {
             "color": "#2a3f5f"
            },
            "marker": {
             "line": {
              "color": "#E5ECF6",
              "width": 0.5
             }
            },
            "type": "bar"
           }
          ],
          "barpolar": [
           {
            "marker": {
             "line": {
              "color": "#E5ECF6",
              "width": 0.5
             }
            },
            "type": "barpolar"
           }
          ],
          "carpet": [
           {
            "aaxis": {
             "endlinecolor": "#2a3f5f",
             "gridcolor": "white",
             "linecolor": "white",
             "minorgridcolor": "white",
             "startlinecolor": "#2a3f5f"
            },
            "baxis": {
             "endlinecolor": "#2a3f5f",
             "gridcolor": "white",
             "linecolor": "white",
             "minorgridcolor": "white",
             "startlinecolor": "#2a3f5f"
            },
            "type": "carpet"
           }
          ],
          "choropleth": [
           {
            "colorbar": {
             "outlinewidth": 0,
             "ticks": ""
            },
            "type": "choropleth"
           }
          ],
          "contour": [
           {
            "colorbar": {
             "outlinewidth": 0,
             "ticks": ""
            },
            "colorscale": [
             [
              0,
              "#0d0887"
             ],
             [
              0.1111111111111111,
              "#46039f"
             ],
             [
              0.2222222222222222,
              "#7201a8"
             ],
             [
              0.3333333333333333,
              "#9c179e"
             ],
             [
              0.4444444444444444,
              "#bd3786"
             ],
             [
              0.5555555555555556,
              "#d8576b"
             ],
             [
              0.6666666666666666,
              "#ed7953"
             ],
             [
              0.7777777777777778,
              "#fb9f3a"
             ],
             [
              0.8888888888888888,
              "#fdca26"
             ],
             [
              1,
              "#f0f921"
             ]
            ],
            "type": "contour"
           }
          ],
          "contourcarpet": [
           {
            "colorbar": {
             "outlinewidth": 0,
             "ticks": ""
            },
            "type": "contourcarpet"
           }
          ],
          "heatmap": [
           {
            "colorbar": {
             "outlinewidth": 0,
             "ticks": ""
            },
            "colorscale": [
             [
              0,
              "#0d0887"
             ],
             [
              0.1111111111111111,
              "#46039f"
             ],
             [
              0.2222222222222222,
              "#7201a8"
             ],
             [
              0.3333333333333333,
              "#9c179e"
             ],
             [
              0.4444444444444444,
              "#bd3786"
             ],
             [
              0.5555555555555556,
              "#d8576b"
             ],
             [
              0.6666666666666666,
              "#ed7953"
             ],
             [
              0.7777777777777778,
              "#fb9f3a"
             ],
             [
              0.8888888888888888,
              "#fdca26"
             ],
             [
              1,
              "#f0f921"
             ]
            ],
            "type": "heatmap"
           }
          ],
          "heatmapgl": [
           {
            "colorbar": {
             "outlinewidth": 0,
             "ticks": ""
            },
            "colorscale": [
             [
              0,
              "#0d0887"
             ],
             [
              0.1111111111111111,
              "#46039f"
             ],
             [
              0.2222222222222222,
              "#7201a8"
             ],
             [
              0.3333333333333333,
              "#9c179e"
             ],
             [
              0.4444444444444444,
              "#bd3786"
             ],
             [
              0.5555555555555556,
              "#d8576b"
             ],
             [
              0.6666666666666666,
              "#ed7953"
             ],
             [
              0.7777777777777778,
              "#fb9f3a"
             ],
             [
              0.8888888888888888,
              "#fdca26"
             ],
             [
              1,
              "#f0f921"
             ]
            ],
            "type": "heatmapgl"
           }
          ],
          "histogram": [
           {
            "marker": {
             "colorbar": {
              "outlinewidth": 0,
              "ticks": ""
             }
            },
            "type": "histogram"
           }
          ],
          "histogram2d": [
           {
            "colorbar": {
             "outlinewidth": 0,
             "ticks": ""
            },
            "colorscale": [
             [
              0,
              "#0d0887"
             ],
             [
              0.1111111111111111,
              "#46039f"
             ],
             [
              0.2222222222222222,
              "#7201a8"
             ],
             [
              0.3333333333333333,
              "#9c179e"
             ],
             [
              0.4444444444444444,
              "#bd3786"
             ],
             [
              0.5555555555555556,
              "#d8576b"
             ],
             [
              0.6666666666666666,
              "#ed7953"
             ],
             [
              0.7777777777777778,
              "#fb9f3a"
             ],
             [
              0.8888888888888888,
              "#fdca26"
             ],
             [
              1,
              "#f0f921"
             ]
            ],
            "type": "histogram2d"
           }
          ],
          "histogram2dcontour": [
           {
            "colorbar": {
             "outlinewidth": 0,
             "ticks": ""
            },
            "colorscale": [
             [
              0,
              "#0d0887"
             ],
             [
              0.1111111111111111,
              "#46039f"
             ],
             [
              0.2222222222222222,
              "#7201a8"
             ],
             [
              0.3333333333333333,
              "#9c179e"
             ],
             [
              0.4444444444444444,
              "#bd3786"
             ],
             [
              0.5555555555555556,
              "#d8576b"
             ],
             [
              0.6666666666666666,
              "#ed7953"
             ],
             [
              0.7777777777777778,
              "#fb9f3a"
             ],
             [
              0.8888888888888888,
              "#fdca26"
             ],
             [
              1,
              "#f0f921"
             ]
            ],
            "type": "histogram2dcontour"
           }
          ],
          "mesh3d": [
           {
            "colorbar": {
             "outlinewidth": 0,
             "ticks": ""
            },
            "type": "mesh3d"
           }
          ],
          "parcoords": [
           {
            "line": {
             "colorbar": {
              "outlinewidth": 0,
              "ticks": ""
             }
            },
            "type": "parcoords"
           }
          ],
          "pie": [
           {
            "automargin": true,
            "type": "pie"
           }
          ],
          "scatter": [
           {
            "marker": {
             "colorbar": {
              "outlinewidth": 0,
              "ticks": ""
             }
            },
            "type": "scatter"
           }
          ],
          "scatter3d": [
           {
            "line": {
             "colorbar": {
              "outlinewidth": 0,
              "ticks": ""
             }
            },
            "marker": {
             "colorbar": {
              "outlinewidth": 0,
              "ticks": ""
             }
            },
            "type": "scatter3d"
           }
          ],
          "scattercarpet": [
           {
            "marker": {
             "colorbar": {
              "outlinewidth": 0,
              "ticks": ""
             }
            },
            "type": "scattercarpet"
           }
          ],
          "scattergeo": [
           {
            "marker": {
             "colorbar": {
              "outlinewidth": 0,
              "ticks": ""
             }
            },
            "type": "scattergeo"
           }
          ],
          "scattergl": [
           {
            "marker": {
             "colorbar": {
              "outlinewidth": 0,
              "ticks": ""
             }
            },
            "type": "scattergl"
           }
          ],
          "scattermapbox": [
           {
            "marker": {
             "colorbar": {
              "outlinewidth": 0,
              "ticks": ""
             }
            },
            "type": "scattermapbox"
           }
          ],
          "scatterpolar": [
           {
            "marker": {
             "colorbar": {
              "outlinewidth": 0,
              "ticks": ""
             }
            },
            "type": "scatterpolar"
           }
          ],
          "scatterpolargl": [
           {
            "marker": {
             "colorbar": {
              "outlinewidth": 0,
              "ticks": ""
             }
            },
            "type": "scatterpolargl"
           }
          ],
          "scatterternary": [
           {
            "marker": {
             "colorbar": {
              "outlinewidth": 0,
              "ticks": ""
             }
            },
            "type": "scatterternary"
           }
          ],
          "surface": [
           {
            "colorbar": {
             "outlinewidth": 0,
             "ticks": ""
            },
            "colorscale": [
             [
              0,
              "#0d0887"
             ],
             [
              0.1111111111111111,
              "#46039f"
             ],
             [
              0.2222222222222222,
              "#7201a8"
             ],
             [
              0.3333333333333333,
              "#9c179e"
             ],
             [
              0.4444444444444444,
              "#bd3786"
             ],
             [
              0.5555555555555556,
              "#d8576b"
             ],
             [
              0.6666666666666666,
              "#ed7953"
             ],
             [
              0.7777777777777778,
              "#fb9f3a"
             ],
             [
              0.8888888888888888,
              "#fdca26"
             ],
             [
              1,
              "#f0f921"
             ]
            ],
            "type": "surface"
           }
          ],
          "table": [
           {
            "cells": {
             "fill": {
              "color": "#EBF0F8"
             },
             "line": {
              "color": "white"
             }
            },
            "header": {
             "fill": {
              "color": "#C8D4E3"
             },
             "line": {
              "color": "white"
             }
            },
            "type": "table"
           }
          ]
         },
         "layout": {
          "annotationdefaults": {
           "arrowcolor": "#2a3f5f",
           "arrowhead": 0,
           "arrowwidth": 1
          },
          "coloraxis": {
           "colorbar": {
            "outlinewidth": 0,
            "ticks": ""
           }
          },
          "colorscale": {
           "diverging": [
            [
             0,
             "#8e0152"
            ],
            [
             0.1,
             "#c51b7d"
            ],
            [
             0.2,
             "#de77ae"
            ],
            [
             0.3,
             "#f1b6da"
            ],
            [
             0.4,
             "#fde0ef"
            ],
            [
             0.5,
             "#f7f7f7"
            ],
            [
             0.6,
             "#e6f5d0"
            ],
            [
             0.7,
             "#b8e186"
            ],
            [
             0.8,
             "#7fbc41"
            ],
            [
             0.9,
             "#4d9221"
            ],
            [
             1,
             "#276419"
            ]
           ],
           "sequential": [
            [
             0,
             "#0d0887"
            ],
            [
             0.1111111111111111,
             "#46039f"
            ],
            [
             0.2222222222222222,
             "#7201a8"
            ],
            [
             0.3333333333333333,
             "#9c179e"
            ],
            [
             0.4444444444444444,
             "#bd3786"
            ],
            [
             0.5555555555555556,
             "#d8576b"
            ],
            [
             0.6666666666666666,
             "#ed7953"
            ],
            [
             0.7777777777777778,
             "#fb9f3a"
            ],
            [
             0.8888888888888888,
             "#fdca26"
            ],
            [
             1,
             "#f0f921"
            ]
           ],
           "sequentialminus": [
            [
             0,
             "#0d0887"
            ],
            [
             0.1111111111111111,
             "#46039f"
            ],
            [
             0.2222222222222222,
             "#7201a8"
            ],
            [
             0.3333333333333333,
             "#9c179e"
            ],
            [
             0.4444444444444444,
             "#bd3786"
            ],
            [
             0.5555555555555556,
             "#d8576b"
            ],
            [
             0.6666666666666666,
             "#ed7953"
            ],
            [
             0.7777777777777778,
             "#fb9f3a"
            ],
            [
             0.8888888888888888,
             "#fdca26"
            ],
            [
             1,
             "#f0f921"
            ]
           ]
          },
          "colorway": [
           "#636efa",
           "#EF553B",
           "#00cc96",
           "#ab63fa",
           "#FFA15A",
           "#19d3f3",
           "#FF6692",
           "#B6E880",
           "#FF97FF",
           "#FECB52"
          ],
          "font": {
           "color": "#2a3f5f"
          },
          "geo": {
           "bgcolor": "white",
           "lakecolor": "white",
           "landcolor": "#E5ECF6",
           "showlakes": true,
           "showland": true,
           "subunitcolor": "white"
          },
          "hoverlabel": {
           "align": "left"
          },
          "hovermode": "closest",
          "mapbox": {
           "style": "light"
          },
          "paper_bgcolor": "white",
          "plot_bgcolor": "#E5ECF6",
          "polar": {
           "angularaxis": {
            "gridcolor": "white",
            "linecolor": "white",
            "ticks": ""
           },
           "bgcolor": "#E5ECF6",
           "radialaxis": {
            "gridcolor": "white",
            "linecolor": "white",
            "ticks": ""
           }
          },
          "scene": {
           "xaxis": {
            "backgroundcolor": "#E5ECF6",
            "gridcolor": "white",
            "gridwidth": 2,
            "linecolor": "white",
            "showbackground": true,
            "ticks": "",
            "zerolinecolor": "white"
           },
           "yaxis": {
            "backgroundcolor": "#E5ECF6",
            "gridcolor": "white",
            "gridwidth": 2,
            "linecolor": "white",
            "showbackground": true,
            "ticks": "",
            "zerolinecolor": "white"
           },
           "zaxis": {
            "backgroundcolor": "#E5ECF6",
            "gridcolor": "white",
            "gridwidth": 2,
            "linecolor": "white",
            "showbackground": true,
            "ticks": "",
            "zerolinecolor": "white"
           }
          },
          "shapedefaults": {
           "line": {
            "color": "#2a3f5f"
           }
          },
          "ternary": {
           "aaxis": {
            "gridcolor": "white",
            "linecolor": "white",
            "ticks": ""
           },
           "baxis": {
            "gridcolor": "white",
            "linecolor": "white",
            "ticks": ""
           },
           "bgcolor": "#E5ECF6",
           "caxis": {
            "gridcolor": "white",
            "linecolor": "white",
            "ticks": ""
           }
          },
          "title": {
           "x": 0.05
          },
          "xaxis": {
           "automargin": true,
           "gridcolor": "white",
           "linecolor": "white",
           "ticks": "",
           "title": {
            "standoff": 15
           },
           "zerolinecolor": "white",
           "zerolinewidth": 2
          },
          "yaxis": {
           "automargin": true,
           "gridcolor": "white",
           "linecolor": "white",
           "ticks": "",
           "title": {
            "standoff": 15
           },
           "zerolinecolor": "white",
           "zerolinewidth": 2
          }
         }
        },
        "title": {
         "text": "Darvish Strikeouts by Pitch"
        },
        "xaxis": {
         "anchor": "y",
         "domain": [
          0,
          1
         ],
         "title": {
          "text": "Year"
         }
        },
        "yaxis": {
         "anchor": "x",
         "domain": [
          0,
          1
         ],
         "title": {
          "text": "#Ks"
         }
        }
       }
      },
      "text/html": [
       "<div>\n",
       "        \n",
       "        \n",
       "            <div id=\"f108352d-2f2c-4359-9230-6fe71bcd0cb5\" class=\"plotly-graph-div\" style=\"height:525px; width:100%;\"></div>\n",
       "            <script type=\"text/javascript\">\n",
       "                require([\"plotly\"], function(Plotly) {\n",
       "                    window.PLOTLYENV=window.PLOTLYENV || {};\n",
       "                    \n",
       "                if (document.getElementById(\"f108352d-2f2c-4359-9230-6fe71bcd0cb5\")) {\n",
       "                    Plotly.newPlot(\n",
       "                        'f108352d-2f2c-4359-9230-6fe71bcd0cb5',\n",
       "                        [{\"alignmentgroup\": \"True\", \"hovertemplate\": \"pitch_type=CU<br>Year=%{x}<br>#Ks=%{y}<extra></extra>\", \"legendgroup\": \"CU\", \"marker\": {\"color\": \"#636efa\"}, \"name\": \"CU\", \"offsetgroup\": \"CU\", \"orientation\": \"v\", \"showlegend\": true, \"textposition\": \"auto\", \"type\": \"bar\", \"x\": [2016, 2017, 2018, 2019, 2020], \"xaxis\": \"x\", \"y\": [16, 29, 1, 7, 1], \"yaxis\": \"y\"}, {\"alignmentgroup\": \"True\", \"hovertemplate\": \"pitch_type=FC<br>Year=%{x}<br>#Ks=%{y}<extra></extra>\", \"legendgroup\": \"FC\", \"marker\": {\"color\": \"#EF553B\"}, \"name\": \"FC\", \"offsetgroup\": \"FC\", \"orientation\": \"v\", \"showlegend\": true, \"textposition\": \"auto\", \"type\": \"bar\", \"x\": [2016, 2017, 2018, 2019, 2020], \"xaxis\": \"x\", \"y\": [7, 11, 4, 77, 20], \"yaxis\": \"y\"}, {\"alignmentgroup\": \"True\", \"hovertemplate\": \"pitch_type=FF<br>Year=%{x}<br>#Ks=%{y}<extra></extra>\", \"legendgroup\": \"FF\", \"marker\": {\"color\": \"#00cc96\"}, \"name\": \"FF\", \"offsetgroup\": \"FF\", \"orientation\": \"v\", \"showlegend\": true, \"textposition\": \"auto\", \"type\": \"bar\", \"x\": [2016, 2017, 2018, 2019, 2020], \"xaxis\": \"x\", \"y\": [51, 87, 9, 40, 13], \"yaxis\": \"y\"}, {\"alignmentgroup\": \"True\", \"hovertemplate\": \"pitch_type=FS<br>Year=%{x}<br>#Ks=%{y}<extra></extra>\", \"legendgroup\": \"FS\", \"marker\": {\"color\": \"#ab63fa\"}, \"name\": \"FS\", \"offsetgroup\": \"FS\", \"orientation\": \"v\", \"showlegend\": true, \"textposition\": \"auto\", \"type\": \"bar\", \"x\": [2016, 2019, 2020], \"xaxis\": \"x\", \"y\": [1, 18, 3], \"yaxis\": \"y\"}, {\"alignmentgroup\": \"True\", \"hovertemplate\": \"pitch_type=FT<br>Year=%{x}<br>#Ks=%{y}<extra></extra>\", \"legendgroup\": \"FT\", \"marker\": {\"color\": \"#FFA15A\"}, \"name\": \"FT\", \"offsetgroup\": \"FT\", \"orientation\": \"v\", \"showlegend\": true, \"textposition\": \"auto\", \"type\": \"bar\", \"x\": [2016, 2017, 2018, 2019], \"xaxis\": \"x\", \"y\": [8, 10, 7, 24], \"yaxis\": \"y\"}, {\"alignmentgroup\": \"True\", \"hovertemplate\": \"pitch_type=SL<br>Year=%{x}<br>#Ks=%{y}<extra></extra>\", \"legendgroup\": \"SL\", \"marker\": {\"color\": \"#19d3f3\"}, \"name\": \"SL\", \"offsetgroup\": \"SL\", \"orientation\": \"v\", \"showlegend\": true, \"textposition\": \"auto\", \"type\": \"bar\", \"x\": [2016, 2017, 2018, 2019, 2020], \"xaxis\": \"x\", \"y\": [53, 80, 24, 35, 16], \"yaxis\": \"y\"}, {\"alignmentgroup\": \"True\", \"hovertemplate\": \"pitch_type=CH<br>Year=%{x}<br>#Ks=%{y}<extra></extra>\", \"legendgroup\": \"CH\", \"marker\": {\"color\": \"#FF6692\"}, \"name\": \"CH\", \"offsetgroup\": \"CH\", \"orientation\": \"v\", \"showlegend\": true, \"textposition\": \"auto\", \"type\": \"bar\", \"x\": [2017, 2018, 2019], \"xaxis\": \"x\", \"y\": [4, 2, 4], \"yaxis\": \"y\"}, {\"alignmentgroup\": \"True\", \"hovertemplate\": \"pitch_type=EP<br>Year=%{x}<br>#Ks=%{y}<extra></extra>\", \"legendgroup\": \"EP\", \"marker\": {\"color\": \"#B6E880\"}, \"name\": \"EP\", \"offsetgroup\": \"EP\", \"orientation\": \"v\", \"showlegend\": true, \"textposition\": \"auto\", \"type\": \"bar\", \"x\": [2017, 2018], \"xaxis\": \"x\", \"y\": [1, 1], \"yaxis\": \"y\"}, {\"alignmentgroup\": \"True\", \"hovertemplate\": \"pitch_type=KC<br>Year=%{x}<br>#Ks=%{y}<extra></extra>\", \"legendgroup\": \"KC\", \"marker\": {\"color\": \"#FF97FF\"}, \"name\": \"KC\", \"offsetgroup\": \"KC\", \"orientation\": \"v\", \"showlegend\": true, \"textposition\": \"auto\", \"type\": \"bar\", \"x\": [2019, 2020], \"xaxis\": \"x\", \"y\": [24, 4], \"yaxis\": \"y\"}, {\"alignmentgroup\": \"True\", \"hovertemplate\": \"pitch_type=SI<br>Year=%{x}<br>#Ks=%{y}<extra></extra>\", \"legendgroup\": \"SI\", \"marker\": {\"color\": \"#FECB52\"}, \"name\": \"SI\", \"offsetgroup\": \"SI\", \"orientation\": \"v\", \"showlegend\": true, \"textposition\": \"auto\", \"type\": \"bar\", \"x\": [2020], \"xaxis\": \"x\", \"y\": [6], \"yaxis\": \"y\"}],\n",
       "                        {\"barmode\": \"relative\", \"legend\": {\"title\": {\"text\": \"pitch_type\"}, \"tracegroupgap\": 0}, \"template\": {\"data\": {\"bar\": [{\"error_x\": {\"color\": \"#2a3f5f\"}, \"error_y\": {\"color\": \"#2a3f5f\"}, \"marker\": {\"line\": {\"color\": \"#E5ECF6\", \"width\": 0.5}}, \"type\": \"bar\"}], \"barpolar\": [{\"marker\": {\"line\": {\"color\": \"#E5ECF6\", \"width\": 0.5}}, \"type\": \"barpolar\"}], \"carpet\": [{\"aaxis\": {\"endlinecolor\": \"#2a3f5f\", \"gridcolor\": \"white\", \"linecolor\": \"white\", \"minorgridcolor\": \"white\", \"startlinecolor\": \"#2a3f5f\"}, \"baxis\": {\"endlinecolor\": \"#2a3f5f\", \"gridcolor\": \"white\", \"linecolor\": \"white\", \"minorgridcolor\": \"white\", \"startlinecolor\": \"#2a3f5f\"}, \"type\": \"carpet\"}], \"choropleth\": [{\"colorbar\": {\"outlinewidth\": 0, \"ticks\": \"\"}, \"type\": \"choropleth\"}], \"contour\": [{\"colorbar\": {\"outlinewidth\": 0, \"ticks\": \"\"}, \"colorscale\": [[0.0, \"#0d0887\"], [0.1111111111111111, \"#46039f\"], [0.2222222222222222, \"#7201a8\"], [0.3333333333333333, \"#9c179e\"], [0.4444444444444444, \"#bd3786\"], [0.5555555555555556, \"#d8576b\"], [0.6666666666666666, \"#ed7953\"], [0.7777777777777778, \"#fb9f3a\"], [0.8888888888888888, \"#fdca26\"], [1.0, \"#f0f921\"]], \"type\": \"contour\"}], \"contourcarpet\": [{\"colorbar\": {\"outlinewidth\": 0, \"ticks\": \"\"}, \"type\": \"contourcarpet\"}], \"heatmap\": [{\"colorbar\": {\"outlinewidth\": 0, \"ticks\": \"\"}, \"colorscale\": [[0.0, \"#0d0887\"], [0.1111111111111111, \"#46039f\"], [0.2222222222222222, \"#7201a8\"], [0.3333333333333333, \"#9c179e\"], [0.4444444444444444, \"#bd3786\"], [0.5555555555555556, \"#d8576b\"], [0.6666666666666666, \"#ed7953\"], [0.7777777777777778, \"#fb9f3a\"], [0.8888888888888888, \"#fdca26\"], [1.0, \"#f0f921\"]], \"type\": \"heatmap\"}], \"heatmapgl\": [{\"colorbar\": {\"outlinewidth\": 0, \"ticks\": \"\"}, \"colorscale\": [[0.0, \"#0d0887\"], [0.1111111111111111, \"#46039f\"], [0.2222222222222222, \"#7201a8\"], [0.3333333333333333, \"#9c179e\"], [0.4444444444444444, \"#bd3786\"], [0.5555555555555556, \"#d8576b\"], [0.6666666666666666, \"#ed7953\"], [0.7777777777777778, \"#fb9f3a\"], [0.8888888888888888, \"#fdca26\"], [1.0, \"#f0f921\"]], \"type\": \"heatmapgl\"}], \"histogram\": [{\"marker\": {\"colorbar\": {\"outlinewidth\": 0, \"ticks\": \"\"}}, \"type\": \"histogram\"}], \"histogram2d\": [{\"colorbar\": {\"outlinewidth\": 0, \"ticks\": \"\"}, \"colorscale\": [[0.0, \"#0d0887\"], [0.1111111111111111, \"#46039f\"], [0.2222222222222222, \"#7201a8\"], [0.3333333333333333, \"#9c179e\"], [0.4444444444444444, \"#bd3786\"], [0.5555555555555556, \"#d8576b\"], [0.6666666666666666, \"#ed7953\"], [0.7777777777777778, \"#fb9f3a\"], [0.8888888888888888, \"#fdca26\"], [1.0, \"#f0f921\"]], \"type\": \"histogram2d\"}], \"histogram2dcontour\": [{\"colorbar\": {\"outlinewidth\": 0, \"ticks\": \"\"}, \"colorscale\": [[0.0, \"#0d0887\"], [0.1111111111111111, \"#46039f\"], [0.2222222222222222, \"#7201a8\"], [0.3333333333333333, \"#9c179e\"], [0.4444444444444444, \"#bd3786\"], [0.5555555555555556, \"#d8576b\"], [0.6666666666666666, \"#ed7953\"], [0.7777777777777778, \"#fb9f3a\"], [0.8888888888888888, \"#fdca26\"], [1.0, \"#f0f921\"]], \"type\": \"histogram2dcontour\"}], \"mesh3d\": [{\"colorbar\": {\"outlinewidth\": 0, \"ticks\": \"\"}, \"type\": \"mesh3d\"}], \"parcoords\": [{\"line\": {\"colorbar\": {\"outlinewidth\": 0, \"ticks\": \"\"}}, \"type\": \"parcoords\"}], \"pie\": [{\"automargin\": true, \"type\": \"pie\"}], \"scatter\": [{\"marker\": {\"colorbar\": {\"outlinewidth\": 0, \"ticks\": \"\"}}, \"type\": \"scatter\"}], \"scatter3d\": [{\"line\": {\"colorbar\": {\"outlinewidth\": 0, \"ticks\": \"\"}}, \"marker\": {\"colorbar\": {\"outlinewidth\": 0, \"ticks\": \"\"}}, \"type\": \"scatter3d\"}], \"scattercarpet\": [{\"marker\": {\"colorbar\": {\"outlinewidth\": 0, \"ticks\": \"\"}}, \"type\": \"scattercarpet\"}], \"scattergeo\": [{\"marker\": {\"colorbar\": {\"outlinewidth\": 0, \"ticks\": \"\"}}, \"type\": \"scattergeo\"}], \"scattergl\": [{\"marker\": {\"colorbar\": {\"outlinewidth\": 0, \"ticks\": \"\"}}, \"type\": \"scattergl\"}], \"scattermapbox\": [{\"marker\": {\"colorbar\": {\"outlinewidth\": 0, \"ticks\": \"\"}}, \"type\": \"scattermapbox\"}], \"scatterpolar\": [{\"marker\": {\"colorbar\": {\"outlinewidth\": 0, \"ticks\": \"\"}}, \"type\": \"scatterpolar\"}], \"scatterpolargl\": [{\"marker\": {\"colorbar\": {\"outlinewidth\": 0, \"ticks\": \"\"}}, \"type\": \"scatterpolargl\"}], \"scatterternary\": [{\"marker\": {\"colorbar\": {\"outlinewidth\": 0, \"ticks\": \"\"}}, \"type\": \"scatterternary\"}], \"surface\": [{\"colorbar\": {\"outlinewidth\": 0, \"ticks\": \"\"}, \"colorscale\": [[0.0, \"#0d0887\"], [0.1111111111111111, \"#46039f\"], [0.2222222222222222, \"#7201a8\"], [0.3333333333333333, \"#9c179e\"], [0.4444444444444444, \"#bd3786\"], [0.5555555555555556, \"#d8576b\"], [0.6666666666666666, \"#ed7953\"], [0.7777777777777778, \"#fb9f3a\"], [0.8888888888888888, \"#fdca26\"], [1.0, \"#f0f921\"]], \"type\": \"surface\"}], \"table\": [{\"cells\": {\"fill\": {\"color\": \"#EBF0F8\"}, \"line\": {\"color\": \"white\"}}, \"header\": {\"fill\": {\"color\": \"#C8D4E3\"}, \"line\": {\"color\": \"white\"}}, \"type\": \"table\"}]}, \"layout\": {\"annotationdefaults\": {\"arrowcolor\": \"#2a3f5f\", \"arrowhead\": 0, \"arrowwidth\": 1}, \"coloraxis\": {\"colorbar\": {\"outlinewidth\": 0, \"ticks\": \"\"}}, \"colorscale\": {\"diverging\": [[0, \"#8e0152\"], [0.1, \"#c51b7d\"], [0.2, \"#de77ae\"], [0.3, \"#f1b6da\"], [0.4, \"#fde0ef\"], [0.5, \"#f7f7f7\"], [0.6, \"#e6f5d0\"], [0.7, \"#b8e186\"], [0.8, \"#7fbc41\"], [0.9, \"#4d9221\"], [1, \"#276419\"]], \"sequential\": [[0.0, \"#0d0887\"], [0.1111111111111111, \"#46039f\"], [0.2222222222222222, \"#7201a8\"], [0.3333333333333333, \"#9c179e\"], [0.4444444444444444, \"#bd3786\"], [0.5555555555555556, \"#d8576b\"], [0.6666666666666666, \"#ed7953\"], [0.7777777777777778, \"#fb9f3a\"], [0.8888888888888888, \"#fdca26\"], [1.0, \"#f0f921\"]], \"sequentialminus\": [[0.0, \"#0d0887\"], [0.1111111111111111, \"#46039f\"], [0.2222222222222222, \"#7201a8\"], [0.3333333333333333, \"#9c179e\"], [0.4444444444444444, \"#bd3786\"], [0.5555555555555556, \"#d8576b\"], [0.6666666666666666, \"#ed7953\"], [0.7777777777777778, \"#fb9f3a\"], [0.8888888888888888, \"#fdca26\"], [1.0, \"#f0f921\"]]}, \"colorway\": [\"#636efa\", \"#EF553B\", \"#00cc96\", \"#ab63fa\", \"#FFA15A\", \"#19d3f3\", \"#FF6692\", \"#B6E880\", \"#FF97FF\", \"#FECB52\"], \"font\": {\"color\": \"#2a3f5f\"}, \"geo\": {\"bgcolor\": \"white\", \"lakecolor\": \"white\", \"landcolor\": \"#E5ECF6\", \"showlakes\": true, \"showland\": true, \"subunitcolor\": \"white\"}, \"hoverlabel\": {\"align\": \"left\"}, \"hovermode\": \"closest\", \"mapbox\": {\"style\": \"light\"}, \"paper_bgcolor\": \"white\", \"plot_bgcolor\": \"#E5ECF6\", \"polar\": {\"angularaxis\": {\"gridcolor\": \"white\", \"linecolor\": \"white\", \"ticks\": \"\"}, \"bgcolor\": \"#E5ECF6\", \"radialaxis\": {\"gridcolor\": \"white\", \"linecolor\": \"white\", \"ticks\": \"\"}}, \"scene\": {\"xaxis\": {\"backgroundcolor\": \"#E5ECF6\", \"gridcolor\": \"white\", \"gridwidth\": 2, \"linecolor\": \"white\", \"showbackground\": true, \"ticks\": \"\", \"zerolinecolor\": \"white\"}, \"yaxis\": {\"backgroundcolor\": \"#E5ECF6\", \"gridcolor\": \"white\", \"gridwidth\": 2, \"linecolor\": \"white\", \"showbackground\": true, \"ticks\": \"\", \"zerolinecolor\": \"white\"}, \"zaxis\": {\"backgroundcolor\": \"#E5ECF6\", \"gridcolor\": \"white\", \"gridwidth\": 2, \"linecolor\": \"white\", \"showbackground\": true, \"ticks\": \"\", \"zerolinecolor\": \"white\"}}, \"shapedefaults\": {\"line\": {\"color\": \"#2a3f5f\"}}, \"ternary\": {\"aaxis\": {\"gridcolor\": \"white\", \"linecolor\": \"white\", \"ticks\": \"\"}, \"baxis\": {\"gridcolor\": \"white\", \"linecolor\": \"white\", \"ticks\": \"\"}, \"bgcolor\": \"#E5ECF6\", \"caxis\": {\"gridcolor\": \"white\", \"linecolor\": \"white\", \"ticks\": \"\"}}, \"title\": {\"x\": 0.05}, \"xaxis\": {\"automargin\": true, \"gridcolor\": \"white\", \"linecolor\": \"white\", \"ticks\": \"\", \"title\": {\"standoff\": 15}, \"zerolinecolor\": \"white\", \"zerolinewidth\": 2}, \"yaxis\": {\"automargin\": true, \"gridcolor\": \"white\", \"linecolor\": \"white\", \"ticks\": \"\", \"title\": {\"standoff\": 15}, \"zerolinecolor\": \"white\", \"zerolinewidth\": 2}}}, \"title\": {\"text\": \"Darvish Strikeouts by Pitch\"}, \"xaxis\": {\"anchor\": \"y\", \"domain\": [0.0, 1.0], \"title\": {\"text\": \"Year\"}}, \"yaxis\": {\"anchor\": \"x\", \"domain\": [0.0, 1.0], \"title\": {\"text\": \"#Ks\"}}},\n",
       "                        {\"responsive\": true}\n",
       "                    ).then(function(){\n",
       "                            \n",
       "var gd = document.getElementById('f108352d-2f2c-4359-9230-6fe71bcd0cb5');\n",
       "var x = new MutationObserver(function (mutations, observer) {{\n",
       "        var display = window.getComputedStyle(gd).display;\n",
       "        if (!display || display === 'none') {{\n",
       "            console.log([gd, 'removed!']);\n",
       "            Plotly.purge(gd);\n",
       "            observer.disconnect();\n",
       "        }}\n",
       "}});\n",
       "\n",
       "// Listen for the removal of the full notebook cells\n",
       "var notebookContainer = gd.closest('#notebook-container');\n",
       "if (notebookContainer) {{\n",
       "    x.observe(notebookContainer, {childList: true});\n",
       "}}\n",
       "\n",
       "// Listen for the clearing of the current output cell\n",
       "var outputEl = gd.closest('.output');\n",
       "if (outputEl) {{\n",
       "    x.observe(outputEl, {childList: true});\n",
       "}}\n",
       "\n",
       "                        })\n",
       "                };\n",
       "                });\n",
       "            </script>\n",
       "        </div>"
      ]
     },
     "metadata": {},
     "output_type": "display_data"
    }
   ],
   "source": [
    "fig1 = px.bar(darvish_so_pitches, x=\"Year\", y=\"#Ks\", color=\"pitch_type\", title=\"Darvish Strikeouts by Pitch\")\n",
    "fig1.show()\n",
    "fig1.write_html(\"Images/darvish_so_pitches.html\")"
   ]
  },
  {
   "cell_type": "code",
   "execution_count": 197,
   "metadata": {},
   "outputs": [
    {
     "data": {
      "application/vnd.plotly.v1+json": {
       "config": {
        "plotlyServerURL": "https://plot.ly"
       },
       "data": [
        {
         "colorscale": [
          [
           0,
           "rgb(247,251,255)"
          ],
          [
           0.125,
           "rgb(222,235,247)"
          ],
          [
           0.25,
           "rgb(198,219,239)"
          ],
          [
           0.375,
           "rgb(158,202,225)"
          ],
          [
           0.5,
           "rgb(107,174,214)"
          ],
          [
           0.625,
           "rgb(66,146,198)"
          ],
          [
           0.75,
           "rgb(33,113,181)"
          ],
          [
           0.875,
           "rgb(8,81,156)"
          ],
          [
           1,
           "rgb(8,48,107)"
          ]
         ],
         "type": "histogram2dcontour",
         "x": [
          2752,
          2714,
          3102,
          3003,
          1786,
          2929,
          2572,
          1619,
          2847,
          2540,
          1646,
          2483,
          2919,
          2494,
          2933,
          2948,
          2547,
          2597,
          2722,
          2931,
          2963,
          2961,
          2953,
          2649,
          2650,
          2971,
          2955,
          2902,
          2744,
          2776,
          2767,
          2734,
          2557,
          2795,
          1752,
          2798,
          2527,
          1551,
          1856,
          787,
          2620,
          1711,
          1794,
          2782,
          2816,
          1627,
          2383,
          2647,
          2568,
          1379,
          2870,
          2787,
          2719,
          2624,
          2711,
          2834,
          2730,
          2582,
          994,
          2741,
          2432,
          2846,
          1041,
          1605,
          2594,
          1582,
          2829,
          2758,
          2696,
          2596,
          1516,
          1662,
          1057,
          2834,
          1367,
          2597,
          1434,
          2931,
          2739,
          2750,
          2905,
          2619,
          2401,
          2754,
          2527,
          2697,
          2629,
          1422,
          null,
          2641,
          2847,
          2667,
          2913,
          2864,
          2699,
          2625,
          2731,
          2682,
          2664,
          2689,
          2753,
          2687,
          2692,
          null,
          2537,
          2698,
          2629,
          2556,
          2815,
          2592,
          1043,
          1380,
          2689,
          1253,
          2578,
          2565,
          1298,
          2785,
          2680,
          2682,
          1463,
          2779,
          1575,
          2797,
          1440,
          2554,
          null,
          2481,
          1124,
          1180,
          1194,
          1208,
          940,
          1618,
          1329,
          2584,
          2545,
          1633,
          2579,
          2686,
          1440,
          1724,
          1795,
          2652,
          2777,
          2695,
          2651,
          1677,
          2617,
          2596,
          2586,
          2670,
          2451,
          2648,
          1015,
          2525,
          1208,
          2762,
          2548,
          null,
          2724,
          null,
          2670,
          2813,
          1170,
          2450,
          2746,
          2567,
          null,
          2672,
          2893,
          2798,
          2790,
          2822,
          2488,
          1315,
          2731,
          1408,
          2702,
          1616,
          null,
          null,
          2665,
          2552,
          2709,
          2778,
          2560,
          2663,
          null,
          2724,
          1271,
          2751,
          2784,
          null,
          1711,
          944,
          1244,
          2532,
          1299,
          2748,
          1587,
          2713,
          2693,
          1823,
          null,
          null,
          null,
          null,
          2865,
          2775,
          2445,
          2857,
          null,
          2909,
          null,
          2613,
          2773,
          2833,
          2887,
          null,
          2593,
          null,
          2766,
          2302,
          1852,
          2601,
          null,
          null,
          null,
          3111,
          2658,
          2815,
          2794,
          null,
          null,
          2739,
          null,
          1903,
          2553,
          2882,
          2837,
          2852,
          2597,
          1728,
          2919,
          2780,
          2800,
          2590,
          2581,
          2772,
          null,
          2488,
          2637,
          2722,
          null,
          2893,
          1949,
          2561,
          1661,
          2828,
          null,
          2579,
          3168,
          1698,
          2010,
          2925,
          null,
          2886,
          2705,
          2942,
          2989,
          null,
          null,
          2466,
          2649,
          2890,
          2697,
          2816,
          2881,
          2677,
          2914,
          2591,
          2597,
          2652,
          2581,
          2469,
          2657,
          2657,
          2549,
          2534,
          2469,
          2601,
          2798,
          2600,
          2625,
          2824,
          2454,
          2574,
          2506,
          2755,
          2814,
          2674,
          2682,
          1861,
          2646,
          1571,
          2752,
          2643,
          2663,
          2749,
          2884,
          2767,
          2768,
          2303,
          2453,
          null,
          2568,
          2721,
          2542,
          2556,
          2685,
          1508,
          2838,
          2337,
          1711,
          2731,
          2711,
          1297,
          2513,
          2503,
          2787,
          2723,
          1659,
          2621,
          null,
          2758,
          2322,
          null,
          null,
          605,
          2835,
          2822,
          1209,
          2561,
          2444,
          2249,
          2667,
          2835,
          2386,
          2763,
          2732,
          2799,
          2679,
          null,
          2735,
          2638,
          2481,
          null,
          2504,
          2610,
          2623,
          2729,
          2734,
          2326,
          2389,
          2621,
          2514,
          2538,
          2482,
          null,
          2627,
          2562,
          2565,
          2406,
          2673,
          2691,
          2512,
          2598,
          2501,
          2632,
          2502,
          2433,
          2447,
          2763,
          2528,
          2552,
          2552,
          2507,
          2689,
          2552,
          2543,
          2518,
          2629,
          2588,
          2655,
          2575,
          2464,
          2505,
          2547,
          2531,
          2452,
          2570,
          2718,
          2652,
          2625,
          2687,
          2497,
          2661,
          2641,
          2504,
          2454,
          2438,
          2498,
          2574,
          2372,
          1375,
          2636,
          2560,
          null,
          2480,
          2492,
          2519,
          2485,
          2584,
          2564,
          2536,
          2569,
          2568,
          1113,
          2561,
          2672,
          2537,
          2680,
          2469,
          2677,
          2502,
          2481,
          2497,
          2217,
          2470,
          2686,
          2425,
          2700,
          2606,
          2612,
          2730,
          2666,
          2718,
          2462,
          2399,
          2767,
          2305,
          2404,
          2498,
          2438,
          2594,
          2540,
          2484,
          2600,
          2588,
          2699,
          2801,
          2495,
          2734,
          2631,
          2306,
          2722,
          2646,
          2564,
          2561,
          2748,
          2516,
          2715,
          2764,
          2394,
          2642,
          2590,
          2594,
          2547,
          2590,
          2487,
          2389,
          2549,
          2583,
          2562,
          2663,
          2613,
          2588,
          1603,
          2520,
          null,
          2559,
          2701,
          2796,
          2548,
          2535,
          2692,
          2507,
          2522,
          2501,
          2481,
          2647,
          2607,
          2492,
          2766,
          2668,
          2670,
          2754,
          2635,
          2661,
          2678,
          2767,
          2882,
          2484,
          2842,
          2689,
          2685,
          2570,
          2605,
          2417,
          2279,
          2636,
          2703,
          2535,
          2536,
          1706,
          2769,
          2632,
          2601,
          2681,
          2561,
          2547,
          2565,
          2341,
          2558,
          1632,
          1792,
          2806,
          2516,
          2719,
          2595,
          2653,
          2585,
          2663,
          2570,
          2529,
          2634,
          2747,
          2834,
          2594,
          2486,
          2633,
          2621,
          2414,
          2750,
          2590,
          2584,
          2671,
          2583,
          2628,
          2413,
          2518,
          2621,
          2553,
          2560,
          2656,
          2622,
          2627,
          2555,
          2598,
          2673,
          2576,
          2592,
          2560,
          2440,
          2477,
          2566,
          2850,
          2385,
          2596,
          2742,
          null,
          2517,
          2447,
          2580,
          2759,
          2691,
          2573,
          2652,
          2627,
          2511,
          1447,
          2461,
          2621,
          2742,
          2562,
          2606,
          2690,
          2119,
          2762,
          2660,
          2678,
          2446,
          2649,
          2608,
          2472,
          null,
          2615,
          null,
          2676,
          2272,
          1649,
          2485,
          2512,
          2582,
          2633,
          2535,
          2642,
          2643,
          2514,
          2489,
          2550,
          2535,
          2704,
          null,
          2342,
          2660,
          2594,
          2660,
          2404,
          2756,
          2626,
          2589,
          2553,
          2526,
          2546,
          2464,
          2526,
          2488,
          2535,
          2615,
          2501,
          2527,
          2532,
          2461,
          2266,
          2591,
          2448,
          2563,
          2687,
          2579,
          2487,
          2489,
          2501,
          2609,
          2519,
          2627,
          2555,
          2580,
          2540,
          2612,
          2673,
          2359,
          2571,
          2568,
          2535,
          2514,
          2496,
          1326,
          2603,
          2504,
          2477,
          null,
          2643,
          2514,
          2702,
          2625,
          2432,
          2466,
          2370,
          2096,
          2675,
          2600,
          2463,
          2377,
          2597,
          2524,
          2596,
          2636,
          2203,
          2695,
          2408,
          1668,
          2593,
          2476,
          2728,
          2546,
          2460,
          2631
         ],
         "y": [
          96.6,
          96.7,
          83.5,
          84.4,
          89.4,
          80.8,
          95.8,
          83.4,
          83.7,
          96,
          88.5,
          96.9,
          85.6,
          98.4,
          90.1,
          85.3,
          71.8,
          97.2,
          85.9,
          85.1,
          84.8,
          84.9,
          85,
          98.3,
          97.1,
          84.1,
          84.8,
          84.4,
          80.2,
          81.6,
          88.1,
          88.2,
          96.2,
          89.1,
          89.6,
          79.7,
          96.6,
          88.5,
          91.7,
          86.3,
          96.5,
          92.2,
          92.7,
          92.4,
          80.4,
          91.1,
          97.6,
          97.2,
          96.1,
          89.8,
          86.7,
          79,
          80.6,
          97.7,
          97.6,
          87.3,
          87.2,
          96.3,
          88.9,
          80.2,
          95,
          88.9,
          89.9,
          92.1,
          96.1,
          91.7,
          79.9,
          80.7,
          88.3,
          84.2,
          89.8,
          89.7,
          90.4,
          81.2,
          89.9,
          95.3,
          89,
          82.3,
          82.3,
          79.9,
          87,
          81.5,
          96.3,
          96.7,
          95.6,
          95.2,
          83.7,
          91.5,
          86.8,
          78,
          88.3,
          95.5,
          80.7,
          80,
          80,
          96.1,
          78.6,
          96.5,
          95.9,
          81.6,
          85.4,
          80.7,
          94.1,
          84.2,
          79.5,
          81.2,
          80.8,
          95.5,
          82,
          82.1,
          87.5,
          88.4,
          82.7,
          89.4,
          93.2,
          84,
          89.7,
          82.9,
          79.3,
          82,
          91.5,
          83,
          89.1,
          80.4,
          87.8,
          95.2,
          88.5,
          70.5,
          88.3,
          89.7,
          91.1,
          88.6,
          88.8,
          89.6,
          91.4,
          95.7,
          96.1,
          91.4,
          96.4,
          83.3,
          90,
          90.1,
          90.7,
          90.1,
          84.1,
          86.8,
          83.7,
          90.6,
          83.4,
          96,
          84.7,
          90,
          82.3,
          95.9,
          88,
          96.1,
          87,
          88.4,
          97.7,
          86.4,
          87.7,
          86.9,
          88.3,
          86.4,
          81.2,
          96.2,
          97.8,
          96.7,
          87,
          79.2,
          80.4,
          86.7,
          86.2,
          84.1,
          78.8,
          85.2,
          85.7,
          85.9,
          87.3,
          91.2,
          88.7,
          88.3,
          77.3,
          96,
          84.7,
          87.7,
          96,
          91.3,
          84.3,
          86.2,
          85.1,
          86,
          83.5,
          84.3,
          93.2,
          87.8,
          88.7,
          93.5,
          89.6,
          84.2,
          91.2,
          95.6,
          85.5,
          91.1,
          85.1,
          86.7,
          86.5,
          86.6,
          84.5,
          88.9,
          95.5,
          84.1,
          87.8,
          86.1,
          88.9,
          91.9,
          82.6,
          84.2,
          85.8,
          87.4,
          95.9,
          87.4,
          89.8,
          95.2,
          92.9,
          97,
          88,
          88.8,
          87.8,
          88.9,
          87.7,
          88.9,
          88.4,
          87.9,
          86.3,
          86.4,
          86.9,
          88.7,
          96.9,
          87.2,
          87.3,
          89.2,
          95.5,
          89,
          85.2,
          86.8,
          88.9,
          95.6,
          93.4,
          88.5,
          87.8,
          71.1,
          82.7,
          86.7,
          87.4,
          86.7,
          92.8,
          97,
          90.7,
          88.5,
          84.4,
          97.2,
          88.8,
          91,
          91.7,
          87.3,
          83.8,
          82.7,
          95.8,
          83.6,
          84.6,
          88.4,
          85.9,
          93.7,
          94.9,
          84.2,
          76.2,
          81.8,
          83,
          88.4,
          84.3,
          96.4,
          82.3,
          88,
          81.7,
          93.8,
          83,
          85.4,
          85.2,
          94.1,
          93.4,
          83.8,
          73.7,
          94.1,
          95.7,
          84.2,
          95.3,
          80.6,
          95,
          82.1,
          83.5,
          96.3,
          96.4,
          91.7,
          96.7,
          89.2,
          85.3,
          95.8,
          87.5,
          87.4,
          85.8,
          87,
          87.7,
          64,
          94.7,
          86.6,
          88.5,
          86.6,
          88.8,
          86.8,
          90.8,
          90.8,
          86.9,
          96.3,
          91.2,
          83.9,
          84,
          89.4,
          95.4,
          95.2,
          86.3,
          86,
          90.8,
          87.1,
          85.8,
          85.7,
          93.9,
          85,
          86.3,
          85.7,
          86.6,
          84.1,
          87.6,
          96.5,
          94.9,
          96.3,
          76.3,
          84.5,
          96.3,
          85.5,
          83.7,
          85.9,
          85.2,
          84.6,
          83.9,
          83.3,
          94.4,
          86.9,
          96.6,
          89.7,
          82,
          83.2,
          84.4,
          94.6,
          93.9,
          95.8,
          95.5,
          94.8,
          96.3,
          84.6,
          81.2,
          93.1,
          83.9,
          94.2,
          83.5,
          84.6,
          95.1,
          95.7,
          95.7,
          83.2,
          94.1,
          94.6,
          84.8,
          83.2,
          73.5,
          72.8,
          97.2,
          95.9,
          95.5,
          96.6,
          70.6,
          96.3,
          74.3,
          82.8,
          80.4,
          81.4,
          73,
          73.2,
          96.3,
          95.5,
          94.4,
          81.7,
          83.1,
          97.1,
          85.9,
          82.4,
          72.1,
          92.8,
          94.4,
          94.7,
          94.6,
          96.2,
          96,
          94.8,
          75,
          90.2,
          84.2,
          84.3,
          87.7,
          96,
          96.3,
          96.2,
          95.5,
          78.2,
          95,
          97.2,
          96.4,
          96,
          91.4,
          96.4,
          85.7,
          98,
          87.2,
          93.8,
          82.6,
          94.2,
          72.4,
          95.7,
          96.7,
          94.2,
          81.4,
          95.7,
          83.7,
          96,
          94.8,
          83.4,
          80.1,
          83.2,
          84.1,
          95.4,
          89.3,
          95.7,
          95.2,
          97.1,
          72,
          95.4,
          95,
          95.2,
          72.5,
          83.8,
          84.1,
          82.2,
          73,
          84.4,
          81.6,
          63.6,
          81.6,
          82.1,
          71.2,
          73.1,
          84.3,
          73,
          82.7,
          87.2,
          69.5,
          82.2,
          95.1,
          72.9,
          94.9,
          96,
          72.9,
          74.3,
          84.5,
          92.8,
          92.7,
          94.5,
          95.9,
          93.3,
          89.6,
          94.2,
          null,
          94.8,
          85.1,
          83.9,
          94.5,
          85.3,
          86.5,
          84.1,
          96,
          84.6,
          95,
          85.3,
          76.2,
          70.2,
          81.8,
          98,
          82.7,
          84.7,
          96.8,
          96.5,
          81.8,
          73.9,
          82.9,
          71.4,
          84.8,
          73.9,
          89.7,
          83.1,
          83.5,
          73.7,
          95.8,
          82.7,
          84.2,
          96,
          94.4,
          87.9,
          84.7,
          96.4,
          82,
          94.9,
          94.9,
          96.9,
          83.1,
          70.8,
          96.2,
          91,
          88.5,
          81.7,
          95.9,
          83.1,
          95.4,
          82.5,
          81.7,
          86.5,
          81.8,
          83.9,
          82.8,
          82.4,
          82.4,
          94.9,
          94.7,
          97.1,
          75.6,
          93.8,
          89.3,
          94.7,
          94.9,
          96.6,
          83.5,
          84.5,
          95.1,
          97.1,
          83.1,
          74.3,
          96.3,
          75.6,
          95.8,
          75.8,
          76.8,
          95.6,
          84.4,
          84.1,
          97.3,
          73.9,
          85.7,
          97.2,
          96,
          83.1,
          94.9,
          82.1,
          84.9,
          89.4,
          83.6,
          71,
          96.6,
          84.3,
          85.6,
          94.6,
          82.2,
          83.5,
          93.8,
          87.7,
          82.1,
          78.9,
          78.2,
          82.1,
          97.4,
          85.2,
          94.2,
          82.9,
          78.9,
          84.6,
          82.5,
          85.7,
          96.7,
          70,
          89,
          87.6,
          95.2,
          74.1,
          67.3,
          89.9,
          72.7,
          95.3,
          74.1,
          95.5,
          94.5,
          80.1,
          85,
          93.8,
          95.2,
          97.7,
          95.9,
          95.4,
          90.6,
          67.5,
          95.9,
          95.1,
          94.3,
          69.1,
          89.2,
          94.8,
          94.7,
          95.5,
          94.4,
          96,
          94.9,
          78.5,
          94,
          96.6,
          95,
          95.8,
          95,
          95.8,
          74.2,
          92.8,
          81.3,
          95.8,
          95.9,
          96.3,
          95.2,
          93.3,
          79.9,
          94.9,
          86.7,
          81.5,
          85.9,
          95.4,
          82.3,
          82.2,
          86.5,
          85,
          80.8,
          82.6,
          97.7,
          96.9,
          83.1,
          79.6,
          84.2,
          96.4,
          96.9,
          79.3,
          91.6,
          85.6,
          84.8,
          84,
          83.2,
          85.7,
          85.2,
          98.6,
          63.4,
          85.3,
          98.2,
          84.6,
          96.7,
          83.8,
          83.6,
          95.5,
          84.6,
          65.3,
          82.8,
          72.1,
          89.4,
          95.1,
          96.6,
          85,
          97,
          96.1,
          82.9
         ]
        }
       ],
       "layout": {
        "template": {
         "data": {
          "bar": [
           {
            "error_x": {
             "color": "#2a3f5f"
            },
            "error_y": {
             "color": "#2a3f5f"
            },
            "marker": {
             "line": {
              "color": "#E5ECF6",
              "width": 0.5
             }
            },
            "type": "bar"
           }
          ],
          "barpolar": [
           {
            "marker": {
             "line": {
              "color": "#E5ECF6",
              "width": 0.5
             }
            },
            "type": "barpolar"
           }
          ],
          "carpet": [
           {
            "aaxis": {
             "endlinecolor": "#2a3f5f",
             "gridcolor": "white",
             "linecolor": "white",
             "minorgridcolor": "white",
             "startlinecolor": "#2a3f5f"
            },
            "baxis": {
             "endlinecolor": "#2a3f5f",
             "gridcolor": "white",
             "linecolor": "white",
             "minorgridcolor": "white",
             "startlinecolor": "#2a3f5f"
            },
            "type": "carpet"
           }
          ],
          "choropleth": [
           {
            "colorbar": {
             "outlinewidth": 0,
             "ticks": ""
            },
            "type": "choropleth"
           }
          ],
          "contour": [
           {
            "colorbar": {
             "outlinewidth": 0,
             "ticks": ""
            },
            "colorscale": [
             [
              0,
              "#0d0887"
             ],
             [
              0.1111111111111111,
              "#46039f"
             ],
             [
              0.2222222222222222,
              "#7201a8"
             ],
             [
              0.3333333333333333,
              "#9c179e"
             ],
             [
              0.4444444444444444,
              "#bd3786"
             ],
             [
              0.5555555555555556,
              "#d8576b"
             ],
             [
              0.6666666666666666,
              "#ed7953"
             ],
             [
              0.7777777777777778,
              "#fb9f3a"
             ],
             [
              0.8888888888888888,
              "#fdca26"
             ],
             [
              1,
              "#f0f921"
             ]
            ],
            "type": "contour"
           }
          ],
          "contourcarpet": [
           {
            "colorbar": {
             "outlinewidth": 0,
             "ticks": ""
            },
            "type": "contourcarpet"
           }
          ],
          "heatmap": [
           {
            "colorbar": {
             "outlinewidth": 0,
             "ticks": ""
            },
            "colorscale": [
             [
              0,
              "#0d0887"
             ],
             [
              0.1111111111111111,
              "#46039f"
             ],
             [
              0.2222222222222222,
              "#7201a8"
             ],
             [
              0.3333333333333333,
              "#9c179e"
             ],
             [
              0.4444444444444444,
              "#bd3786"
             ],
             [
              0.5555555555555556,
              "#d8576b"
             ],
             [
              0.6666666666666666,
              "#ed7953"
             ],
             [
              0.7777777777777778,
              "#fb9f3a"
             ],
             [
              0.8888888888888888,
              "#fdca26"
             ],
             [
              1,
              "#f0f921"
             ]
            ],
            "type": "heatmap"
           }
          ],
          "heatmapgl": [
           {
            "colorbar": {
             "outlinewidth": 0,
             "ticks": ""
            },
            "colorscale": [
             [
              0,
              "#0d0887"
             ],
             [
              0.1111111111111111,
              "#46039f"
             ],
             [
              0.2222222222222222,
              "#7201a8"
             ],
             [
              0.3333333333333333,
              "#9c179e"
             ],
             [
              0.4444444444444444,
              "#bd3786"
             ],
             [
              0.5555555555555556,
              "#d8576b"
             ],
             [
              0.6666666666666666,
              "#ed7953"
             ],
             [
              0.7777777777777778,
              "#fb9f3a"
             ],
             [
              0.8888888888888888,
              "#fdca26"
             ],
             [
              1,
              "#f0f921"
             ]
            ],
            "type": "heatmapgl"
           }
          ],
          "histogram": [
           {
            "marker": {
             "colorbar": {
              "outlinewidth": 0,
              "ticks": ""
             }
            },
            "type": "histogram"
           }
          ],
          "histogram2d": [
           {
            "colorbar": {
             "outlinewidth": 0,
             "ticks": ""
            },
            "colorscale": [
             [
              0,
              "#0d0887"
             ],
             [
              0.1111111111111111,
              "#46039f"
             ],
             [
              0.2222222222222222,
              "#7201a8"
             ],
             [
              0.3333333333333333,
              "#9c179e"
             ],
             [
              0.4444444444444444,
              "#bd3786"
             ],
             [
              0.5555555555555556,
              "#d8576b"
             ],
             [
              0.6666666666666666,
              "#ed7953"
             ],
             [
              0.7777777777777778,
              "#fb9f3a"
             ],
             [
              0.8888888888888888,
              "#fdca26"
             ],
             [
              1,
              "#f0f921"
             ]
            ],
            "type": "histogram2d"
           }
          ],
          "histogram2dcontour": [
           {
            "colorbar": {
             "outlinewidth": 0,
             "ticks": ""
            },
            "colorscale": [
             [
              0,
              "#0d0887"
             ],
             [
              0.1111111111111111,
              "#46039f"
             ],
             [
              0.2222222222222222,
              "#7201a8"
             ],
             [
              0.3333333333333333,
              "#9c179e"
             ],
             [
              0.4444444444444444,
              "#bd3786"
             ],
             [
              0.5555555555555556,
              "#d8576b"
             ],
             [
              0.6666666666666666,
              "#ed7953"
             ],
             [
              0.7777777777777778,
              "#fb9f3a"
             ],
             [
              0.8888888888888888,
              "#fdca26"
             ],
             [
              1,
              "#f0f921"
             ]
            ],
            "type": "histogram2dcontour"
           }
          ],
          "mesh3d": [
           {
            "colorbar": {
             "outlinewidth": 0,
             "ticks": ""
            },
            "type": "mesh3d"
           }
          ],
          "parcoords": [
           {
            "line": {
             "colorbar": {
              "outlinewidth": 0,
              "ticks": ""
             }
            },
            "type": "parcoords"
           }
          ],
          "pie": [
           {
            "automargin": true,
            "type": "pie"
           }
          ],
          "scatter": [
           {
            "marker": {
             "colorbar": {
              "outlinewidth": 0,
              "ticks": ""
             }
            },
            "type": "scatter"
           }
          ],
          "scatter3d": [
           {
            "line": {
             "colorbar": {
              "outlinewidth": 0,
              "ticks": ""
             }
            },
            "marker": {
             "colorbar": {
              "outlinewidth": 0,
              "ticks": ""
             }
            },
            "type": "scatter3d"
           }
          ],
          "scattercarpet": [
           {
            "marker": {
             "colorbar": {
              "outlinewidth": 0,
              "ticks": ""
             }
            },
            "type": "scattercarpet"
           }
          ],
          "scattergeo": [
           {
            "marker": {
             "colorbar": {
              "outlinewidth": 0,
              "ticks": ""
             }
            },
            "type": "scattergeo"
           }
          ],
          "scattergl": [
           {
            "marker": {
             "colorbar": {
              "outlinewidth": 0,
              "ticks": ""
             }
            },
            "type": "scattergl"
           }
          ],
          "scattermapbox": [
           {
            "marker": {
             "colorbar": {
              "outlinewidth": 0,
              "ticks": ""
             }
            },
            "type": "scattermapbox"
           }
          ],
          "scatterpolar": [
           {
            "marker": {
             "colorbar": {
              "outlinewidth": 0,
              "ticks": ""
             }
            },
            "type": "scatterpolar"
           }
          ],
          "scatterpolargl": [
           {
            "marker": {
             "colorbar": {
              "outlinewidth": 0,
              "ticks": ""
             }
            },
            "type": "scatterpolargl"
           }
          ],
          "scatterternary": [
           {
            "marker": {
             "colorbar": {
              "outlinewidth": 0,
              "ticks": ""
             }
            },
            "type": "scatterternary"
           }
          ],
          "surface": [
           {
            "colorbar": {
             "outlinewidth": 0,
             "ticks": ""
            },
            "colorscale": [
             [
              0,
              "#0d0887"
             ],
             [
              0.1111111111111111,
              "#46039f"
             ],
             [
              0.2222222222222222,
              "#7201a8"
             ],
             [
              0.3333333333333333,
              "#9c179e"
             ],
             [
              0.4444444444444444,
              "#bd3786"
             ],
             [
              0.5555555555555556,
              "#d8576b"
             ],
             [
              0.6666666666666666,
              "#ed7953"
             ],
             [
              0.7777777777777778,
              "#fb9f3a"
             ],
             [
              0.8888888888888888,
              "#fdca26"
             ],
             [
              1,
              "#f0f921"
             ]
            ],
            "type": "surface"
           }
          ],
          "table": [
           {
            "cells": {
             "fill": {
              "color": "#EBF0F8"
             },
             "line": {
              "color": "white"
             }
            },
            "header": {
             "fill": {
              "color": "#C8D4E3"
             },
             "line": {
              "color": "white"
             }
            },
            "type": "table"
           }
          ]
         },
         "layout": {
          "annotationdefaults": {
           "arrowcolor": "#2a3f5f",
           "arrowhead": 0,
           "arrowwidth": 1
          },
          "coloraxis": {
           "colorbar": {
            "outlinewidth": 0,
            "ticks": ""
           }
          },
          "colorscale": {
           "diverging": [
            [
             0,
             "#8e0152"
            ],
            [
             0.1,
             "#c51b7d"
            ],
            [
             0.2,
             "#de77ae"
            ],
            [
             0.3,
             "#f1b6da"
            ],
            [
             0.4,
             "#fde0ef"
            ],
            [
             0.5,
             "#f7f7f7"
            ],
            [
             0.6,
             "#e6f5d0"
            ],
            [
             0.7,
             "#b8e186"
            ],
            [
             0.8,
             "#7fbc41"
            ],
            [
             0.9,
             "#4d9221"
            ],
            [
             1,
             "#276419"
            ]
           ],
           "sequential": [
            [
             0,
             "#0d0887"
            ],
            [
             0.1111111111111111,
             "#46039f"
            ],
            [
             0.2222222222222222,
             "#7201a8"
            ],
            [
             0.3333333333333333,
             "#9c179e"
            ],
            [
             0.4444444444444444,
             "#bd3786"
            ],
            [
             0.5555555555555556,
             "#d8576b"
            ],
            [
             0.6666666666666666,
             "#ed7953"
            ],
            [
             0.7777777777777778,
             "#fb9f3a"
            ],
            [
             0.8888888888888888,
             "#fdca26"
            ],
            [
             1,
             "#f0f921"
            ]
           ],
           "sequentialminus": [
            [
             0,
             "#0d0887"
            ],
            [
             0.1111111111111111,
             "#46039f"
            ],
            [
             0.2222222222222222,
             "#7201a8"
            ],
            [
             0.3333333333333333,
             "#9c179e"
            ],
            [
             0.4444444444444444,
             "#bd3786"
            ],
            [
             0.5555555555555556,
             "#d8576b"
            ],
            [
             0.6666666666666666,
             "#ed7953"
            ],
            [
             0.7777777777777778,
             "#fb9f3a"
            ],
            [
             0.8888888888888888,
             "#fdca26"
            ],
            [
             1,
             "#f0f921"
            ]
           ]
          },
          "colorway": [
           "#636efa",
           "#EF553B",
           "#00cc96",
           "#ab63fa",
           "#FFA15A",
           "#19d3f3",
           "#FF6692",
           "#B6E880",
           "#FF97FF",
           "#FECB52"
          ],
          "font": {
           "color": "#2a3f5f"
          },
          "geo": {
           "bgcolor": "white",
           "lakecolor": "white",
           "landcolor": "#E5ECF6",
           "showlakes": true,
           "showland": true,
           "subunitcolor": "white"
          },
          "hoverlabel": {
           "align": "left"
          },
          "hovermode": "closest",
          "mapbox": {
           "style": "light"
          },
          "paper_bgcolor": "white",
          "plot_bgcolor": "#E5ECF6",
          "polar": {
           "angularaxis": {
            "gridcolor": "white",
            "linecolor": "white",
            "ticks": ""
           },
           "bgcolor": "#E5ECF6",
           "radialaxis": {
            "gridcolor": "white",
            "linecolor": "white",
            "ticks": ""
           }
          },
          "scene": {
           "xaxis": {
            "backgroundcolor": "#E5ECF6",
            "gridcolor": "white",
            "gridwidth": 2,
            "linecolor": "white",
            "showbackground": true,
            "ticks": "",
            "zerolinecolor": "white"
           },
           "yaxis": {
            "backgroundcolor": "#E5ECF6",
            "gridcolor": "white",
            "gridwidth": 2,
            "linecolor": "white",
            "showbackground": true,
            "ticks": "",
            "zerolinecolor": "white"
           },
           "zaxis": {
            "backgroundcolor": "#E5ECF6",
            "gridcolor": "white",
            "gridwidth": 2,
            "linecolor": "white",
            "showbackground": true,
            "ticks": "",
            "zerolinecolor": "white"
           }
          },
          "shapedefaults": {
           "line": {
            "color": "#2a3f5f"
           }
          },
          "ternary": {
           "aaxis": {
            "gridcolor": "white",
            "linecolor": "white",
            "ticks": ""
           },
           "baxis": {
            "gridcolor": "white",
            "linecolor": "white",
            "ticks": ""
           },
           "bgcolor": "#E5ECF6",
           "caxis": {
            "gridcolor": "white",
            "linecolor": "white",
            "ticks": ""
           }
          },
          "title": {
           "x": 0.05
          },
          "xaxis": {
           "automargin": true,
           "gridcolor": "white",
           "linecolor": "white",
           "ticks": "",
           "title": {
            "standoff": 15
           },
           "zerolinecolor": "white",
           "zerolinewidth": 2
          },
          "yaxis": {
           "automargin": true,
           "gridcolor": "white",
           "linecolor": "white",
           "ticks": "",
           "title": {
            "standoff": 15
           },
           "zerolinecolor": "white",
           "zerolinewidth": 2
          }
         }
        },
        "title": {
         "text": "#Yu Darvish Strikeouts 2016 to YTD<br> Release Speed vs. Spin Rate"
        },
        "xaxis": {
         "title": {
          "text": "Spin Rate"
         }
        },
        "yaxis": {
         "title": {
          "text": "Release Speed"
         }
        }
       }
      },
      "text/html": [
       "<div>\n",
       "        \n",
       "        \n",
       "            <div id=\"be1c7323-a6bf-423f-933f-b5112a880892\" class=\"plotly-graph-div\" style=\"height:525px; width:100%;\"></div>\n",
       "            <script type=\"text/javascript\">\n",
       "                require([\"plotly\"], function(Plotly) {\n",
       "                    window.PLOTLYENV=window.PLOTLYENV || {};\n",
       "                    \n",
       "                if (document.getElementById(\"be1c7323-a6bf-423f-933f-b5112a880892\")) {\n",
       "                    Plotly.newPlot(\n",
       "                        'be1c7323-a6bf-423f-933f-b5112a880892',\n",
       "                        [{\"colorscale\": [[0.0, \"rgb(247,251,255)\"], [0.125, \"rgb(222,235,247)\"], [0.25, \"rgb(198,219,239)\"], [0.375, \"rgb(158,202,225)\"], [0.5, \"rgb(107,174,214)\"], [0.625, \"rgb(66,146,198)\"], [0.75, \"rgb(33,113,181)\"], [0.875, \"rgb(8,81,156)\"], [1.0, \"rgb(8,48,107)\"]], \"type\": \"histogram2dcontour\", \"x\": [2752.0, 2714.0, 3102.0, 3003.0, 1786.0, 2929.0, 2572.0, 1619.0, 2847.0, 2540.0, 1646.0, 2483.0, 2919.0, 2494.0, 2933.0, 2948.0, 2547.0, 2597.0, 2722.0, 2931.0, 2963.0, 2961.0, 2953.0, 2649.0, 2650.0, 2971.0, 2955.0, 2902.0, 2744.0, 2776.0, 2767.0, 2734.0, 2557.0, 2795.0, 1752.0, 2798.0, 2527.0, 1551.0, 1856.0, 787.0, 2620.0, 1711.0, 1794.0, 2782.0, 2816.0, 1627.0, 2383.0, 2647.0, 2568.0, 1379.0, 2870.0, 2787.0, 2719.0, 2624.0, 2711.0, 2834.0, 2730.0, 2582.0, 994.0, 2741.0, 2432.0, 2846.0, 1041.0, 1605.0, 2594.0, 1582.0, 2829.0, 2758.0, 2696.0, 2596.0, 1516.0, 1662.0, 1057.0, 2834.0, 1367.0, 2597.0, 1434.0, 2931.0, 2739.0, 2750.0, 2905.0, 2619.0, 2401.0, 2754.0, 2527.0, 2697.0, 2629.0, 1422.0, null, 2641.0, 2847.0, 2667.0, 2913.0, 2864.0, 2699.0, 2625.0, 2731.0, 2682.0, 2664.0, 2689.0, 2753.0, 2687.0, 2692.0, null, 2537.0, 2698.0, 2629.0, 2556.0, 2815.0, 2592.0, 1043.0, 1380.0, 2689.0, 1253.0, 2578.0, 2565.0, 1298.0, 2785.0, 2680.0, 2682.0, 1463.0, 2779.0, 1575.0, 2797.0, 1440.0, 2554.0, null, 2481.0, 1124.0, 1180.0, 1194.0, 1208.0, 940.0, 1618.0, 1329.0, 2584.0, 2545.0, 1633.0, 2579.0, 2686.0, 1440.0, 1724.0, 1795.0, 2652.0, 2777.0, 2695.0, 2651.0, 1677.0, 2617.0, 2596.0, 2586.0, 2670.0, 2451.0, 2648.0, 1015.0, 2525.0, 1208.0, 2762.0, 2548.0, null, 2724.0, null, 2670.0, 2813.0, 1170.0, 2450.0, 2746.0, 2567.0, null, 2672.0, 2893.0, 2798.0, 2790.0, 2822.0, 2488.0, 1315.0, 2731.0, 1408.0, 2702.0, 1616.0, null, null, 2665.0, 2552.0, 2709.0, 2778.0, 2560.0, 2663.0, null, 2724.0, 1271.0, 2751.0, 2784.0, null, 1711.0, 944.0, 1244.0, 2532.0, 1299.0, 2748.0, 1587.0, 2713.0, 2693.0, 1823.0, null, null, null, null, 2865.0, 2775.0, 2445.0, 2857.0, null, 2909.0, null, 2613.0, 2773.0, 2833.0, 2887.0, null, 2593.0, null, 2766.0, 2302.0, 1852.0, 2601.0, null, null, null, 3111.0, 2658.0, 2815.0, 2794.0, null, null, 2739.0, null, 1903.0, 2553.0, 2882.0, 2837.0, 2852.0, 2597.0, 1728.0, 2919.0, 2780.0, 2800.0, 2590.0, 2581.0, 2772.0, null, 2488.0, 2637.0, 2722.0, null, 2893.0, 1949.0, 2561.0, 1661.0, 2828.0, null, 2579.0, 3168.0, 1698.0, 2010.0, 2925.0, null, 2886.0, 2705.0, 2942.0, 2989.0, null, null, 2466.0, 2649.0, 2890.0, 2697.0, 2816.0, 2881.0, 2677.0, 2914.0, 2591.0, 2597.0, 2652.0, 2581.0, 2469.0, 2657.0, 2657.0, 2549.0, 2534.0, 2469.0, 2601.0, 2798.0, 2600.0, 2625.0, 2824.0, 2454.0, 2574.0, 2506.0, 2755.0, 2814.0, 2674.0, 2682.0, 1861.0, 2646.0, 1571.0, 2752.0, 2643.0, 2663.0, 2749.0, 2884.0, 2767.0, 2768.0, 2303.0, 2453.0, null, 2568.0, 2721.0, 2542.0, 2556.0, 2685.0, 1508.0, 2838.0, 2337.0, 1711.0, 2731.0, 2711.0, 1297.0, 2513.0, 2503.0, 2787.0, 2723.0, 1659.0, 2621.0, null, 2758.0, 2322.0, null, null, 605.0, 2835.0, 2822.0, 1209.0, 2561.0, 2444.0, 2249.0, 2667.0, 2835.0, 2386.0, 2763.0, 2732.0, 2799.0, 2679.0, null, 2735.0, 2638.0, 2481.0, null, 2504.0, 2610.0, 2623.0, 2729.0, 2734.0, 2326.0, 2389.0, 2621.0, 2514.0, 2538.0, 2482.0, null, 2627.0, 2562.0, 2565.0, 2406.0, 2673.0, 2691.0, 2512.0, 2598.0, 2501.0, 2632.0, 2502.0, 2433.0, 2447.0, 2763.0, 2528.0, 2552.0, 2552.0, 2507.0, 2689.0, 2552.0, 2543.0, 2518.0, 2629.0, 2588.0, 2655.0, 2575.0, 2464.0, 2505.0, 2547.0, 2531.0, 2452.0, 2570.0, 2718.0, 2652.0, 2625.0, 2687.0, 2497.0, 2661.0, 2641.0, 2504.0, 2454.0, 2438.0, 2498.0, 2574.0, 2372.0, 1375.0, 2636.0, 2560.0, null, 2480.0, 2492.0, 2519.0, 2485.0, 2584.0, 2564.0, 2536.0, 2569.0, 2568.0, 1113.0, 2561.0, 2672.0, 2537.0, 2680.0, 2469.0, 2677.0, 2502.0, 2481.0, 2497.0, 2217.0, 2470.0, 2686.0, 2425.0, 2700.0, 2606.0, 2612.0, 2730.0, 2666.0, 2718.0, 2462.0, 2399.0, 2767.0, 2305.0, 2404.0, 2498.0, 2438.0, 2594.0, 2540.0, 2484.0, 2600.0, 2588.0, 2699.0, 2801.0, 2495.0, 2734.0, 2631.0, 2306.0, 2722.0, 2646.0, 2564.0, 2561.0, 2748.0, 2516.0, 2715.0, 2764.0, 2394.0, 2642.0, 2590.0, 2594.0, 2547.0, 2590.0, 2487.0, 2389.0, 2549.0, 2583.0, 2562.0, 2663.0, 2613.0, 2588.0, 1603.0, 2520.0, null, 2559.0, 2701.0, 2796.0, 2548.0, 2535.0, 2692.0, 2507.0, 2522.0, 2501.0, 2481.0, 2647.0, 2607.0, 2492.0, 2766.0, 2668.0, 2670.0, 2754.0, 2635.0, 2661.0, 2678.0, 2767.0, 2882.0, 2484.0, 2842.0, 2689.0, 2685.0, 2570.0, 2605.0, 2417.0, 2279.0, 2636.0, 2703.0, 2535.0, 2536.0, 1706.0, 2769.0, 2632.0, 2601.0, 2681.0, 2561.0, 2547.0, 2565.0, 2341.0, 2558.0, 1632.0, 1792.0, 2806.0, 2516.0, 2719.0, 2595.0, 2653.0, 2585.0, 2663.0, 2570.0, 2529.0, 2634.0, 2747.0, 2834.0, 2594.0, 2486.0, 2633.0, 2621.0, 2414.0, 2750.0, 2590.0, 2584.0, 2671.0, 2583.0, 2628.0, 2413.0, 2518.0, 2621.0, 2553.0, 2560.0, 2656.0, 2622.0, 2627.0, 2555.0, 2598.0, 2673.0, 2576.0, 2592.0, 2560.0, 2440.0, 2477.0, 2566.0, 2850.0, 2385.0, 2596.0, 2742.0, null, 2517.0, 2447.0, 2580.0, 2759.0, 2691.0, 2573.0, 2652.0, 2627.0, 2511.0, 1447.0, 2461.0, 2621.0, 2742.0, 2562.0, 2606.0, 2690.0, 2119.0, 2762.0, 2660.0, 2678.0, 2446.0, 2649.0, 2608.0, 2472.0, null, 2615.0, null, 2676.0, 2272.0, 1649.0, 2485.0, 2512.0, 2582.0, 2633.0, 2535.0, 2642.0, 2643.0, 2514.0, 2489.0, 2550.0, 2535.0, 2704.0, null, 2342.0, 2660.0, 2594.0, 2660.0, 2404.0, 2756.0, 2626.0, 2589.0, 2553.0, 2526.0, 2546.0, 2464.0, 2526.0, 2488.0, 2535.0, 2615.0, 2501.0, 2527.0, 2532.0, 2461.0, 2266.0, 2591.0, 2448.0, 2563.0, 2687.0, 2579.0, 2487.0, 2489.0, 2501.0, 2609.0, 2519.0, 2627.0, 2555.0, 2580.0, 2540.0, 2612.0, 2673.0, 2359.0, 2571.0, 2568.0, 2535.0, 2514.0, 2496.0, 1326.0, 2603.0, 2504.0, 2477.0, null, 2643.0, 2514.0, 2702.0, 2625.0, 2432.0, 2466.0, 2370.0, 2096.0, 2675.0, 2600.0, 2463.0, 2377.0, 2597.0, 2524.0, 2596.0, 2636.0, 2203.0, 2695.0, 2408.0, 1668.0, 2593.0, 2476.0, 2728.0, 2546.0, 2460.0, 2631.0], \"y\": [96.6, 96.7, 83.5, 84.4, 89.4, 80.8, 95.8, 83.4, 83.7, 96.0, 88.5, 96.9, 85.6, 98.4, 90.1, 85.3, 71.8, 97.2, 85.9, 85.1, 84.8, 84.9, 85.0, 98.3, 97.1, 84.1, 84.8, 84.4, 80.2, 81.6, 88.1, 88.2, 96.2, 89.1, 89.6, 79.7, 96.6, 88.5, 91.7, 86.3, 96.5, 92.2, 92.7, 92.4, 80.4, 91.1, 97.6, 97.2, 96.1, 89.8, 86.7, 79.0, 80.6, 97.7, 97.6, 87.3, 87.2, 96.3, 88.9, 80.2, 95.0, 88.9, 89.9, 92.1, 96.1, 91.7, 79.9, 80.7, 88.3, 84.2, 89.8, 89.7, 90.4, 81.2, 89.9, 95.3, 89.0, 82.3, 82.3, 79.9, 87.0, 81.5, 96.3, 96.7, 95.6, 95.2, 83.7, 91.5, 86.8, 78.0, 88.3, 95.5, 80.7, 80.0, 80.0, 96.1, 78.6, 96.5, 95.9, 81.6, 85.4, 80.7, 94.1, 84.2, 79.5, 81.2, 80.8, 95.5, 82.0, 82.1, 87.5, 88.4, 82.7, 89.4, 93.2, 84.0, 89.7, 82.9, 79.3, 82.0, 91.5, 83.0, 89.1, 80.4, 87.8, 95.2, 88.5, 70.5, 88.3, 89.7, 91.1, 88.6, 88.8, 89.6, 91.4, 95.7, 96.1, 91.4, 96.4, 83.3, 90.0, 90.1, 90.7, 90.1, 84.1, 86.8, 83.7, 90.6, 83.4, 96.0, 84.7, 90.0, 82.3, 95.9, 88.0, 96.1, 87.0, 88.4, 97.7, 86.4, 87.7, 86.9, 88.3, 86.4, 81.2, 96.2, 97.8, 96.7, 87.0, 79.2, 80.4, 86.7, 86.2, 84.1, 78.8, 85.2, 85.7, 85.9, 87.3, 91.2, 88.7, 88.3, 77.3, 96.0, 84.7, 87.7, 96.0, 91.3, 84.3, 86.2, 85.1, 86.0, 83.5, 84.3, 93.2, 87.8, 88.7, 93.5, 89.6, 84.2, 91.2, 95.6, 85.5, 91.1, 85.1, 86.7, 86.5, 86.6, 84.5, 88.9, 95.5, 84.1, 87.8, 86.1, 88.9, 91.9, 82.6, 84.2, 85.8, 87.4, 95.9, 87.4, 89.8, 95.2, 92.9, 97.0, 88.0, 88.8, 87.8, 88.9, 87.7, 88.9, 88.4, 87.9, 86.3, 86.4, 86.9, 88.7, 96.9, 87.2, 87.3, 89.2, 95.5, 89.0, 85.2, 86.8, 88.9, 95.6, 93.4, 88.5, 87.8, 71.1, 82.7, 86.7, 87.4, 86.7, 92.8, 97.0, 90.7, 88.5, 84.4, 97.2, 88.8, 91.0, 91.7, 87.3, 83.8, 82.7, 95.8, 83.6, 84.6, 88.4, 85.9, 93.7, 94.9, 84.2, 76.2, 81.8, 83.0, 88.4, 84.3, 96.4, 82.3, 88.0, 81.7, 93.8, 83.0, 85.4, 85.2, 94.1, 93.4, 83.8, 73.7, 94.1, 95.7, 84.2, 95.3, 80.6, 95.0, 82.1, 83.5, 96.3, 96.4, 91.7, 96.7, 89.2, 85.3, 95.8, 87.5, 87.4, 85.8, 87.0, 87.7, 64.0, 94.7, 86.6, 88.5, 86.6, 88.8, 86.8, 90.8, 90.8, 86.9, 96.3, 91.2, 83.9, 84.0, 89.4, 95.4, 95.2, 86.3, 86.0, 90.8, 87.1, 85.8, 85.7, 93.9, 85.0, 86.3, 85.7, 86.6, 84.1, 87.6, 96.5, 94.9, 96.3, 76.3, 84.5, 96.3, 85.5, 83.7, 85.9, 85.2, 84.6, 83.9, 83.3, 94.4, 86.9, 96.6, 89.7, 82.0, 83.2, 84.4, 94.6, 93.9, 95.8, 95.5, 94.8, 96.3, 84.6, 81.2, 93.1, 83.9, 94.2, 83.5, 84.6, 95.1, 95.7, 95.7, 83.2, 94.1, 94.6, 84.8, 83.2, 73.5, 72.8, 97.2, 95.9, 95.5, 96.6, 70.6, 96.3, 74.3, 82.8, 80.4, 81.4, 73.0, 73.2, 96.3, 95.5, 94.4, 81.7, 83.1, 97.1, 85.9, 82.4, 72.1, 92.8, 94.4, 94.7, 94.6, 96.2, 96.0, 94.8, 75.0, 90.2, 84.2, 84.3, 87.7, 96.0, 96.3, 96.2, 95.5, 78.2, 95.0, 97.2, 96.4, 96.0, 91.4, 96.4, 85.7, 98.0, 87.2, 93.8, 82.6, 94.2, 72.4, 95.7, 96.7, 94.2, 81.4, 95.7, 83.7, 96.0, 94.8, 83.4, 80.1, 83.2, 84.1, 95.4, 89.3, 95.7, 95.2, 97.1, 72.0, 95.4, 95.0, 95.2, 72.5, 83.8, 84.1, 82.2, 73.0, 84.4, 81.6, 63.6, 81.6, 82.1, 71.2, 73.1, 84.3, 73.0, 82.7, 87.2, 69.5, 82.2, 95.1, 72.9, 94.9, 96.0, 72.9, 74.3, 84.5, 92.8, 92.7, 94.5, 95.9, 93.3, 89.6, 94.2, null, 94.8, 85.1, 83.9, 94.5, 85.3, 86.5, 84.1, 96.0, 84.6, 95.0, 85.3, 76.2, 70.2, 81.8, 98.0, 82.7, 84.7, 96.8, 96.5, 81.8, 73.9, 82.9, 71.4, 84.8, 73.9, 89.7, 83.1, 83.5, 73.7, 95.8, 82.7, 84.2, 96.0, 94.4, 87.9, 84.7, 96.4, 82.0, 94.9, 94.9, 96.9, 83.1, 70.8, 96.2, 91.0, 88.5, 81.7, 95.9, 83.1, 95.4, 82.5, 81.7, 86.5, 81.8, 83.9, 82.8, 82.4, 82.4, 94.9, 94.7, 97.1, 75.6, 93.8, 89.3, 94.7, 94.9, 96.6, 83.5, 84.5, 95.1, 97.1, 83.1, 74.3, 96.3, 75.6, 95.8, 75.8, 76.8, 95.6, 84.4, 84.1, 97.3, 73.9, 85.7, 97.2, 96.0, 83.1, 94.9, 82.1, 84.9, 89.4, 83.6, 71.0, 96.6, 84.3, 85.6, 94.6, 82.2, 83.5, 93.8, 87.7, 82.1, 78.9, 78.2, 82.1, 97.4, 85.2, 94.2, 82.9, 78.9, 84.6, 82.5, 85.7, 96.7, 70.0, 89.0, 87.6, 95.2, 74.1, 67.3, 89.9, 72.7, 95.3, 74.1, 95.5, 94.5, 80.1, 85.0, 93.8, 95.2, 97.7, 95.9, 95.4, 90.6, 67.5, 95.9, 95.1, 94.3, 69.1, 89.2, 94.8, 94.7, 95.5, 94.4, 96.0, 94.9, 78.5, 94.0, 96.6, 95.0, 95.8, 95.0, 95.8, 74.2, 92.8, 81.3, 95.8, 95.9, 96.3, 95.2, 93.3, 79.9, 94.9, 86.7, 81.5, 85.9, 95.4, 82.3, 82.2, 86.5, 85.0, 80.8, 82.6, 97.7, 96.9, 83.1, 79.6, 84.2, 96.4, 96.9, 79.3, 91.6, 85.6, 84.8, 84.0, 83.2, 85.7, 85.2, 98.6, 63.4, 85.3, 98.2, 84.6, 96.7, 83.8, 83.6, 95.5, 84.6, 65.3, 82.8, 72.1, 89.4, 95.1, 96.6, 85.0, 97.0, 96.1, 82.9]}],\n",
       "                        {\"template\": {\"data\": {\"bar\": [{\"error_x\": {\"color\": \"#2a3f5f\"}, \"error_y\": {\"color\": \"#2a3f5f\"}, \"marker\": {\"line\": {\"color\": \"#E5ECF6\", \"width\": 0.5}}, \"type\": \"bar\"}], \"barpolar\": [{\"marker\": {\"line\": {\"color\": \"#E5ECF6\", \"width\": 0.5}}, \"type\": \"barpolar\"}], \"carpet\": [{\"aaxis\": {\"endlinecolor\": \"#2a3f5f\", \"gridcolor\": \"white\", \"linecolor\": \"white\", \"minorgridcolor\": \"white\", \"startlinecolor\": \"#2a3f5f\"}, \"baxis\": {\"endlinecolor\": \"#2a3f5f\", \"gridcolor\": \"white\", \"linecolor\": \"white\", \"minorgridcolor\": \"white\", \"startlinecolor\": \"#2a3f5f\"}, \"type\": \"carpet\"}], \"choropleth\": [{\"colorbar\": {\"outlinewidth\": 0, \"ticks\": \"\"}, \"type\": \"choropleth\"}], \"contour\": [{\"colorbar\": {\"outlinewidth\": 0, \"ticks\": \"\"}, \"colorscale\": [[0.0, \"#0d0887\"], [0.1111111111111111, \"#46039f\"], [0.2222222222222222, \"#7201a8\"], [0.3333333333333333, \"#9c179e\"], [0.4444444444444444, \"#bd3786\"], [0.5555555555555556, \"#d8576b\"], [0.6666666666666666, \"#ed7953\"], [0.7777777777777778, \"#fb9f3a\"], [0.8888888888888888, \"#fdca26\"], [1.0, \"#f0f921\"]], \"type\": \"contour\"}], \"contourcarpet\": [{\"colorbar\": {\"outlinewidth\": 0, \"ticks\": \"\"}, \"type\": \"contourcarpet\"}], \"heatmap\": [{\"colorbar\": {\"outlinewidth\": 0, \"ticks\": \"\"}, \"colorscale\": [[0.0, \"#0d0887\"], [0.1111111111111111, \"#46039f\"], [0.2222222222222222, \"#7201a8\"], [0.3333333333333333, \"#9c179e\"], [0.4444444444444444, \"#bd3786\"], [0.5555555555555556, \"#d8576b\"], [0.6666666666666666, \"#ed7953\"], [0.7777777777777778, \"#fb9f3a\"], [0.8888888888888888, \"#fdca26\"], [1.0, \"#f0f921\"]], \"type\": \"heatmap\"}], \"heatmapgl\": [{\"colorbar\": {\"outlinewidth\": 0, \"ticks\": \"\"}, \"colorscale\": [[0.0, \"#0d0887\"], [0.1111111111111111, \"#46039f\"], [0.2222222222222222, \"#7201a8\"], [0.3333333333333333, \"#9c179e\"], [0.4444444444444444, \"#bd3786\"], [0.5555555555555556, \"#d8576b\"], [0.6666666666666666, \"#ed7953\"], [0.7777777777777778, \"#fb9f3a\"], [0.8888888888888888, \"#fdca26\"], [1.0, \"#f0f921\"]], \"type\": \"heatmapgl\"}], \"histogram\": [{\"marker\": {\"colorbar\": {\"outlinewidth\": 0, \"ticks\": \"\"}}, \"type\": \"histogram\"}], \"histogram2d\": [{\"colorbar\": {\"outlinewidth\": 0, \"ticks\": \"\"}, \"colorscale\": [[0.0, \"#0d0887\"], [0.1111111111111111, \"#46039f\"], [0.2222222222222222, \"#7201a8\"], [0.3333333333333333, \"#9c179e\"], [0.4444444444444444, \"#bd3786\"], [0.5555555555555556, \"#d8576b\"], [0.6666666666666666, \"#ed7953\"], [0.7777777777777778, \"#fb9f3a\"], [0.8888888888888888, \"#fdca26\"], [1.0, \"#f0f921\"]], \"type\": \"histogram2d\"}], \"histogram2dcontour\": [{\"colorbar\": {\"outlinewidth\": 0, \"ticks\": \"\"}, \"colorscale\": [[0.0, \"#0d0887\"], [0.1111111111111111, \"#46039f\"], [0.2222222222222222, \"#7201a8\"], [0.3333333333333333, \"#9c179e\"], [0.4444444444444444, \"#bd3786\"], [0.5555555555555556, \"#d8576b\"], [0.6666666666666666, \"#ed7953\"], [0.7777777777777778, \"#fb9f3a\"], [0.8888888888888888, \"#fdca26\"], [1.0, \"#f0f921\"]], \"type\": \"histogram2dcontour\"}], \"mesh3d\": [{\"colorbar\": {\"outlinewidth\": 0, \"ticks\": \"\"}, \"type\": \"mesh3d\"}], \"parcoords\": [{\"line\": {\"colorbar\": {\"outlinewidth\": 0, \"ticks\": \"\"}}, \"type\": \"parcoords\"}], \"pie\": [{\"automargin\": true, \"type\": \"pie\"}], \"scatter\": [{\"marker\": {\"colorbar\": {\"outlinewidth\": 0, \"ticks\": \"\"}}, \"type\": \"scatter\"}], \"scatter3d\": [{\"line\": {\"colorbar\": {\"outlinewidth\": 0, \"ticks\": \"\"}}, \"marker\": {\"colorbar\": {\"outlinewidth\": 0, \"ticks\": \"\"}}, \"type\": \"scatter3d\"}], \"scattercarpet\": [{\"marker\": {\"colorbar\": {\"outlinewidth\": 0, \"ticks\": \"\"}}, \"type\": \"scattercarpet\"}], \"scattergeo\": [{\"marker\": {\"colorbar\": {\"outlinewidth\": 0, \"ticks\": \"\"}}, \"type\": \"scattergeo\"}], \"scattergl\": [{\"marker\": {\"colorbar\": {\"outlinewidth\": 0, \"ticks\": \"\"}}, \"type\": \"scattergl\"}], \"scattermapbox\": [{\"marker\": {\"colorbar\": {\"outlinewidth\": 0, \"ticks\": \"\"}}, \"type\": \"scattermapbox\"}], \"scatterpolar\": [{\"marker\": {\"colorbar\": {\"outlinewidth\": 0, \"ticks\": \"\"}}, \"type\": \"scatterpolar\"}], \"scatterpolargl\": [{\"marker\": {\"colorbar\": {\"outlinewidth\": 0, \"ticks\": \"\"}}, \"type\": \"scatterpolargl\"}], \"scatterternary\": [{\"marker\": {\"colorbar\": {\"outlinewidth\": 0, \"ticks\": \"\"}}, \"type\": \"scatterternary\"}], \"surface\": [{\"colorbar\": {\"outlinewidth\": 0, \"ticks\": \"\"}, \"colorscale\": [[0.0, \"#0d0887\"], [0.1111111111111111, \"#46039f\"], [0.2222222222222222, \"#7201a8\"], [0.3333333333333333, \"#9c179e\"], [0.4444444444444444, \"#bd3786\"], [0.5555555555555556, \"#d8576b\"], [0.6666666666666666, \"#ed7953\"], [0.7777777777777778, \"#fb9f3a\"], [0.8888888888888888, \"#fdca26\"], [1.0, \"#f0f921\"]], \"type\": \"surface\"}], \"table\": [{\"cells\": {\"fill\": {\"color\": \"#EBF0F8\"}, \"line\": {\"color\": \"white\"}}, \"header\": {\"fill\": {\"color\": \"#C8D4E3\"}, \"line\": {\"color\": \"white\"}}, \"type\": \"table\"}]}, \"layout\": {\"annotationdefaults\": {\"arrowcolor\": \"#2a3f5f\", \"arrowhead\": 0, \"arrowwidth\": 1}, \"coloraxis\": {\"colorbar\": {\"outlinewidth\": 0, \"ticks\": \"\"}}, \"colorscale\": {\"diverging\": [[0, \"#8e0152\"], [0.1, \"#c51b7d\"], [0.2, \"#de77ae\"], [0.3, \"#f1b6da\"], [0.4, \"#fde0ef\"], [0.5, \"#f7f7f7\"], [0.6, \"#e6f5d0\"], [0.7, \"#b8e186\"], [0.8, \"#7fbc41\"], [0.9, \"#4d9221\"], [1, \"#276419\"]], \"sequential\": [[0.0, \"#0d0887\"], [0.1111111111111111, \"#46039f\"], [0.2222222222222222, \"#7201a8\"], [0.3333333333333333, \"#9c179e\"], [0.4444444444444444, \"#bd3786\"], [0.5555555555555556, \"#d8576b\"], [0.6666666666666666, \"#ed7953\"], [0.7777777777777778, \"#fb9f3a\"], [0.8888888888888888, \"#fdca26\"], [1.0, \"#f0f921\"]], \"sequentialminus\": [[0.0, \"#0d0887\"], [0.1111111111111111, \"#46039f\"], [0.2222222222222222, \"#7201a8\"], [0.3333333333333333, \"#9c179e\"], [0.4444444444444444, \"#bd3786\"], [0.5555555555555556, \"#d8576b\"], [0.6666666666666666, \"#ed7953\"], [0.7777777777777778, \"#fb9f3a\"], [0.8888888888888888, \"#fdca26\"], [1.0, \"#f0f921\"]]}, \"colorway\": [\"#636efa\", \"#EF553B\", \"#00cc96\", \"#ab63fa\", \"#FFA15A\", \"#19d3f3\", \"#FF6692\", \"#B6E880\", \"#FF97FF\", \"#FECB52\"], \"font\": {\"color\": \"#2a3f5f\"}, \"geo\": {\"bgcolor\": \"white\", \"lakecolor\": \"white\", \"landcolor\": \"#E5ECF6\", \"showlakes\": true, \"showland\": true, \"subunitcolor\": \"white\"}, \"hoverlabel\": {\"align\": \"left\"}, \"hovermode\": \"closest\", \"mapbox\": {\"style\": \"light\"}, \"paper_bgcolor\": \"white\", \"plot_bgcolor\": \"#E5ECF6\", \"polar\": {\"angularaxis\": {\"gridcolor\": \"white\", \"linecolor\": \"white\", \"ticks\": \"\"}, \"bgcolor\": \"#E5ECF6\", \"radialaxis\": {\"gridcolor\": \"white\", \"linecolor\": \"white\", \"ticks\": \"\"}}, \"scene\": {\"xaxis\": {\"backgroundcolor\": \"#E5ECF6\", \"gridcolor\": \"white\", \"gridwidth\": 2, \"linecolor\": \"white\", \"showbackground\": true, \"ticks\": \"\", \"zerolinecolor\": \"white\"}, \"yaxis\": {\"backgroundcolor\": \"#E5ECF6\", \"gridcolor\": \"white\", \"gridwidth\": 2, \"linecolor\": \"white\", \"showbackground\": true, \"ticks\": \"\", \"zerolinecolor\": \"white\"}, \"zaxis\": {\"backgroundcolor\": \"#E5ECF6\", \"gridcolor\": \"white\", \"gridwidth\": 2, \"linecolor\": \"white\", \"showbackground\": true, \"ticks\": \"\", \"zerolinecolor\": \"white\"}}, \"shapedefaults\": {\"line\": {\"color\": \"#2a3f5f\"}}, \"ternary\": {\"aaxis\": {\"gridcolor\": \"white\", \"linecolor\": \"white\", \"ticks\": \"\"}, \"baxis\": {\"gridcolor\": \"white\", \"linecolor\": \"white\", \"ticks\": \"\"}, \"bgcolor\": \"#E5ECF6\", \"caxis\": {\"gridcolor\": \"white\", \"linecolor\": \"white\", \"ticks\": \"\"}}, \"title\": {\"x\": 0.05}, \"xaxis\": {\"automargin\": true, \"gridcolor\": \"white\", \"linecolor\": \"white\", \"ticks\": \"\", \"title\": {\"standoff\": 15}, \"zerolinecolor\": \"white\", \"zerolinewidth\": 2}, \"yaxis\": {\"automargin\": true, \"gridcolor\": \"white\", \"linecolor\": \"white\", \"ticks\": \"\", \"title\": {\"standoff\": 15}, \"zerolinecolor\": \"white\", \"zerolinewidth\": 2}}}, \"title\": {\"text\": \"#Yu Darvish Strikeouts 2016 to YTD<br> Release Speed vs. Spin Rate\"}, \"xaxis\": {\"title\": {\"text\": \"Spin Rate\"}}, \"yaxis\": {\"title\": {\"text\": \"Release Speed\"}}},\n",
       "                        {\"responsive\": true}\n",
       "                    ).then(function(){\n",
       "                            \n",
       "var gd = document.getElementById('be1c7323-a6bf-423f-933f-b5112a880892');\n",
       "var x = new MutationObserver(function (mutations, observer) {{\n",
       "        var display = window.getComputedStyle(gd).display;\n",
       "        if (!display || display === 'none') {{\n",
       "            console.log([gd, 'removed!']);\n",
       "            Plotly.purge(gd);\n",
       "            observer.disconnect();\n",
       "        }}\n",
       "}});\n",
       "\n",
       "// Listen for the removal of the full notebook cells\n",
       "var notebookContainer = gd.closest('#notebook-container');\n",
       "if (notebookContainer) {{\n",
       "    x.observe(notebookContainer, {childList: true});\n",
       "}}\n",
       "\n",
       "// Listen for the clearing of the current output cell\n",
       "var outputEl = gd.closest('.output');\n",
       "if (outputEl) {{\n",
       "    x.observe(outputEl, {childList: true});\n",
       "}}\n",
       "\n",
       "                        })\n",
       "                };\n",
       "                });\n",
       "            </script>\n",
       "        </div>"
      ]
     },
     "metadata": {},
     "output_type": "display_data"
    }
   ],
   "source": [
    "fig2 = go.Figure(go.Histogram2dContour(\n",
    "        x = darvish_data_strikeouts['release_spin_rate'],\n",
    "        y = darvish_data_strikeouts['release_speed'],\n",
    "        colorscale = 'Blues'\n",
    "))\n",
    "\n",
    "fig2.update_layout(title= \"#Yu Darvish Strikeouts 2016 to YTD\" + \"<br> Release Speed vs. Spin Rate\")\n",
    "fig2.update_layout(xaxis_title=\"Spin Rate\",\n",
    "    yaxis_title=\"Release Speed\")\n",
    "fig2.show()"
   ]
  },
  {
   "cell_type": "code",
   "execution_count": 150,
   "metadata": {},
   "outputs": [
    {
     "data": {
      "text/html": [
       "<div>\n",
       "<style scoped>\n",
       "    .dataframe tbody tr th:only-of-type {\n",
       "        vertical-align: middle;\n",
       "    }\n",
       "\n",
       "    .dataframe tbody tr th {\n",
       "        vertical-align: top;\n",
       "    }\n",
       "\n",
       "    .dataframe thead th {\n",
       "        text-align: right;\n",
       "    }\n",
       "</style>\n",
       "<table border=\"1\" class=\"dataframe\">\n",
       "  <thead>\n",
       "    <tr style=\"text-align: right;\">\n",
       "      <th></th>\n",
       "      <th>count</th>\n",
       "      <th>mean</th>\n",
       "      <th>std</th>\n",
       "      <th>min</th>\n",
       "      <th>25%</th>\n",
       "      <th>50%</th>\n",
       "      <th>75%</th>\n",
       "      <th>max</th>\n",
       "    </tr>\n",
       "  </thead>\n",
       "  <tbody>\n",
       "    <tr>\n",
       "      <th>Year</th>\n",
       "      <td>38.0</td>\n",
       "      <td>2018.105263</td>\n",
       "      <td>1.429222</td>\n",
       "      <td>2016.0</td>\n",
       "      <td>2017.0</td>\n",
       "      <td>2018.0</td>\n",
       "      <td>2019.00</td>\n",
       "      <td>2020.0</td>\n",
       "    </tr>\n",
       "    <tr>\n",
       "      <th>release_speed</th>\n",
       "      <td>38.0</td>\n",
       "      <td>244.552632</td>\n",
       "      <td>296.220945</td>\n",
       "      <td>1.0</td>\n",
       "      <td>35.5</td>\n",
       "      <td>129.5</td>\n",
       "      <td>337.75</td>\n",
       "      <td>1128.0</td>\n",
       "    </tr>\n",
       "  </tbody>\n",
       "</table>\n",
       "</div>"
      ],
      "text/plain": [
       "               count         mean         std     min     25%     50%  \\\n",
       "Year            38.0  2018.105263    1.429222  2016.0  2017.0  2018.0   \n",
       "release_speed   38.0   244.552632  296.220945     1.0    35.5   129.5   \n",
       "\n",
       "                   75%     max  \n",
       "Year           2019.00  2020.0  \n",
       "release_speed   337.75  1128.0  "
      ]
     },
     "execution_count": 150,
     "metadata": {},
     "output_type": "execute_result"
    }
   ],
   "source": [
    "darvish_pitches.describe().transpose()"
   ]
  },
  {
   "cell_type": "code",
   "execution_count": 65,
   "metadata": {},
   "outputs": [
    {
     "data": {
      "text/plain": [
       "(384, 9)"
      ]
     },
     "execution_count": 65,
     "metadata": {},
     "output_type": "execute_result"
    }
   ],
   "source": [
    "darvish_swingstrikes_19_clean.shape"
   ]
  },
  {
   "cell_type": "code",
   "execution_count": 69,
   "metadata": {},
   "outputs": [
    {
     "data": {
      "text/plain": [
       "(118, 9)"
      ]
     },
     "execution_count": 69,
     "metadata": {},
     "output_type": "execute_result"
    }
   ],
   "source": [
    "darvish_swingstrikes_20_clean.shape"
   ]
  },
  {
   "cell_type": "code",
   "execution_count": 66,
   "metadata": {},
   "outputs": [],
   "source": [
    "# statcast_zone.head()"
   ]
  },
  {
   "cell_type": "code",
   "execution_count": 105,
   "metadata": {},
   "outputs": [
    {
     "data": {
      "text/plain": [
       "pitch_type\n",
       "CH     124\n",
       "CS       2\n",
       "CU     516\n",
       "EP       8\n",
       "FC    2134\n",
       "FF    2927\n",
       "FS     176\n",
       "FT    1354\n",
       "IN       2\n",
       "KC     114\n",
       "SI      66\n",
       "SL    1870\n",
       "Name: release_speed, dtype: int64"
      ]
     },
     "execution_count": 105,
     "metadata": {},
     "output_type": "execute_result"
    }
   ],
   "source": [
    "#look at pitches thrown by Yu by pitch type\n",
    "darvish_data_clean.groupby('pitch_type')['release_speed'].count()"
   ]
  },
  {
   "cell_type": "code",
   "execution_count": 70,
   "metadata": {},
   "outputs": [
    {
     "data": {
      "text/plain": [
       "pitch_type\n",
       "CH      4\n",
       "CU     13\n",
       "FC    164\n",
       "FF     88\n",
       "FS     19\n",
       "FT     23\n",
       "KC     17\n",
       "SL     56\n",
       "Name: release_speed, dtype: int64"
      ]
     },
     "execution_count": 70,
     "metadata": {},
     "output_type": "execute_result"
    }
   ],
   "source": [
    "#group the data by pitch type, we see that most of Darvish swing_strikes come from FC in 2019, 43%\n",
    "darvish_swingstrikes_19_clean.groupby('pitch_type')['release_speed'].count()"
   ]
  },
  {
   "cell_type": "code",
   "execution_count": 71,
   "metadata": {},
   "outputs": [
    {
     "data": {
      "text/plain": [
       "pitch_type\n",
       "CU     6\n",
       "FC    61\n",
       "FF    18\n",
       "FS     2\n",
       "KC     5\n",
       "SI     2\n",
       "SL    24\n",
       "Name: release_speed, dtype: int64"
      ]
     },
     "execution_count": 71,
     "metadata": {},
     "output_type": "execute_result"
    }
   ],
   "source": [
    "#group the data by pitch type, we see that most of Darvish swing_strikes continue to come from FC in 2020, 52%\n",
    "darvish_swingstrikes_20_clean.groupby('pitch_type')['release_speed'].count()"
   ]
  },
  {
   "cell_type": "code",
   "execution_count": 72,
   "metadata": {},
   "outputs": [],
   "source": [
    "#we'll now take a look at swinging strikes in the strike zone\n",
    "darvish_strikezone_misses19 = darvish_swingstrikes_19_clean.loc[darvish_swingstrikes_19_clean['zone'] <= 9]\n",
    "darvish_strikezone_misses20 = darvish_swingstrikes_20_clean.loc[darvish_swingstrikes_20_clean['zone'] <= 9]"
   ]
  },
  {
   "cell_type": "code",
   "execution_count": 76,
   "metadata": {},
   "outputs": [
    {
     "name": "stdout",
     "output_type": "stream",
     "text": [
      "174\n",
      "53\n"
     ]
    }
   ],
   "source": [
    "# here we see that out of 384 swinging strikes, 174 come within in the strikezone in 2019, 174/384 = 45%\n",
    "# here we see that out of 118 swinging strikes, 53 come within in the strikezone in 2020, 53/118 = 45%\n",
    "\n",
    "print(len(darvish_strikezone_misses19))\n",
    "print(len(darvish_strikezone_misses20))"
   ]
  },
  {
   "cell_type": "code",
   "execution_count": 77,
   "metadata": {},
   "outputs": [
    {
     "data": {
      "text/plain": [
       "pitch_type\n",
       "CH     2\n",
       "CU     2\n",
       "FC    77\n",
       "FF    57\n",
       "FS     8\n",
       "FT     9\n",
       "KC     3\n",
       "SL    16\n",
       "Name: release_speed, dtype: int64"
      ]
     },
     "execution_count": 77,
     "metadata": {},
     "output_type": "execute_result"
    }
   ],
   "source": [
    "#group the data by pitch type, we see that most of Darvish swing_strikes in the strike zone come from FC & FF in 2019\n",
    "darvish_strikezone_misses19.groupby('pitch_type')['release_speed'].count()"
   ]
  },
  {
   "cell_type": "code",
   "execution_count": 79,
   "metadata": {},
   "outputs": [
    {
     "data": {
      "text/plain": [
       "pitch_type\n",
       "CU     4\n",
       "FC    23\n",
       "FF    13\n",
       "FS     1\n",
       "KC     2\n",
       "SL    10\n",
       "Name: release_speed, dtype: int64"
      ]
     },
     "execution_count": 79,
     "metadata": {},
     "output_type": "execute_result"
    }
   ],
   "source": [
    "#group the data by pitch type, we see that most of Darvish swing_strikes in the strike zone come from FC & FF in 2020, slider improving in small sample size\n",
    "darvish_strikezone_misses20.groupby('pitch_type')['release_speed'].count()"
   ]
  },
  {
   "cell_type": "code",
   "execution_count": 83,
   "metadata": {},
   "outputs": [],
   "source": [
    "#create dataframe for FF and FC for 2019 & 2020\n",
    "darvish_ss_ff_analysis19 = darvish_strikezone_misses19.loc[darvish_strikezone_misses19['pitch_type']=='FF']\n",
    "darvish_ss_fc_analysis19 = darvish_strikezone_misses19.loc[darvish_strikezone_misses19['pitch_type']=='FC']\n",
    "\n",
    "darvish_ss_ff_analysis20 = darvish_strikezone_misses20.loc[darvish_strikezone_misses20['pitch_type']=='FF']\n",
    "darvish_ss_fc_analysis20 = darvish_strikezone_misses20.loc[darvish_strikezone_misses20['pitch_type']=='FC']"
   ]
  },
  {
   "cell_type": "code",
   "execution_count": 84,
   "metadata": {},
   "outputs": [
    {
     "data": {
      "text/plain": [
       "(77, 9)"
      ]
     },
     "execution_count": 84,
     "metadata": {},
     "output_type": "execute_result"
    }
   ],
   "source": [
    "darvish_ss_fc_analysis19.shape"
   ]
  },
  {
   "cell_type": "code",
   "execution_count": 85,
   "metadata": {},
   "outputs": [
    {
     "data": {
      "text/plain": [
       "(23, 9)"
      ]
     },
     "execution_count": 85,
     "metadata": {},
     "output_type": "execute_result"
    }
   ],
   "source": [
    "darvish_ss_fc_analysis20.shape"
   ]
  },
  {
   "cell_type": "code",
   "execution_count": 37,
   "metadata": {},
   "outputs": [],
   "source": [
    "#use our zone data from statcast to look further into our data and HR distribution\n",
    "# use functions created by Github user : btab2273, for zone analysis\n",
    "\n",
    "def assign_x_coord(row):\n",
    "    \"\"\"\n",
    "    Assigns an x-coordinate to Statcast's strike zone numbers. Zones 11, 12, 13,\n",
    "    and 14 are ignored for plotting simplicity.\n",
    "    \"\"\"\n",
    "    # Left third of strike zone\n",
    "    if row.zone in [1, 4, 7]:\n",
    "        x = 1\n",
    "        return 1\n",
    "    # Middle third of strike zone\n",
    "    if row.zone in [2, 5, 8]:\n",
    "        x = 2\n",
    "        return 2\n",
    "    # Right third of strike zone\n",
    "    if row.zone in [3, 6, 9]:\n",
    "        x = 3\n",
    "        return 3"
   ]
  },
  {
   "cell_type": "code",
   "execution_count": 38,
   "metadata": {},
   "outputs": [],
   "source": [
    "def assign_y_coord(row):\n",
    "    \"\"\"\n",
    "    Assigns a y-coordinate to Statcast's strike zone numbers. Zones 11, 12, 13,\n",
    "    and 14 are ignored for plotting simplicity.\n",
    "    \"\"\"\n",
    "    # Upper third of strike zone\n",
    "    if row.zone in [1, 2, 3]:\n",
    "        y=3\n",
    "        return 3\n",
    "    # Middle third of strike zone\n",
    "    if row.zone in [4, 5, 6]:\n",
    "        y=2\n",
    "        return 2\n",
    "    # Lower third of strike zone\n",
    "    if row.zone in [7, 8, 9]:\n",
    "        y=1\n",
    "        return 1"
   ]
  },
  {
   "cell_type": "code",
   "execution_count": 91,
   "metadata": {},
   "outputs": [
    {
     "name": "stderr",
     "output_type": "stream",
     "text": [
      "C:\\Users\\omarc\\Anaconda3\\lib\\site-packages\\ipykernel_launcher.py:2: SettingWithCopyWarning: \n",
      "A value is trying to be set on a copy of a slice from a DataFrame.\n",
      "Try using .loc[row_indexer,col_indexer] = value instead\n",
      "\n",
      "See the caveats in the documentation: https://pandas.pydata.org/pandas-docs/stable/user_guide/indexing.html#returning-a-view-versus-a-copy\n",
      "  \n",
      "C:\\Users\\omarc\\Anaconda3\\lib\\site-packages\\ipykernel_launcher.py:3: SettingWithCopyWarning: \n",
      "A value is trying to be set on a copy of a slice from a DataFrame.\n",
      "Try using .loc[row_indexer,col_indexer] = value instead\n",
      "\n",
      "See the caveats in the documentation: https://pandas.pydata.org/pandas-docs/stable/user_guide/indexing.html#returning-a-view-versus-a-copy\n",
      "  This is separate from the ipykernel package so we can avoid doing imports until\n",
      "C:\\Users\\omarc\\Anaconda3\\lib\\site-packages\\ipykernel_launcher.py:5: SettingWithCopyWarning: \n",
      "A value is trying to be set on a copy of a slice from a DataFrame.\n",
      "Try using .loc[row_indexer,col_indexer] = value instead\n",
      "\n",
      "See the caveats in the documentation: https://pandas.pydata.org/pandas-docs/stable/user_guide/indexing.html#returning-a-view-versus-a-copy\n",
      "  \"\"\"\n",
      "C:\\Users\\omarc\\Anaconda3\\lib\\site-packages\\ipykernel_launcher.py:6: SettingWithCopyWarning: \n",
      "A value is trying to be set on a copy of a slice from a DataFrame.\n",
      "Try using .loc[row_indexer,col_indexer] = value instead\n",
      "\n",
      "See the caveats in the documentation: https://pandas.pydata.org/pandas-docs/stable/user_guide/indexing.html#returning-a-view-versus-a-copy\n",
      "  \n",
      "C:\\Users\\omarc\\Anaconda3\\lib\\site-packages\\ipykernel_launcher.py:8: SettingWithCopyWarning: \n",
      "A value is trying to be set on a copy of a slice from a DataFrame.\n",
      "Try using .loc[row_indexer,col_indexer] = value instead\n",
      "\n",
      "See the caveats in the documentation: https://pandas.pydata.org/pandas-docs/stable/user_guide/indexing.html#returning-a-view-versus-a-copy\n",
      "  \n",
      "C:\\Users\\omarc\\Anaconda3\\lib\\site-packages\\ipykernel_launcher.py:9: SettingWithCopyWarning: \n",
      "A value is trying to be set on a copy of a slice from a DataFrame.\n",
      "Try using .loc[row_indexer,col_indexer] = value instead\n",
      "\n",
      "See the caveats in the documentation: https://pandas.pydata.org/pandas-docs/stable/user_guide/indexing.html#returning-a-view-versus-a-copy\n",
      "  if __name__ == '__main__':\n"
     ]
    }
   ],
   "source": [
    "#assign our cartesian coordinates to pitches in the strike zone that were swing & miss\n",
    "darvish_strikezone_misses19['zone_x'] = darvish_strikezone_misses19.apply(assign_x_coord, axis=1)\n",
    "darvish_strikezone_misses19['zone_y'] = darvish_strikezone_misses19.apply(assign_y_coord, axis=1)\n",
    "\n",
    "darvish_ss_fc_analysis19['zone_x'] = darvish_ss_fc_analysis19.apply(assign_x_coord, axis=1)\n",
    "darvish_ss_fc_analysis19['zone_y'] = darvish_ss_fc_analysis19.apply(assign_y_coord, axis=1)\n",
    "\n",
    "darvish_ss_ff_analysis19['zone_x'] = darvish_ss_ff_analysis19.apply(assign_x_coord, axis=1)\n",
    "darvish_ss_ff_analysis19['zone_y'] = darvish_ss_ff_analysis19.apply(assign_y_coord, axis=1)"
   ]
  },
  {
   "cell_type": "code",
   "execution_count": 93,
   "metadata": {},
   "outputs": [
    {
     "name": "stderr",
     "output_type": "stream",
     "text": [
      "C:\\Users\\omarc\\Anaconda3\\lib\\site-packages\\ipykernel_launcher.py:2: SettingWithCopyWarning: \n",
      "A value is trying to be set on a copy of a slice from a DataFrame.\n",
      "Try using .loc[row_indexer,col_indexer] = value instead\n",
      "\n",
      "See the caveats in the documentation: https://pandas.pydata.org/pandas-docs/stable/user_guide/indexing.html#returning-a-view-versus-a-copy\n",
      "  \n",
      "C:\\Users\\omarc\\Anaconda3\\lib\\site-packages\\ipykernel_launcher.py:3: SettingWithCopyWarning: \n",
      "A value is trying to be set on a copy of a slice from a DataFrame.\n",
      "Try using .loc[row_indexer,col_indexer] = value instead\n",
      "\n",
      "See the caveats in the documentation: https://pandas.pydata.org/pandas-docs/stable/user_guide/indexing.html#returning-a-view-versus-a-copy\n",
      "  This is separate from the ipykernel package so we can avoid doing imports until\n",
      "C:\\Users\\omarc\\Anaconda3\\lib\\site-packages\\ipykernel_launcher.py:5: SettingWithCopyWarning: \n",
      "A value is trying to be set on a copy of a slice from a DataFrame.\n",
      "Try using .loc[row_indexer,col_indexer] = value instead\n",
      "\n",
      "See the caveats in the documentation: https://pandas.pydata.org/pandas-docs/stable/user_guide/indexing.html#returning-a-view-versus-a-copy\n",
      "  \"\"\"\n",
      "C:\\Users\\omarc\\Anaconda3\\lib\\site-packages\\ipykernel_launcher.py:6: SettingWithCopyWarning: \n",
      "A value is trying to be set on a copy of a slice from a DataFrame.\n",
      "Try using .loc[row_indexer,col_indexer] = value instead\n",
      "\n",
      "See the caveats in the documentation: https://pandas.pydata.org/pandas-docs/stable/user_guide/indexing.html#returning-a-view-versus-a-copy\n",
      "  \n",
      "C:\\Users\\omarc\\Anaconda3\\lib\\site-packages\\ipykernel_launcher.py:8: SettingWithCopyWarning: \n",
      "A value is trying to be set on a copy of a slice from a DataFrame.\n",
      "Try using .loc[row_indexer,col_indexer] = value instead\n",
      "\n",
      "See the caveats in the documentation: https://pandas.pydata.org/pandas-docs/stable/user_guide/indexing.html#returning-a-view-versus-a-copy\n",
      "  \n",
      "C:\\Users\\omarc\\Anaconda3\\lib\\site-packages\\ipykernel_launcher.py:9: SettingWithCopyWarning: \n",
      "A value is trying to be set on a copy of a slice from a DataFrame.\n",
      "Try using .loc[row_indexer,col_indexer] = value instead\n",
      "\n",
      "See the caveats in the documentation: https://pandas.pydata.org/pandas-docs/stable/user_guide/indexing.html#returning-a-view-versus-a-copy\n",
      "  if __name__ == '__main__':\n"
     ]
    }
   ],
   "source": [
    "#assign our cartesian coordinates to pitches in the strike zone that were swing & miss\n",
    "darvish_strikezone_misses20['zone_x'] = darvish_strikezone_misses20.apply(assign_x_coord, axis=1)\n",
    "darvish_strikezone_misses20['zone_y'] = darvish_strikezone_misses20.apply(assign_y_coord, axis=1)\n",
    "\n",
    "darvish_ss_fc_analysis20['zone_x'] = darvish_ss_fc_analysis20.apply(assign_x_coord, axis=1)\n",
    "darvish_ss_fc_analysis20['zone_y'] = darvish_ss_fc_analysis20.apply(assign_y_coord, axis=1)\n",
    "\n",
    "darvish_ss_ff_analysis20['zone_x'] = darvish_ss_ff_analysis20.apply(assign_x_coord, axis=1)\n",
    "darvish_ss_ff_analysis20['zone_y'] = darvish_ss_ff_analysis20.apply(assign_y_coord, axis=1)"
   ]
  },
  {
   "cell_type": "code",
   "execution_count": 92,
   "metadata": {},
   "outputs": [
    {
     "data": {
      "text/html": [
       "<div>\n",
       "<style scoped>\n",
       "    .dataframe tbody tr th:only-of-type {\n",
       "        vertical-align: middle;\n",
       "    }\n",
       "\n",
       "    .dataframe tbody tr th {\n",
       "        vertical-align: top;\n",
       "    }\n",
       "\n",
       "    .dataframe thead th {\n",
       "        text-align: right;\n",
       "    }\n",
       "</style>\n",
       "<table border=\"1\" class=\"dataframe\">\n",
       "  <thead>\n",
       "    <tr style=\"text-align: right;\">\n",
       "      <th></th>\n",
       "      <th>pitch_type</th>\n",
       "      <th>release_speed</th>\n",
       "      <th>release_spin_rate</th>\n",
       "      <th>release_extension</th>\n",
       "      <th>zone</th>\n",
       "      <th>launch_speed</th>\n",
       "      <th>launch_angle</th>\n",
       "      <th>launch_speed_angle</th>\n",
       "      <th>events</th>\n",
       "      <th>zone_x</th>\n",
       "      <th>zone_y</th>\n",
       "    </tr>\n",
       "  </thead>\n",
       "  <tbody>\n",
       "    <tr>\n",
       "      <th>2</th>\n",
       "      <td>FC</td>\n",
       "      <td>87.4</td>\n",
       "      <td>NaN</td>\n",
       "      <td>6.1</td>\n",
       "      <td>4</td>\n",
       "      <td>NaN</td>\n",
       "      <td>NaN</td>\n",
       "      <td>NaN</td>\n",
       "      <td>NaN</td>\n",
       "      <td>1</td>\n",
       "      <td>2</td>\n",
       "    </tr>\n",
       "    <tr>\n",
       "      <th>4</th>\n",
       "      <td>FC</td>\n",
       "      <td>86.8</td>\n",
       "      <td>2809.0</td>\n",
       "      <td>6.0</td>\n",
       "      <td>5</td>\n",
       "      <td>NaN</td>\n",
       "      <td>NaN</td>\n",
       "      <td>NaN</td>\n",
       "      <td>NaN</td>\n",
       "      <td>2</td>\n",
       "      <td>2</td>\n",
       "    </tr>\n",
       "    <tr>\n",
       "      <th>17</th>\n",
       "      <td>FF</td>\n",
       "      <td>95.7</td>\n",
       "      <td>2609.0</td>\n",
       "      <td>6.2</td>\n",
       "      <td>5</td>\n",
       "      <td>NaN</td>\n",
       "      <td>NaN</td>\n",
       "      <td>NaN</td>\n",
       "      <td>NaN</td>\n",
       "      <td>2</td>\n",
       "      <td>2</td>\n",
       "    </tr>\n",
       "    <tr>\n",
       "      <th>20</th>\n",
       "      <td>FC</td>\n",
       "      <td>90.3</td>\n",
       "      <td>2636.0</td>\n",
       "      <td>5.9</td>\n",
       "      <td>2</td>\n",
       "      <td>NaN</td>\n",
       "      <td>NaN</td>\n",
       "      <td>NaN</td>\n",
       "      <td>NaN</td>\n",
       "      <td>2</td>\n",
       "      <td>3</td>\n",
       "    </tr>\n",
       "    <tr>\n",
       "      <th>29</th>\n",
       "      <td>FF</td>\n",
       "      <td>96.1</td>\n",
       "      <td>2594.0</td>\n",
       "      <td>6.5</td>\n",
       "      <td>2</td>\n",
       "      <td>NaN</td>\n",
       "      <td>NaN</td>\n",
       "      <td>NaN</td>\n",
       "      <td>strikeout</td>\n",
       "      <td>2</td>\n",
       "      <td>3</td>\n",
       "    </tr>\n",
       "  </tbody>\n",
       "</table>\n",
       "</div>"
      ],
      "text/plain": [
       "   pitch_type  release_speed  release_spin_rate  release_extension  zone  \\\n",
       "2          FC           87.4                NaN                6.1     4   \n",
       "4          FC           86.8             2809.0                6.0     5   \n",
       "17         FF           95.7             2609.0                6.2     5   \n",
       "20         FC           90.3             2636.0                5.9     2   \n",
       "29         FF           96.1             2594.0                6.5     2   \n",
       "\n",
       "    launch_speed  launch_angle  launch_speed_angle     events  zone_x  zone_y  \n",
       "2            NaN           NaN                 NaN        NaN       1       2  \n",
       "4            NaN           NaN                 NaN        NaN       2       2  \n",
       "17           NaN           NaN                 NaN        NaN       2       2  \n",
       "20           NaN           NaN                 NaN        NaN       2       3  \n",
       "29           NaN           NaN                 NaN  strikeout       2       3  "
      ]
     },
     "execution_count": 92,
     "metadata": {},
     "output_type": "execute_result"
    }
   ],
   "source": [
    "darvish_strikezone_misses19.head()"
   ]
  },
  {
   "cell_type": "code",
   "execution_count": 95,
   "metadata": {},
   "outputs": [
    {
     "data": {
      "text/plain": [
       "(53, 11)"
      ]
     },
     "execution_count": 95,
     "metadata": {},
     "output_type": "execute_result"
    }
   ],
   "source": [
    "darvish_strikezone_misses20.shape"
   ]
  },
  {
   "cell_type": "code",
   "execution_count": 186,
   "metadata": {},
   "outputs": [
    {
     "data": {
      "image/png": "[encoded data removed]",
      "text/plain": [
       "<Figure size 432x288 with 2 Axes>"
      ]
     },
     "metadata": {
      "needs_background": "light"
     },
     "output_type": "display_data"
    }
   ],
   "source": [
    "#plot darvish swing and misses for cutters on a 2D histogram in 2019\n",
    "plt.hist2d(x = darvish_ss_fc_analysis19['zone_x'], y=darvish_ss_fc_analysis19['zone_y'], bins = 3, cmap='Blues')\n",
    "plt.title('2019 Yu Darvish Swinging Strikes\\n Cutters in the Strike Zone')\n",
    "plt.gca().get_xaxis().set_visible(False)\n",
    "plt.gca().get_yaxis().set_visible(False)\n",
    "cb = plt.colorbar()\n",
    "cb.set_label('Counts in Bin')\n",
    "plt.savefig('Images/YU_SwingStrikesFC_19.png')"
   ]
  },
  {
   "cell_type": "code",
   "execution_count": 187,
   "metadata": {},
   "outputs": [
    {
     "data": {
      "image/png": "[encoded data removed]",
      "text/plain": [
       "<Figure size 432x288 with 2 Axes>"
      ]
     },
     "metadata": {
      "needs_background": "light"
     },
     "output_type": "display_data"
    }
   ],
   "source": [
    "#plot darvish swing and misses for cutters on a 2D histogram in 2020\n",
    "plt.hist2d(x = darvish_ss_fc_analysis20['zone_x'], y=darvish_ss_fc_analysis20['zone_y'], bins = 3, cmap='Blues')\n",
    "plt.title('2020 Yu Darvish Swinging Strikes\\n Cutters in the Strike Zone')\n",
    "plt.gca().get_xaxis().set_visible(False)\n",
    "plt.gca().get_yaxis().set_visible(False)\n",
    "cb = plt.colorbar()\n",
    "cb.set_label('Counts in Bin')\n",
    "plt.savefig('Images/YU_SwingStrikesFC_20.png')"
   ]
  },
  {
   "cell_type": "code",
   "execution_count": 188,
   "metadata": {},
   "outputs": [
    {
     "data": {
      "image/png": "[encoded data removed]",
      "text/plain": [
       "<Figure size 432x288 with 2 Axes>"
      ]
     },
     "metadata": {
      "needs_background": "light"
     },
     "output_type": "display_data"
    }
   ],
   "source": [
    "#plot darvish swing and misses for all pitches on a 2D histogram in 2019\n",
    "plt.hist2d(x = darvish_strikezone_misses19['zone_x'], y=darvish_strikezone_misses19['zone_y'], bins = 3, cmap='Blues')\n",
    "plt.title('2019 Yu Darvish Swinging Strikes\\n Pitches in the Strike Zone')\n",
    "plt.gca().get_xaxis().set_visible(False)\n",
    "plt.gca().get_yaxis().set_visible(False)\n",
    "cb = plt.colorbar()\n",
    "cb.set_label('Counts in Bin')\n",
    "plt.savefig('Images/YU_SwingStrikes_19.png')"
   ]
  },
  {
   "cell_type": "code",
   "execution_count": 189,
   "metadata": {},
   "outputs": [
    {
     "data": {
      "image/png": "[encoded data removed]",
      "text/plain": [
       "<Figure size 432x288 with 2 Axes>"
      ]
     },
     "metadata": {
      "needs_background": "light"
     },
     "output_type": "display_data"
    }
   ],
   "source": [
    "#plot darvish swing and misses for all pitches on a 2D histogram in 2020 YTD 9/8/20\n",
    "plt.hist2d(x = darvish_strikezone_misses20['zone_x'], y=darvish_strikezone_misses20['zone_y'], bins = 3, cmap='Blues')\n",
    "plt.title('2020 Yu Darvish Swinging Strikes\\n Pitches in the Strike Zone')\n",
    "plt.gca().get_xaxis().set_visible(False)\n",
    "plt.gca().get_yaxis().set_visible(False)\n",
    "cb = plt.colorbar()\n",
    "cb.set_label('Counts in Bin')\n",
    "plt.savefig('Images/YU_SwingStrikes_20.png')"
   ]
  },
  {
   "cell_type": "code",
   "execution_count": 190,
   "metadata": {},
   "outputs": [
    {
     "data": {
      "image/png": "[encoded data removed]",
      "text/plain": [
       "<Figure size 432x288 with 2 Axes>"
      ]
     },
     "metadata": {
      "needs_background": "light"
     },
     "output_type": "display_data"
    }
   ],
   "source": [
    "#plot darvish swing and misses for cutters on a 2D histogram\n",
    "plt.hist2d(x = darvish_ss_ff_analysis['zone_x'], y=darvish_ss_ff_analysis['zone_y'], bins = 3, cmap='Blues')\n",
    "plt.title('Yu Darvish Swinging Strikes\\n Four-Seam in the Strike Zone')\n",
    "plt.gca().get_xaxis().set_visible(False)\n",
    "plt.gca().get_yaxis().set_visible(False)\n",
    "cb = plt.colorbar()\n",
    "cb.set_label('Counts in Bin')\n",
    "plt.savefig('Images/YU_SwingStrikesFF_19.png')"
   ]
  },
  {
   "cell_type": "code",
   "execution_count": 34,
   "metadata": {},
   "outputs": [],
   "source": [
    "#lets pull out data related to pitcher\n",
    "pitcher_columns = ['pitch_type','pitch_name', 'release_speed', 'release_pos_x',\n",
    "       'release_pos_z', 'player_name', 'events',\n",
    "       'description', 'zone', 'p_throws', 'type',\n",
    "       'hit_location', 'bb_type', 'pfx_x',\n",
    "       'pfx_z', 'plate_x', 'plate_z','vx0', 'vy0', 'vz0',\n",
    "       'hit_distance_sc', 'launch_speed', 'launch_angle', 'effective_speed',\n",
    "       'release_spin_rate', 'release_extension', 'pitcher.1', 'release_pos_y',\n",
    "       'estimated_ba_using_speedangle', 'estimated_woba_using_speedangle',\n",
    "       'woba_value', 'woba_denom', 'babip_value', 'iso_value']"
   ]
  },
  {
   "cell_type": "code",
   "execution_count": null,
   "metadata": {},
   "outputs": [],
   "source": [
    "darvish_ss_ff_analysis"
   ]
  },
  {
   "cell_type": "code",
   "execution_count": null,
   "metadata": {},
   "outputs": [],
   "source": [
    "statcast_pitch = pd.DataFrame(statcast_df[pitcher_columns])"
   ]
  },
  {
   "cell_type": "code",
   "execution_count": null,
   "metadata": {},
   "outputs": [],
   "source": [
    "statcast_pitch.head(10)"
   ]
  },
  {
   "cell_type": "code",
   "execution_count": null,
   "metadata": {},
   "outputs": [],
   "source": [
    "#group data pitcher and pitch type\n",
    "new_columns = ['release_speed', 'pfx_x','pfx_z',\"release_spin_rate\",'estimated_woba_using_speedangle','woba_value','player_name','pitch_name']\n",
    "statcast_bypitcher = statcast_pitch[new_columns].groupby([\"player_name\",\"pitch_name\"]).mean()"
   ]
  },
  {
   "cell_type": "code",
   "execution_count": null,
   "metadata": {},
   "outputs": [],
   "source": [
    "statcast_bypitcher.head(40)"
   ]
  },
  {
   "cell_type": "code",
   "execution_count": null,
   "metadata": {},
   "outputs": [],
   "source": []
  }
 ],
 "metadata": {
  "kernelspec": {
   "display_name": "Python 3",
   "language": "python",
   "name": "python3"
  },
  "language_info": {
   "codemirror_mode": {
    "name": "ipython",
    "version": 3
   },
   "file_extension": ".py",
   "mimetype": "text/x-python",
   "name": "python",
   "nbconvert_exporter": "python",
   "pygments_lexer": "ipython3",
   "version": "3.7.2"
  }
 },
 "nbformat": 4,
 "nbformat_minor": 2
}
