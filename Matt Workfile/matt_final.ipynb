{
 "cells": [
  {
   "cell_type": "code",
   "execution_count": 710,
   "metadata": {
    "scrolled": false
   },
   "outputs": [
    {
     "data": {
      "text/html": [
       "<div>\n",
       "<style scoped>\n",
       "    .dataframe tbody tr th:only-of-type {\n",
       "        vertical-align: middle;\n",
       "    }\n",
       "\n",
       "    .dataframe tbody tr th {\n",
       "        vertical-align: top;\n",
       "    }\n",
       "\n",
       "    .dataframe thead th {\n",
       "        text-align: right;\n",
       "    }\n",
       "</style>\n",
       "<table border=\"1\" class=\"dataframe\">\n",
       "  <thead>\n",
       "    <tr style=\"text-align: right;\">\n",
       "      <th></th>\n",
       "      <th>yearID</th>\n",
       "      <th>lgID</th>\n",
       "      <th>teamID</th>\n",
       "      <th>franchID</th>\n",
       "      <th>divID</th>\n",
       "      <th>Rank</th>\n",
       "      <th>G</th>\n",
       "      <th>Ghome</th>\n",
       "      <th>W</th>\n",
       "      <th>L</th>\n",
       "      <th>...</th>\n",
       "      <th>DP</th>\n",
       "      <th>FP</th>\n",
       "      <th>name</th>\n",
       "      <th>park</th>\n",
       "      <th>attendance</th>\n",
       "      <th>BPF</th>\n",
       "      <th>PPF</th>\n",
       "      <th>teamIDBR</th>\n",
       "      <th>teamIDlahman45</th>\n",
       "      <th>teamIDretro</th>\n",
       "    </tr>\n",
       "  </thead>\n",
       "  <tbody>\n",
       "    <tr>\n",
       "      <th>0</th>\n",
       "      <td>1871</td>\n",
       "      <td>NaN</td>\n",
       "      <td>BS1</td>\n",
       "      <td>BNA</td>\n",
       "      <td>NaN</td>\n",
       "      <td>3</td>\n",
       "      <td>31</td>\n",
       "      <td>NaN</td>\n",
       "      <td>20</td>\n",
       "      <td>10</td>\n",
       "      <td>...</td>\n",
       "      <td>24</td>\n",
       "      <td>0.834</td>\n",
       "      <td>Boston Red Stockings</td>\n",
       "      <td>South End Grounds I</td>\n",
       "      <td>NaN</td>\n",
       "      <td>103</td>\n",
       "      <td>98</td>\n",
       "      <td>BOS</td>\n",
       "      <td>BS1</td>\n",
       "      <td>BS1</td>\n",
       "    </tr>\n",
       "    <tr>\n",
       "      <th>1</th>\n",
       "      <td>1871</td>\n",
       "      <td>NaN</td>\n",
       "      <td>CH1</td>\n",
       "      <td>CNA</td>\n",
       "      <td>NaN</td>\n",
       "      <td>2</td>\n",
       "      <td>28</td>\n",
       "      <td>NaN</td>\n",
       "      <td>19</td>\n",
       "      <td>9</td>\n",
       "      <td>...</td>\n",
       "      <td>16</td>\n",
       "      <td>0.829</td>\n",
       "      <td>Chicago White Stockings</td>\n",
       "      <td>Union Base-Ball Grounds</td>\n",
       "      <td>NaN</td>\n",
       "      <td>104</td>\n",
       "      <td>102</td>\n",
       "      <td>CHI</td>\n",
       "      <td>CH1</td>\n",
       "      <td>CH1</td>\n",
       "    </tr>\n",
       "    <tr>\n",
       "      <th>2</th>\n",
       "      <td>1871</td>\n",
       "      <td>NaN</td>\n",
       "      <td>CL1</td>\n",
       "      <td>CFC</td>\n",
       "      <td>NaN</td>\n",
       "      <td>8</td>\n",
       "      <td>29</td>\n",
       "      <td>NaN</td>\n",
       "      <td>10</td>\n",
       "      <td>19</td>\n",
       "      <td>...</td>\n",
       "      <td>15</td>\n",
       "      <td>0.818</td>\n",
       "      <td>Cleveland Forest Citys</td>\n",
       "      <td>National Association Grounds</td>\n",
       "      <td>NaN</td>\n",
       "      <td>96</td>\n",
       "      <td>100</td>\n",
       "      <td>CLE</td>\n",
       "      <td>CL1</td>\n",
       "      <td>CL1</td>\n",
       "    </tr>\n",
       "    <tr>\n",
       "      <th>3</th>\n",
       "      <td>1871</td>\n",
       "      <td>NaN</td>\n",
       "      <td>FW1</td>\n",
       "      <td>KEK</td>\n",
       "      <td>NaN</td>\n",
       "      <td>7</td>\n",
       "      <td>19</td>\n",
       "      <td>NaN</td>\n",
       "      <td>7</td>\n",
       "      <td>12</td>\n",
       "      <td>...</td>\n",
       "      <td>8</td>\n",
       "      <td>0.803</td>\n",
       "      <td>Fort Wayne Kekiongas</td>\n",
       "      <td>Hamilton Field</td>\n",
       "      <td>NaN</td>\n",
       "      <td>101</td>\n",
       "      <td>107</td>\n",
       "      <td>KEK</td>\n",
       "      <td>FW1</td>\n",
       "      <td>FW1</td>\n",
       "    </tr>\n",
       "    <tr>\n",
       "      <th>4</th>\n",
       "      <td>1871</td>\n",
       "      <td>NaN</td>\n",
       "      <td>NY2</td>\n",
       "      <td>NNA</td>\n",
       "      <td>NaN</td>\n",
       "      <td>5</td>\n",
       "      <td>33</td>\n",
       "      <td>NaN</td>\n",
       "      <td>16</td>\n",
       "      <td>17</td>\n",
       "      <td>...</td>\n",
       "      <td>14</td>\n",
       "      <td>0.840</td>\n",
       "      <td>New York Mutuals</td>\n",
       "      <td>Union Grounds (Brooklyn)</td>\n",
       "      <td>NaN</td>\n",
       "      <td>90</td>\n",
       "      <td>88</td>\n",
       "      <td>NYU</td>\n",
       "      <td>NY2</td>\n",
       "      <td>NY2</td>\n",
       "    </tr>\n",
       "  </tbody>\n",
       "</table>\n",
       "<p>5 rows × 48 columns</p>\n",
       "</div>"
      ],
      "text/plain": [
       "   yearID lgID teamID franchID divID  Rank   G  Ghome   W   L     ...       \\\n",
       "0    1871  NaN    BS1      BNA   NaN     3  31    NaN  20  10     ...        \n",
       "1    1871  NaN    CH1      CNA   NaN     2  28    NaN  19   9     ...        \n",
       "2    1871  NaN    CL1      CFC   NaN     8  29    NaN  10  19     ...        \n",
       "3    1871  NaN    FW1      KEK   NaN     7  19    NaN   7  12     ...        \n",
       "4    1871  NaN    NY2      NNA   NaN     5  33    NaN  16  17     ...        \n",
       "\n",
       "   DP     FP                     name                          park  \\\n",
       "0  24  0.834     Boston Red Stockings           South End Grounds I   \n",
       "1  16  0.829  Chicago White Stockings       Union Base-Ball Grounds   \n",
       "2  15  0.818   Cleveland Forest Citys  National Association Grounds   \n",
       "3   8  0.803     Fort Wayne Kekiongas                Hamilton Field   \n",
       "4  14  0.840         New York Mutuals      Union Grounds (Brooklyn)   \n",
       "\n",
       "   attendance  BPF  PPF  teamIDBR  teamIDlahman45  teamIDretro  \n",
       "0         NaN  103   98       BOS             BS1          BS1  \n",
       "1         NaN  104  102       CHI             CH1          CH1  \n",
       "2         NaN   96  100       CLE             CL1          CL1  \n",
       "3         NaN  101  107       KEK             FW1          FW1  \n",
       "4         NaN   90   88       NYU             NY2          NY2  \n",
       "\n",
       "[5 rows x 48 columns]"
      ]
     },
     "execution_count": 710,
     "metadata": {},
     "output_type": "execute_result"
    }
   ],
   "source": [
    "#Import Libraries\n",
    "\n",
    "import pandas as pd\n",
    "import scipy as sp\n",
    "%matplotlib inline\n",
    "import matplotlib.pyplot as plt\n",
    "from matplotlib.ticker import FuncFormatter\n",
    "df = pd.read_csv(\"core/teams.csv\")\n",
    "df.head()"
   ]
  },
  {
   "cell_type": "code",
   "execution_count": 711,
   "metadata": {},
   "outputs": [],
   "source": [
    "# Dropping columns\n",
    "df = df.drop(columns=['CS'])\n",
    "\n",
    "#Fill columns I need to use with the median of the column\n",
    "df['SO'] = df['SO'].fillna(df['SO'].median())\n",
    "df['DP'] = df['DP'].fillna(df['DP'].median())\n"
   ]
  },
  {
   "cell_type": "code",
   "execution_count": 712,
   "metadata": {},
   "outputs": [],
   "source": [
    "#Filter for rows where 'yearID' is greater than 1970\n",
    "df = df[df['yearID'] > 1989]"
   ]
  },
  {
   "cell_type": "code",
   "execution_count": 713,
   "metadata": {},
   "outputs": [
    {
     "data": {
      "text/plain": [
       "yearID        0.109965\n",
       "Rank         -0.779273\n",
       "G             0.376730\n",
       "Ghome         0.372358\n",
       "W             1.000000\n",
       "L            -0.720550\n",
       "R             0.583108\n",
       "AB            0.397741\n",
       "H             0.484689\n",
       "2B            0.368403\n",
       "3B           -0.004774\n",
       "HR            0.406879\n",
       "BB            0.486509\n",
       "SO            0.074004\n",
       "SB            0.103861\n",
       "HBP           0.196462\n",
       "SF            0.349985\n",
       "RA           -0.402933\n",
       "ER           -0.381593\n",
       "ERA          -0.590914\n",
       "CG            0.066856\n",
       "SHO           0.488286\n",
       "SV            0.683249\n",
       "IPouts        0.438397\n",
       "HA           -0.145877\n",
       "HRA          -0.175087\n",
       "BBA          -0.221922\n",
       "SOA           0.412157\n",
       "E            -0.204783\n",
       "DP           -0.019469\n",
       "FP            0.351153\n",
       "attendance    0.497893\n",
       "BPF           0.062758\n",
       "PPF          -0.060443\n",
       "Name: W, dtype: float64"
      ]
     },
     "execution_count": 713,
     "metadata": {},
     "output_type": "execute_result"
    }
   ],
   "source": [
    "#Part 2- Correlation at a glance\n",
    "\n",
    "df.corr()['W']"
   ]
  },
  {
   "cell_type": "code",
   "execution_count": 714,
   "metadata": {},
   "outputs": [],
   "source": [
    "#Import Libraries \n",
    "\n",
    "import pandas as pd\n",
    "import numpy as np\n",
    "import sklearn\n",
    "from sklearn import linear_model\n",
    "from sklearn.utils import shuffle\n",
    "import sqlite3\n",
    "import scipy as sp\n",
    "import matplotlib.pyplot as plt\n",
    "from matplotlib.ticker import FuncFormatter\n",
    "from matplotlib import style\n",
    "import pickle "
   ]
  },
  {
   "cell_type": "code",
   "execution_count": 715,
   "metadata": {},
   "outputs": [],
   "source": [
    "df['H'] = df['H'].fillna(df['H'].median())\n",
    "df['AB'] = df['AB'].fillna(df['AB'].median())\n",
    "df['BB'] = df['BB'].fillna(df['BB'].median())\n",
    "df['HBP'] = df['HBP'].fillna(df['HBP'].median())\n",
    "df['2B'] = df['2B'].fillna(df['2B'].median())\n",
    "df['3B'] = df['3B'].fillna(df['3B'].median())\n",
    "df['HR'] = df['HR'].fillna(df['HR'].median())\n",
    "df['SF'] = df['SF'].fillna(df['SF'].median())\n",
    "\n"
   ]
  },
  {
   "cell_type": "code",
   "execution_count": 716,
   "metadata": {},
   "outputs": [],
   "source": [
    "#Batting Average\n",
    "BA = df['BA'] = df['H']/df['AB']\n",
    "\n",
    "#On Base Percentage\n",
    "OBP = df['OBP'] = (df['H'] + df['BB'] + df['HBP']) / (df['AB'] + df['BB'] + df['HBP'] + df['SF'])\n",
    "\n",
    "#Slugging Percentage\n",
    "SLG = df['SLG'] = (df['H'] + df['2B'] + (2*df['3B']) + (3*df['HR'])) / df['AB']\n",
    "\n",
    "#DIFF\n",
    "df[\"DIFF\"] = df['R'] - df['RA']\n",
    "\n",
    "#WHIP\n",
    "df[\"WHIP\"] = df[\"BB\"] + df[\"H\"] / (df[\"IPouts\"]/3)\n",
    "\n",
    "#LOB- (Hits, BB, HBP) - R - GIDP - CS\n",
    "#OPS\n",
    "df[\"OPS\"] = OBP + SLG"
   ]
  },
  {
   "cell_type": "code",
   "execution_count": 717,
   "metadata": {},
   "outputs": [
    {
     "data": {
      "text/html": [
       "<div>\n",
       "<style scoped>\n",
       "    .dataframe tbody tr th:only-of-type {\n",
       "        vertical-align: middle;\n",
       "    }\n",
       "\n",
       "    .dataframe tbody tr th {\n",
       "        vertical-align: top;\n",
       "    }\n",
       "\n",
       "    .dataframe thead th {\n",
       "        text-align: right;\n",
       "    }\n",
       "</style>\n",
       "<table border=\"1\" class=\"dataframe\">\n",
       "  <thead>\n",
       "    <tr style=\"text-align: right;\">\n",
       "      <th></th>\n",
       "      <th>yearID</th>\n",
       "      <th>lgID</th>\n",
       "      <th>teamID</th>\n",
       "      <th>franchID</th>\n",
       "      <th>divID</th>\n",
       "      <th>Rank</th>\n",
       "      <th>G</th>\n",
       "      <th>Ghome</th>\n",
       "      <th>W</th>\n",
       "      <th>L</th>\n",
       "      <th>...</th>\n",
       "      <th>PPF</th>\n",
       "      <th>teamIDBR</th>\n",
       "      <th>teamIDlahman45</th>\n",
       "      <th>teamIDretro</th>\n",
       "      <th>BA</th>\n",
       "      <th>OBP</th>\n",
       "      <th>SLG</th>\n",
       "      <th>DIFF</th>\n",
       "      <th>WHIP</th>\n",
       "      <th>OPS</th>\n",
       "    </tr>\n",
       "  </thead>\n",
       "  <tbody>\n",
       "    <tr>\n",
       "      <th>2047</th>\n",
       "      <td>1990</td>\n",
       "      <td>NL</td>\n",
       "      <td>ATL</td>\n",
       "      <td>ATL</td>\n",
       "      <td>W</td>\n",
       "      <td>6</td>\n",
       "      <td>162</td>\n",
       "      <td>81.0</td>\n",
       "      <td>65</td>\n",
       "      <td>97</td>\n",
       "      <td>...</td>\n",
       "      <td>106</td>\n",
       "      <td>ATL</td>\n",
       "      <td>ATL</td>\n",
       "      <td>ATL</td>\n",
       "      <td>0.250000</td>\n",
       "      <td>0.310853</td>\n",
       "      <td>0.395531</td>\n",
       "      <td>-139</td>\n",
       "      <td>473.962462</td>\n",
       "      <td>0.706384</td>\n",
       "    </tr>\n",
       "    <tr>\n",
       "      <th>2048</th>\n",
       "      <td>1990</td>\n",
       "      <td>AL</td>\n",
       "      <td>BAL</td>\n",
       "      <td>BAL</td>\n",
       "      <td>E</td>\n",
       "      <td>5</td>\n",
       "      <td>161</td>\n",
       "      <td>80.0</td>\n",
       "      <td>76</td>\n",
       "      <td>85</td>\n",
       "      <td>...</td>\n",
       "      <td>98</td>\n",
       "      <td>BAL</td>\n",
       "      <td>BAL</td>\n",
       "      <td>BAL</td>\n",
       "      <td>0.245471</td>\n",
       "      <td>0.329702</td>\n",
       "      <td>0.370055</td>\n",
       "      <td>-29</td>\n",
       "      <td>660.925221</td>\n",
       "      <td>0.699758</td>\n",
       "    </tr>\n",
       "    <tr>\n",
       "      <th>2049</th>\n",
       "      <td>1990</td>\n",
       "      <td>AL</td>\n",
       "      <td>BOS</td>\n",
       "      <td>BOS</td>\n",
       "      <td>E</td>\n",
       "      <td>1</td>\n",
       "      <td>162</td>\n",
       "      <td>81.0</td>\n",
       "      <td>88</td>\n",
       "      <td>74</td>\n",
       "      <td>...</td>\n",
       "      <td>105</td>\n",
       "      <td>BOS</td>\n",
       "      <td>BOS</td>\n",
       "      <td>BOS</td>\n",
       "      <td>0.272299</td>\n",
       "      <td>0.344003</td>\n",
       "      <td>0.395214</td>\n",
       "      <td>35</td>\n",
       "      <td>599.041609</td>\n",
       "      <td>0.739217</td>\n",
       "    </tr>\n",
       "    <tr>\n",
       "      <th>2050</th>\n",
       "      <td>1990</td>\n",
       "      <td>AL</td>\n",
       "      <td>CAL</td>\n",
       "      <td>ANA</td>\n",
       "      <td>W</td>\n",
       "      <td>4</td>\n",
       "      <td>162</td>\n",
       "      <td>81.0</td>\n",
       "      <td>80</td>\n",
       "      <td>82</td>\n",
       "      <td>...</td>\n",
       "      <td>97</td>\n",
       "      <td>CAL</td>\n",
       "      <td>CAL</td>\n",
       "      <td>CAL</td>\n",
       "      <td>0.259964</td>\n",
       "      <td>0.328877</td>\n",
       "      <td>0.391382</td>\n",
       "      <td>-16</td>\n",
       "      <td>566.995873</td>\n",
       "      <td>0.720260</td>\n",
       "    </tr>\n",
       "    <tr>\n",
       "      <th>2051</th>\n",
       "      <td>1990</td>\n",
       "      <td>AL</td>\n",
       "      <td>CHA</td>\n",
       "      <td>CHW</td>\n",
       "      <td>W</td>\n",
       "      <td>2</td>\n",
       "      <td>162</td>\n",
       "      <td>80.0</td>\n",
       "      <td>94</td>\n",
       "      <td>68</td>\n",
       "      <td>...</td>\n",
       "      <td>98</td>\n",
       "      <td>CHW</td>\n",
       "      <td>CHA</td>\n",
       "      <td>CHA</td>\n",
       "      <td>0.257867</td>\n",
       "      <td>0.319805</td>\n",
       "      <td>0.379489</td>\n",
       "      <td>49</td>\n",
       "      <td>478.961132</td>\n",
       "      <td>0.699295</td>\n",
       "    </tr>\n",
       "  </tbody>\n",
       "</table>\n",
       "<p>5 rows × 53 columns</p>\n",
       "</div>"
      ],
      "text/plain": [
       "      yearID lgID teamID franchID divID  Rank    G  Ghome   W   L    ...     \\\n",
       "2047    1990   NL    ATL      ATL     W     6  162   81.0  65  97    ...      \n",
       "2048    1990   AL    BAL      BAL     E     5  161   80.0  76  85    ...      \n",
       "2049    1990   AL    BOS      BOS     E     1  162   81.0  88  74    ...      \n",
       "2050    1990   AL    CAL      ANA     W     4  162   81.0  80  82    ...      \n",
       "2051    1990   AL    CHA      CHW     W     2  162   80.0  94  68    ...      \n",
       "\n",
       "      PPF teamIDBR teamIDlahman45 teamIDretro        BA       OBP       SLG  \\\n",
       "2047  106      ATL            ATL         ATL  0.250000  0.310853  0.395531   \n",
       "2048   98      BAL            BAL         BAL  0.245471  0.329702  0.370055   \n",
       "2049  105      BOS            BOS         BOS  0.272299  0.344003  0.395214   \n",
       "2050   97      CAL            CAL         CAL  0.259964  0.328877  0.391382   \n",
       "2051   98      CHW            CHA         CHA  0.257867  0.319805  0.379489   \n",
       "\n",
       "      DIFF        WHIP       OPS  \n",
       "2047  -139  473.962462  0.706384  \n",
       "2048   -29  660.925221  0.699758  \n",
       "2049    35  599.041609  0.739217  \n",
       "2050   -16  566.995873  0.720260  \n",
       "2051    49  478.961132  0.699295  \n",
       "\n",
       "[5 rows x 53 columns]"
      ]
     },
     "execution_count": 717,
     "metadata": {},
     "output_type": "execute_result"
    }
   ],
   "source": [
    "df.head()"
   ]
  },
  {
   "cell_type": "code",
   "execution_count": 718,
   "metadata": {},
   "outputs": [],
   "source": [
    "df.to_csv(\"matt_scatter_final.csv\")"
   ]
  },
  {
   "cell_type": "code",
   "execution_count": 719,
   "metadata": {},
   "outputs": [
    {
     "data": {
      "image/png": "[encoded data removed]",
      "text/plain": [
       "<Figure size 432x288 with 2 Axes>"
      ]
     },
     "metadata": {},
     "output_type": "display_data"
    },
    {
     "data": {
      "text/plain": [
       "<Figure size 7200x7200 with 0 Axes>"
      ]
     },
     "metadata": {},
     "output_type": "display_data"
    }
   ],
   "source": [
    "import seaborn as sns\n",
    "sns.set(style=\"white\")\n",
    "sns.set(style=\"whitegrid\", color_codes=True)\n",
    "\n",
    "df_linear = df\n",
    "\n",
    "sns.heatmap(df_linear.corr())\n",
    "plt.figure(figsize = (100,100))\n",
    "plt.show()"
   ]
  },
  {
   "cell_type": "code",
   "execution_count": 720,
   "metadata": {
    "scrolled": true
   },
   "outputs": [
    {
     "data": {
      "image/png": "[encoded data removed]",
      "text/plain": [
       "<Figure size 432x288 with 2 Axes>"
      ]
     },
     "metadata": {},
     "output_type": "display_data"
    }
   ],
   "source": [
    "import seaborn as sns\n",
    "sns.set(style=\"white\")\n",
    "sns.set(style=\"whitegrid\", color_codes=True)\n",
    "\n",
    "df_linear = df\n",
    "\n",
    "df_graph = df_linear[[ \"DivWin\", \"BA\", \"OPS\",\"WHIP\"]]\n",
    "\n",
    "sns.heatmap(df_graph.corr(), annot=True, cmap=\"Greens\")\n",
    "plt.title(\"Statistics Correlated to Wins\", fontsize = 18)\n",
    "plt.savefig(\"WinCorr.png\")\n",
    "plt.show()"
   ]
  },
  {
   "cell_type": "code",
   "execution_count": 721,
   "metadata": {},
   "outputs": [
    {
     "data": {
      "image/png": "[encoded data removed]",
      "text/plain": [
       "<Figure size 432x288 with 2 Axes>"
      ]
     },
     "metadata": {},
     "output_type": "display_data"
    }
   ],
   "source": [
    "df_linear = df\n",
    "\n",
    "df_graph = df_linear[[ \"W\", \"BA\", \"OPS\" , \"WHIP\"]]\n",
    "\n",
    "sns.heatmap(df_graph.corr(), annot=True, cmap=\"Greens\")\n",
    "plt.title(\"Statistics Correlated to Division Titles\", fontsize = 18)\n",
    "plt.savefig(\"DivCorr.png\")\n",
    "plt.show()"
   ]
  },
  {
   "cell_type": "code",
   "execution_count": 722,
   "metadata": {},
   "outputs": [
    {
     "data": {
      "text/plain": [
       "<matplotlib.legend.Legend at 0x1bd05db0eb8>"
      ]
     },
     "execution_count": 722,
     "metadata": {},
     "output_type": "execute_result"
    },
    {
     "data": {
      "image/png": "[encoded data removed]",
      "text/plain": [
       "<Figure size 720x360 with 1 Axes>"
      ]
     },
     "metadata": {},
     "output_type": "display_data"
    }
   ],
   "source": [
    "x = df_linear[\"W\"]\n",
    "BA = df_linear[\"BA\"]\n",
    "OBP = df_linear[\"OBP\"]\n",
    "SLG = df_linear[\"SLG\"]\n",
    "\n",
    "plt.figure(figsize = (10,5))\n",
    "\n",
    "plt.scatter(x, SLG, label = \"Slugging Percentage\",  s= 12 , color = \"red\")\n",
    "plt.scatter(x, OBP, label = \"On Base Plus Slugging Perentage\",  s= 12 , color = \"blue\")\n",
    "plt.scatter(x,BA, label = \"Batting Average\", s = 12,  color = \"green\")\n",
    "\n",
    "\n",
    "\n",
    "plt.xlabel(\"Wins\", fontsize= 15) \n",
    "plt.xticks(size = 12) ; plt.yticks(size = 12)\n",
    "plt.title(\"Old vs. New\", fontsize = 18)\n",
    "\n",
    "plt.savefig(\"Old_vs_New.png\")\n",
    "plt.legend()"
   ]
  },
  {
   "cell_type": "code",
   "execution_count": 723,
   "metadata": {},
   "outputs": [
    {
     "data": {
      "text/plain": [
       "<matplotlib.legend.Legend at 0x1bd09a58f28>"
      ]
     },
     "execution_count": 723,
     "metadata": {},
     "output_type": "execute_result"
    },
    {
     "data": {
      "image/png": "[encoded data removed]",
      "text/plain": [
       "<Figure size 720x576 with 1 Axes>"
      ]
     },
     "metadata": {},
     "output_type": "display_data"
    }
   ],
   "source": [
    "x = df_linear[\"W\"]\n",
    "ERA = df_linear[\"ERA\"]\n",
    "plt.figure(figsize = (10,8))\n",
    "\n",
    "plt.scatter(x,ERA, label = \"Earned Run Average\", s = 12,  color = \"green\")\n",
    "\n",
    "\n",
    "\n",
    "plt.xlabel(\"Wins\", fontsize= 15) \n",
    "plt.xticks(size = 12) ; plt.yticks(size = 12)\n",
    "plt.title(\"Pitching: Correlation of ERA to Wins\", fontsize = 18)\n",
    "\n",
    "\n",
    "plt.legend()"
   ]
  },
  {
   "cell_type": "code",
   "execution_count": 724,
   "metadata": {},
   "outputs": [
    {
     "data": {
      "text/plain": [
       "<matplotlib.legend.Legend at 0x1bd096aa978>"
      ]
     },
     "execution_count": 724,
     "metadata": {},
     "output_type": "execute_result"
    },
    {
     "data": {
      "image/png": "[encoded data removed]",
      "text/plain": [
       "<Figure size 720x576 with 1 Axes>"
      ]
     },
     "metadata": {},
     "output_type": "display_data"
    }
   ],
   "source": [
    "x = df_linear[\"W\"]\n",
    "WHIP = df_linear[\"WHIP\"]\n",
    "plt.figure(figsize = (10,8))\n",
    "\n",
    "plt.scatter(x,ERA, label = \"Walks Plus Hits Per Inning Pitched\", s = 12,  color = \"green\")\n",
    "\n",
    "\n",
    "plt.xlabel(\"Wins\", fontsize= 15) \n",
    "plt.xticks(size = 12) ; plt.yticks(size = 12)\n",
    "plt.title(\"Pitching: Correlation of WHIP to Wins\", fontsize = 18)\n",
    "\n",
    "\n",
    "plt.legend()"
   ]
  },
  {
   "cell_type": "code",
   "execution_count": 725,
   "metadata": {},
   "outputs": [],
   "source": [
    "#Part 2- Linear Regression"
   ]
  },
  {
   "cell_type": "code",
   "execution_count": 726,
   "metadata": {},
   "outputs": [
    {
     "name": "stdout",
     "output_type": "stream",
     "text": [
      "0.5710619586646928\n",
      "0.5731138268584273\n",
      "0.5888027945483991\n",
      "0.42129830664766377\n",
      "0.5037997600811295\n",
      "0.6239120485885871\n",
      "0.4561051217127335\n",
      "0.5691182460122908\n",
      "0.5427589589194693\n",
      "0.5470305930878208\n",
      "0.5136236846175724\n",
      "0.5414815137067737\n",
      "0.6271938948151823\n",
      "0.5914882703402314\n",
      "0.5622269870949212\n",
      "0.5761022661813099\n",
      "0.5393608305189345\n",
      "0.5182229112851786\n",
      "0.5776063973719426\n",
      "0.531557012108633\n",
      "0.6117735953487589\n",
      "0.5906051270367826\n",
      "0.6250792742355564\n",
      "0.6438531294041892\n",
      "0.5150115955566679\n",
      "0.6025557741523431\n",
      "0.6035813962092247\n",
      "0.5404427154268475\n",
      "0.48855485645655483\n",
      "0.5376724833778241\n"
     ]
    }
   ],
   "source": [
    "# BA vs. W\n",
    "\n",
    "X = np.array(df[[\"BA\", \"ERA\"]])\n",
    "y = np.array(df[\"W\"])\n",
    "\n",
    "best = 0 \n",
    "for b in range(30):\n",
    "\n",
    "    x_train, x_test, y_train, y_test = sklearn.model_selection.train_test_split(X,y,test_size = 0.25)\n",
    "\n",
    "    linear = linear_model.LinearRegression()\n",
    "\n",
    "    linear.fit(x_train,y_train)\n",
    "    acc_BA = linear.score(x_test, y_test)\n",
    "    print(acc_BA)\n",
    "\n",
    "    if acc_BA > best:\n",
    "        best = acc_BA\n",
    "        with open(\"BA_vs_Win.pickle\", \"wb\") as f: \n",
    "            pickle.dump(linear, f)\n",
    "    \n",
    "pickle_in = open(\"BA_vs_Win.pickle\", \"rb\")\n",
    "linear = pickle.load(pickle_in)"
   ]
  },
  {
   "cell_type": "code",
   "execution_count": 727,
   "metadata": {},
   "outputs": [
    {
     "data": {
      "text/plain": [
       "0.5376724833778241"
      ]
     },
     "execution_count": 727,
     "metadata": {},
     "output_type": "execute_result"
    }
   ],
   "source": [
    "acc_BA.mean()"
   ]
  },
  {
   "cell_type": "code",
   "execution_count": 728,
   "metadata": {},
   "outputs": [
    {
     "name": "stdout",
     "output_type": "stream",
     "text": [
      "0.7255085655899283\n",
      "0.7255085655899283\n",
      "0.7255085655899283\n",
      "0.7255085655899283\n",
      "0.7255085655899283\n",
      "0.7255085655899283\n",
      "0.7255085655899283\n",
      "0.7255085655899283\n",
      "0.7255085655899283\n",
      "0.7255085655899283\n",
      "0.7255085655899283\n",
      "0.7255085655899283\n",
      "0.7255085655899283\n",
      "0.7255085655899283\n",
      "0.7255085655899283\n",
      "0.7255085655899283\n",
      "0.7255085655899283\n",
      "0.7255085655899283\n",
      "0.7255085655899283\n",
      "0.7255085655899283\n",
      "0.7255085655899283\n",
      "0.7255085655899283\n",
      "0.7255085655899283\n",
      "0.7255085655899283\n",
      "0.7255085655899283\n",
      "0.7255085655899283\n",
      "0.7255085655899283\n",
      "0.7255085655899283\n",
      "0.7255085655899283\n",
      "0.7255085655899283\n"
     ]
    }
   ],
   "source": [
    "# OBP, WHIP vs. W\n",
    "\n",
    "X = np.array(df[[\"OPS\", \"ERA\"]])\n",
    "y = np.array(df[\"W\"])\n",
    "\n",
    "best = 0 \n",
    "for b in range(30):\n",
    "\n",
    "    x_train, x_test, y_train, y_test = sklearn.model_selection.train_test_split(X,y,test_size = .25, random_state= 30)\n",
    "\n",
    "    linear = linear_model.LinearRegression()\n",
    "\n",
    "    linear.fit(x_train,y_train)\n",
    "    acc_OPS = linear.score(x_test, y_test)\n",
    "    print(acc_OPS)\n",
    "\n",
    "    if acc_OPS > best:\n",
    "        best = acc_OPS\n",
    "        with open(\"OPS.pickle\", \"wb\") as f: \n",
    "            pickle.dump(linear, f)\n",
    "    \n",
    "pickle_in = open(\"OPS.pickle\", \"rb\")\n",
    "linear = pickle.load(pickle_in)"
   ]
  },
  {
   "cell_type": "code",
   "execution_count": 729,
   "metadata": {},
   "outputs": [
    {
     "data": {
      "text/plain": [
       "0.7255085655899283"
      ]
     },
     "execution_count": 729,
     "metadata": {},
     "output_type": "execute_result"
    }
   ],
   "source": [
    "acc_OPS.mean()"
   ]
  },
  {
   "cell_type": "code",
   "execution_count": 730,
   "metadata": {},
   "outputs": [
    {
     "name": "stdout",
     "output_type": "stream",
     "text": [
      "0.2837598763676408\n",
      "0.2837598763676408\n",
      "0.2837598763676408\n",
      "0.2837598763676408\n",
      "0.2837598763676408\n",
      "0.2837598763676408\n",
      "0.2837598763676408\n",
      "0.2837598763676408\n",
      "0.2837598763676408\n",
      "0.2837598763676408\n",
      "0.2837598763676408\n",
      "0.2837598763676408\n",
      "0.2837598763676408\n",
      "0.2837598763676408\n",
      "0.2837598763676408\n",
      "0.2837598763676408\n",
      "0.2837598763676408\n",
      "0.2837598763676408\n",
      "0.2837598763676408\n",
      "0.2837598763676408\n",
      "0.2837598763676408\n",
      "0.2837598763676408\n",
      "0.2837598763676408\n",
      "0.2837598763676408\n",
      "0.2837598763676408\n",
      "0.2837598763676408\n",
      "0.2837598763676408\n",
      "0.2837598763676408\n",
      "0.2837598763676408\n",
      "0.2837598763676408\n"
     ]
    }
   ],
   "source": [
    "# OBP, ERA, WHIP vs. W\n",
    "\n",
    "X = np.array(df[[\"WHIP\", \"OPS\"]])\n",
    "y = np.array(df[\"W\"])\n",
    "\n",
    "best = 0 \n",
    "for b in range(30):\n",
    "\n",
    "    x_train, x_test, y_train, y_test = sklearn.model_selection.train_test_split(X,y,test_size = .25, random_state= 30)\n",
    "\n",
    "    linear = linear_model.LinearRegression()\n",
    "\n",
    "    linear.fit(x_train,y_train)\n",
    "    acc_OPS = linear.score(x_test, y_test)\n",
    "    print(acc_OPS)\n",
    "\n",
    "    if acc_OPS > best:\n",
    "        best = acc_OPS\n",
    "        with open(\"OPS.pickle\", \"wb\") as f: \n",
    "            pickle.dump(linear, f)\n",
    "    \n",
    "pickle_in = open(\"OPS.pickle\", \"rb\")\n",
    "linear = pickle.load(pickle_in)"
   ]
  },
  {
   "cell_type": "code",
   "execution_count": 731,
   "metadata": {},
   "outputs": [
    {
     "data": {
      "text/plain": [
       "0.2837598763676408"
      ]
     },
     "execution_count": 731,
     "metadata": {},
     "output_type": "execute_result"
    }
   ],
   "source": [
    "acc_OPS.mean()"
   ]
  },
  {
   "cell_type": "code",
   "execution_count": 732,
   "metadata": {},
   "outputs": [
    {
     "name": "stdout",
     "output_type": "stream",
     "text": [
      "0.7745589088585599\n",
      "0.7745589088585599\n",
      "0.7745589088585599\n",
      "0.7745589088585599\n",
      "0.7745589088585599\n",
      "0.7745589088585599\n",
      "0.7745589088585599\n",
      "0.7745589088585599\n",
      "0.7745589088585599\n",
      "0.7745589088585599\n",
      "0.7745589088585599\n",
      "0.7745589088585599\n",
      "0.7745589088585599\n",
      "0.7745589088585599\n",
      "0.7745589088585599\n",
      "0.7745589088585599\n",
      "0.7745589088585599\n",
      "0.7745589088585599\n",
      "0.7745589088585599\n",
      "0.7745589088585599\n",
      "0.7745589088585599\n",
      "0.7745589088585599\n",
      "0.7745589088585599\n",
      "0.7745589088585599\n",
      "0.7745589088585599\n",
      "0.7745589088585599\n",
      "0.7745589088585599\n",
      "0.7745589088585599\n",
      "0.7745589088585599\n",
      "0.7745589088585599\n"
     ]
    }
   ],
   "source": [
    "# OBP, ERA, WHIP vs. W\n",
    "\n",
    "X = np.array(df[[\"WHIP\", \"ERA\" ,\"OPS\"]])\n",
    "y = np.array(df[\"W\"])\n",
    "\n",
    "best = 0 \n",
    "for b in range(30):\n",
    "\n",
    "    x_train, x_test, y_train, y_test = sklearn.model_selection.train_test_split(X,y,test_size = .25, random_state= 30)\n",
    "\n",
    "    linear = linear_model.LinearRegression()\n",
    "\n",
    "    linear.fit(x_train,y_train)\n",
    "    acc_OPS = linear.score(x_test, y_test)\n",
    "    print(acc_OPS)\n",
    "\n",
    "    if acc_OPS > best:\n",
    "        best = acc_OPS\n",
    "        with open(\"OPS.pickle\", \"wb\") as f: \n",
    "            pickle.dump(linear, f)\n",
    "    \n",
    "pickle_in = open(\"OPS.pickle\", \"rb\")\n",
    "linear = pickle.load(pickle_in)"
   ]
  },
  {
   "cell_type": "code",
   "execution_count": 733,
   "metadata": {},
   "outputs": [
    {
     "data": {
      "text/plain": [
       "0.7745589088585599"
      ]
     },
     "execution_count": 733,
     "metadata": {},
     "output_type": "execute_result"
    }
   ],
   "source": [
    "acc_OPS.mean()"
   ]
  },
  {
   "cell_type": "code",
   "execution_count": 734,
   "metadata": {},
   "outputs": [],
   "source": [
    "#Part 3 -Logistical Regression Model: Division Wins"
   ]
  },
  {
   "cell_type": "code",
   "execution_count": 735,
   "metadata": {},
   "outputs": [],
   "source": [
    "# converting dtypes using astype \n",
    "df[\"DivWin\"]= df[\"DivWin\"].astype(str)"
   ]
  },
  {
   "cell_type": "code",
   "execution_count": 736,
   "metadata": {},
   "outputs": [],
   "source": [
    "#create a new column \"HR\", where if events =home_run, you have a 1, otherwise you have a 0\n",
    "df['DivWin'] =np.where(df['DivWin']=='Y',1,0)"
   ]
  },
  {
   "cell_type": "code",
   "execution_count": 737,
   "metadata": {},
   "outputs": [
    {
     "data": {
      "text/plain": [
       "dtype('int32')"
      ]
     },
     "execution_count": 737,
     "metadata": {},
     "output_type": "execute_result"
    }
   ],
   "source": [
    "df[\"DivWin\"].dtype"
   ]
  },
  {
   "cell_type": "code",
   "execution_count": 738,
   "metadata": {},
   "outputs": [],
   "source": [
    "#Import Logistical Regression\n",
    "\n",
    "from sklearn import preprocessing\n",
    "plt.rc(\"font\", size=14)\n",
    "from sklearn.linear_model import LogisticRegression\n",
    "from sklearn.model_selection import train_test_split\n",
    "from sklearn.preprocessing import StandardScaler\n",
    "from sklearn.metrics import mean_squared_error"
   ]
  },
  {
   "cell_type": "code",
   "execution_count": 739,
   "metadata": {},
   "outputs": [],
   "source": [
    "import seaborn as sns\n",
    "sns.set(style=\"white\")\n",
    "sns.set(style=\"whitegrid\", color_codes=True)"
   ]
  },
  {
   "cell_type": "code",
   "execution_count": 740,
   "metadata": {},
   "outputs": [
    {
     "name": "stdout",
     "output_type": "stream",
     "text": [
      "MSE: 0.7971698113207547, R2: 0.2028301886792453\n"
     ]
    },
    {
     "name": "stderr",
     "output_type": "stream",
     "text": [
      "C:\\Users\\mwhaw\\Anaconda3\\lib\\site-packages\\sklearn\\linear_model\\logistic.py:433: FutureWarning: Default solver will be changed to 'lbfgs' in 0.22. Specify a solver to silence this warning.\n",
      "  FutureWarning)\n"
     ]
    }
   ],
   "source": [
    "# Does a high OBP, SLG, and ERA correlate to a Division Title\n",
    "\n",
    "X = df[[\"ERA\", \"BA\"]]\n",
    "y = df[\"DivWin\"]\n",
    "X_train, X_test, y_train, y_test = train_test_split(X,y, random_state= 25 )\n",
    "\n",
    "#Normalize\n",
    "X_scaler = StandardScaler().fit(X_train)\n",
    "\n",
    "X_train_scaled = X_scaler.transform(X_train)\n",
    "X_test_scaled = X_scaler.transform(X_test)\n",
    "\n",
    "\n",
    "from sklearn.linear_model import LogisticRegression\n",
    "\n",
    "model = LogisticRegression()\n",
    "\n",
    "model.fit(X_train, y_train)\n",
    "\n",
    "model.predict(X_test)\n",
    "\n",
    "model.score(X_test, y_test)\n",
    "\n",
    "model.predict_proba(X_test)\n",
    "\n",
    "predicts = model.predict(X_test_scaled)\n",
    "MSE = mean_squared_error(y_test, predicts)\n",
    "r2 = model.score(X_test_scaled, y_test)\n",
    "\n",
    "print(f'MSE: {MSE}, R2: {r2}')"
   ]
  },
  {
   "cell_type": "code",
   "execution_count": 741,
   "metadata": {},
   "outputs": [
    {
     "name": "stdout",
     "output_type": "stream",
     "text": [
      "MSE: 0.419811320754717, R2: 0.5801886792452831\n"
     ]
    },
    {
     "name": "stderr",
     "output_type": "stream",
     "text": [
      "C:\\Users\\mwhaw\\Anaconda3\\lib\\site-packages\\sklearn\\linear_model\\logistic.py:433: FutureWarning: Default solver will be changed to 'lbfgs' in 0.22. Specify a solver to silence this warning.\n",
      "  FutureWarning)\n"
     ]
    }
   ],
   "source": [
    "#How does OPS and WHIP Correlate to Division Title\n",
    "\n",
    "X = df[[ \"OPS\", \"ERA\"]]\n",
    "y = df[\"DivWin\"]\n",
    "X_train, X_test, y_train, y_test = train_test_split(X,y, random_state= 25 )\n",
    "\n",
    "#Normalize\n",
    "X_scaler = StandardScaler().fit(X_train)\n",
    "\n",
    "X_train_scaled = X_scaler.transform(X_train)\n",
    "X_test_scaled = X_scaler.transform(X_test)\n",
    "\n",
    "\n",
    "from sklearn.linear_model import LogisticRegression\n",
    "\n",
    "model = LogisticRegression()\n",
    "\n",
    "model.fit(X_train, y_train)\n",
    "\n",
    "model.predict(X_test)\n",
    "\n",
    "model.score(X_test, y_test)\n",
    "\n",
    "model.predict_proba(X_test)\n",
    "\n",
    "predicts = model.predict(X_test_scaled)\n",
    "MSE = mean_squared_error(y_test, predicts)\n",
    "r2 = model.score(X_test_scaled, y_test)\n",
    "\n",
    "print(f'MSE: {MSE}, R2: {r2}')"
   ]
  },
  {
   "cell_type": "code",
   "execution_count": 742,
   "metadata": {},
   "outputs": [
    {
     "name": "stdout",
     "output_type": "stream",
     "text": [
      "MSE: 0.18867924528301888, R2: 0.8113207547169812\n"
     ]
    },
    {
     "name": "stderr",
     "output_type": "stream",
     "text": [
      "C:\\Users\\mwhaw\\Anaconda3\\lib\\site-packages\\sklearn\\linear_model\\logistic.py:433: FutureWarning: Default solver will be changed to 'lbfgs' in 0.22. Specify a solver to silence this warning.\n",
      "  FutureWarning)\n"
     ]
    }
   ],
   "source": [
    "#How does OPS and WHIP Correlate to Division Title\n",
    "\n",
    "X = df[[ \"OPS\", \"WHIP\"]]\n",
    "y = df[\"DivWin\"]\n",
    "X_train, X_test, y_train, y_test = train_test_split(X,y, random_state= 25 )\n",
    "\n",
    "#Normalize\n",
    "X_scaler = StandardScaler().fit(X_train)\n",
    "\n",
    "X_train_scaled = X_scaler.transform(X_train)\n",
    "X_test_scaled = X_scaler.transform(X_test)\n",
    "\n",
    "\n",
    "from sklearn.linear_model import LogisticRegression\n",
    "\n",
    "model = LogisticRegression()\n",
    "\n",
    "model.fit(X_train, y_train)\n",
    "\n",
    "model.predict(X_test)\n",
    "\n",
    "model.score(X_test, y_test)\n",
    "\n",
    "model.predict_proba(X_test)\n",
    "\n",
    "predicts = model.predict(X_test_scaled)\n",
    "MSE = mean_squared_error(y_test, predicts)\n",
    "r2 = model.score(X_test_scaled, y_test)\n",
    "\n",
    "print(f'MSE: {MSE}, R2: {r2}')"
   ]
  },
  {
   "cell_type": "code",
   "execution_count": null,
   "metadata": {},
   "outputs": [],
   "source": []
  },
  {
   "cell_type": "code",
   "execution_count": null,
   "metadata": {},
   "outputs": [],
   "source": []
  }
 ],
 "metadata": {
  "kernelspec": {
   "display_name": "Python 3",
   "language": "python",
   "name": "python3"
  },
  "language_info": {
   "codemirror_mode": {
    "name": "ipython",
    "version": 3
   },
   "file_extension": ".py",
   "mimetype": "text/x-python",
   "name": "python",
   "nbconvert_exporter": "python",
   "pygments_lexer": "ipython3",
   "version": "3.7.1"
  }
 },
 "nbformat": 4,
 "nbformat_minor": 2
}
